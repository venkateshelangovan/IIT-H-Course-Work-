{
 "cells": [
  {
   "cell_type": "code",
   "execution_count": null,
   "metadata": {},
   "outputs": [],
   "source": [
    "\"\"\"\n",
    "# Aliter Method  : \n",
    "x=np.arange(-10,10,0.25)\n",
    "y=np.arange(-10,10,0.25)\n",
    "X,Y=np.meshgrid(x,y)\n",
    "F1=X*X-Y*Y-4*X-6*Y-6 # origin\n",
    "F2=X*X-Y*Y-1        # origin moved to the point (2,-3)\n",
    "fig,ax = plt.subplots()\n",
    "x=ax.contour(X, Y, F1,levels=[0],cmap=plt.cm.cool) # origin\n",
    "y=ax.contour(X, Y, F2, levels=[0],cmap=plt.cm.coolwarm) # origin moved\n",
    "a1=plt.axhline(0, color='black',label='origin moved to (2,-3)')\n",
    "plt.axvline(0, color='black')\n",
    "b1=plt.axhline(-3, color='red',label='Origin')\n",
    "plt.axvline(2, color='red')\n",
    "lines = [ x.collections[0], y.collections[0],a1,b1]\n",
    "labels = ['Given Hyperbola','Modified Hyperbola','Origin','Origin moved to (2,-3)']\n",
    "plt.legend(lines, labels,bbox_to_anchor=(0.8, 1), loc='lower center')\n",
    "plt.xlabel('X-axis')\n",
    "plt.ylabel('Y-axis')\n",
    "plt.show()\n",
    "\"\"\""
   ]
  }
 ],
 "metadata": {
  "kernelspec": {
   "display_name": "Python 3",
   "language": "python",
   "name": "python3"
  },
  "language_info": {
   "codemirror_mode": {
    "name": "ipython",
    "version": 3
   },
   "file_extension": ".py",
   "mimetype": "text/x-python",
   "name": "python",
   "nbconvert_exporter": "python",
   "pygments_lexer": "ipython3",
   "version": "3.7.3"
  }
 },
 "nbformat": 4,
 "nbformat_minor": 2
}
