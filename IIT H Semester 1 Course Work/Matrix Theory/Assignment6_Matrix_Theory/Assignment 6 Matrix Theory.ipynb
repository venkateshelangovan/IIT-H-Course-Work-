{
 "cells": [
  {
   "cell_type": "markdown",
   "metadata": {},
   "source": [
    "##### Assignment 6 : "
   ]
  },
  {
   "cell_type": "markdown",
   "metadata": {},
   "source": [
    "__Given Second Order equation :__ \n",
    "\n",
    "$12x^2+7xy-10y^2+13x+45y-35=0$\n",
    "\n",
    "Here , a=12,b=3.5,c=-10,d=6.5,e=22.5,f=-35"
   ]
  },
  {
   "cell_type": "code",
   "execution_count": 14,
   "metadata": {},
   "outputs": [],
   "source": [
    "# importing the libraries \n",
    "import matplotlib.pyplot as plt\n",
    "import numpy as np\n",
    "from scipy.linalg import norm\n",
    "import math"
   ]
  },
  {
   "cell_type": "code",
   "execution_count": 15,
   "metadata": {},
   "outputs": [
    {
     "name": "stdout",
     "output_type": "stream",
     "text": [
      "V\n",
      " [[ 12.    3.5]\n",
      " [  3.5 -10. ]]\n",
      "\n",
      "u\n",
      " [[ 6.5]\n",
      " [22.5]]\n",
      "\n",
      "f -35\n",
      "\n",
      "Matrix delta\n",
      " [[ 12.    3.5   6.5]\n",
      " [  3.5 -10.   22.5]\n",
      " [  6.5  22.5 -35. ]]\n",
      "\n",
      "Determinant of delta\n"
     ]
    },
    {
     "data": {
      "text/plain": [
       "-0.0"
      ]
     },
     "execution_count": 15,
     "metadata": {},
     "output_type": "execute_result"
    }
   ],
   "source": [
    "V=np.array([[12,3.5],[3.5,-10]])\n",
    "u=np.array([[6.5],[22.5]])\n",
    "f=-35\n",
    "delta=np.block([[V,u],[u.T,f]])\n",
    "print(\"V\\n\",V)\n",
    "print(\"\\nu\\n\",u)\n",
    "print(\"\\nf\",f)\n",
    "print(\"\\nMatrix delta\\n\",delta)\n",
    "print(\"\\nDeterminant of delta\")\n",
    "round(np.linalg.det(delta),10)"
   ]
  },
  {
   "cell_type": "code",
   "execution_count": 16,
   "metadata": {},
   "outputs": [
    {
     "name": "stdout",
     "output_type": "stream",
     "text": [
      "     2\n",
      "-10 x + 7 x + 12\n"
     ]
    }
   ],
   "source": [
    "p = np.poly1d([-10, 7, 12]) # form of cm^2+sbm+a=0\n",
    "print(np.poly1d(p))"
   ]
  },
  {
   "cell_type": "code",
   "execution_count": 17,
   "metadata": {},
   "outputs": [
    {
     "name": "stdout",
     "output_type": "stream",
     "text": [
      "roots [ 1.5 -0.8]\n"
     ]
    },
    {
     "data": {
      "text/plain": [
       "array([ 12.,   7., -10.])"
      ]
     },
     "execution_count": 17,
     "metadata": {},
     "output_type": "execute_result"
    }
   ],
   "source": [
    "print(\"roots\",p.roots)\n",
    "# n_i=(-m_i\\\\1)\n",
    "k1=5 \n",
    "k2=-2\n",
    "# change (k1,k2) to (-5,2),(2,-5),(10,-1),(-10,1) and verify the results\n",
    "n1=np.array([0.8*k1,k1]) #straight line 1 equation \n",
    "n2=np.array([-1.5*k2,k2]) #straight line 2 equation \n",
    "np.convolve(n1,n2)"
   ]
  },
  {
   "cell_type": "code",
   "execution_count": 18,
   "metadata": {},
   "outputs": [
    {
     "name": "stdout",
     "output_type": "stream",
     "text": [
      "Angle between the two straight lines in degrees : \n",
      "85 degrees\n"
     ]
    }
   ],
   "source": [
    "\n",
    "num=np.dot(n1,n2) \n",
    "norm1=norm(n1) #norm of normal vector n1\n",
    "norm2=norm(n2) #norm of normal vector n2\n",
    "val=num/(norm1*norm2)\n",
    "angle=round(math.degrees(math.acos(val))) #angle between two straight lines\n",
    "print(\"Angle between the two straight lines in degrees : \\n\"+str(angle)+\" degrees\")"
   ]
  },
  {
   "cell_type": "markdown",
   "metadata": {},
   "source": [
    "- Since determinant comes out to be 0,it represents __two straight lines__."
   ]
  },
  {
   "cell_type": "code",
   "execution_count": 19,
   "metadata": {},
   "outputs": [
    {
     "data": {
      "image/png": "[encoded data removed]",
      "text/plain": [
       "<Figure size 432x288 with 1 Axes>"
      ]
     },
     "metadata": {
      "needs_background": "light"
     },
     "output_type": "display_data"
    }
   ],
   "source": [
    "x = np.linspace(-5,5,100)\n",
    "y_1 = 1.5*x+3.5 # straight line 1\n",
    "y_2 = -0.8*x+1 # straighe line 2\n",
    "plt.plot(x, y_1, '-r', label='3X-2y+7=0')\n",
    "plt.title('Graph of 2y=3x+7')\n",
    "plt.plot(x, y_2, '-b', label='4X+5y-5=0')\n",
    "plt.title('Graph of two straight lines')\n",
    "plt.xlabel('x', color='#1C2833')\n",
    "plt.ylabel('y', color='#1C2833')\n",
    "plt.legend(loc='best')\n",
    "plt.grid()\n",
    "plt.show()"
   ]
  }
 ],
 "metadata": {
  "kernelspec": {
   "display_name": "Python 3",
   "language": "python",
   "name": "python3"
  },
  "language_info": {
   "codemirror_mode": {
    "name": "ipython",
    "version": 3
   },
   "file_extension": ".py",
   "mimetype": "text/x-python",
   "name": "python",
   "nbconvert_exporter": "python",
   "pygments_lexer": "ipython3",
   "version": "3.7.3"
  }
 },
 "nbformat": 4,
 "nbformat_minor": 2
}
