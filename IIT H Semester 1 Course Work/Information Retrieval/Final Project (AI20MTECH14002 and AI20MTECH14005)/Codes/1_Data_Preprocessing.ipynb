{
  "nbformat": 4,
  "nbformat_minor": 0,
  "metadata": {
    "colab": {
      "name": "IR Project: Data Preprocessing.ipynb",
      "provenance": [],
      "collapsed_sections": []
    },
    "kernelspec": {
      "name": "python3",
      "display_name": "Python 3"
    }
  },
  "cells": [
    {
      "cell_type": "markdown",
      "metadata": {
        "id": "D6ctshRL_TaZ"
      },
      "source": [
        "# **PROBLEM STATEMENT AND DATA DESCRIPTION:**"
      ]
    },
    {
      "cell_type": "markdown",
      "metadata": {
        "id": "nIO0YOA449zz"
      },
      "source": [
        "**Hostile Post Detection in Hindi** :\n",
        "       \n",
        "This subtask focuses on a variety of **hostile posts in Hindi** Devanagari script **collected from Twitter and Facebook**. The set of valid categories are fake news, hate speech, offensive, defamation, and non-hostile posts. It is a **multi-label multi-class classification problem** where each post can belong to one or more of these hostile classes. However, the non-hostile posts cannot be grouped with any other class. The evaluation of this subtask will be two-dimensional as follows:\n",
        "\n",
        "**Coarse-grained evaluation:** It is a binary evaluation of hostile vs non-hostile posts.\n",
        "\n",
        "**Fine-grained evaluation:** It is a fine-grained evaluation of the hostile classes."
      ]
    },
    {
      "cell_type": "markdown",
      "metadata": {
        "id": "jQNQlzpK6KLA"
      },
      "source": [
        "**Definitions of the class labels:**\n",
        "\n",
        "**Fake News:** A claim or information that is verified to be not true.\n",
        "\n",
        "**Hate Speech:** A post targeting a specific group of people based on their ethnicity, religious beliefs, geographical belonging, race, etc., with malicious intentions of spreading hate or encouraging violence.\n",
        "\n",
        "**Offensive:** A post containing profanity, impolite, rude, or vulgar language to insult a targeted individual or group.\n",
        "\n",
        "**Defamation:** A mis-information regarding an individual or group.\n",
        "\n",
        "**Non-hostile:** A post without any hostility."
      ]
    },
    {
      "cell_type": "markdown",
      "metadata": {
        "id": "cRAS1L2O6sUx"
      },
      "source": [
        "**Evaluation Metric:** \n",
        "\n",
        "The official evaluation metric for the shared task is  **weighted-average F1 score**.\n",
        "\n"
      ]
    },
    {
      "cell_type": "code",
      "metadata": {
        "colab": {
          "base_uri": "https://localhost:8080/"
        },
        "id": "RNGOacL24JFV",
        "outputId": "3ad51ae5-3b6c-4dc9-e2cc-29f03989b77e"
      },
      "source": [
        "# to import datasets from google drive \n",
        "from google.colab import drive\n",
        "drive.mount(\"/content/gdrive\")"
      ],
      "execution_count": null,
      "outputs": [
        {
          "output_type": "stream",
          "text": [
            "Drive already mounted at /content/gdrive; to attempt to forcibly remount, call drive.mount(\"/content/gdrive\", force_remount=True).\n"
          ],
          "name": "stdout"
        }
      ]
    },
    {
      "cell_type": "markdown",
      "metadata": {
        "id": "AQLCSYgL_kFi"
      },
      "source": [
        "# **IMPORTING THE LIBRARIES :**"
      ]
    },
    {
      "cell_type": "code",
      "metadata": {
        "id": "4nDkAjicUqot",
        "colab": {
          "base_uri": "https://localhost:8080/"
        },
        "outputId": "bc385c5b-07a1-41fc-bff8-597e8adc9275"
      },
      "source": [
        "pip install polyglot"
      ],
      "execution_count": null,
      "outputs": [
        {
          "output_type": "stream",
          "text": [
            "Collecting polyglot\n",
            "\u001b[?25l  Downloading https://files.pythonhosted.org/packages/e7/98/e24e2489114c5112b083714277204d92d372f5bbe00d5507acf40370edb9/polyglot-16.7.4.tar.gz (126kB)\n",
            "\r\u001b[K     |██▋                             | 10kB 22.9MB/s eta 0:00:01\r\u001b[K     |█████▏                          | 20kB 26.5MB/s eta 0:00:01\r\u001b[K     |███████▉                        | 30kB 15.3MB/s eta 0:00:01\r\u001b[K     |██████████▍                     | 40kB 11.1MB/s eta 0:00:01\r\u001b[K     |█████████████                   | 51kB 7.4MB/s eta 0:00:01\r\u001b[K     |███████████████▋                | 61kB 7.8MB/s eta 0:00:01\r\u001b[K     |██████████████████▏             | 71kB 8.3MB/s eta 0:00:01\r\u001b[K     |████████████████████▊           | 81kB 8.4MB/s eta 0:00:01\r\u001b[K     |███████████████████████▍        | 92kB 8.5MB/s eta 0:00:01\r\u001b[K     |██████████████████████████      | 102kB 8.8MB/s eta 0:00:01\r\u001b[K     |████████████████████████████▌   | 112kB 8.8MB/s eta 0:00:01\r\u001b[K     |███████████████████████████████▏| 122kB 8.8MB/s eta 0:00:01\r\u001b[K     |████████████████████████████████| 133kB 8.8MB/s \n",
            "\u001b[?25hBuilding wheels for collected packages: polyglot\n",
            "  Building wheel for polyglot (setup.py) ... \u001b[?25l\u001b[?25hdone\n",
            "  Created wheel for polyglot: filename=polyglot-16.7.4-py2.py3-none-any.whl size=52558 sha256=9cfd5918d7595104981985ab209e3d082db566a8cee3362843df03a47e25c644\n",
            "  Stored in directory: /root/.cache/pip/wheels/5e/91/ef/f1369fdc1203b0a9347d4b24f149b83a305f39ab047986d9da\n",
            "Successfully built polyglot\n",
            "Installing collected packages: polyglot\n",
            "Successfully installed polyglot-16.7.4\n"
          ],
          "name": "stdout"
        }
      ]
    },
    {
      "cell_type": "code",
      "metadata": {
        "id": "4dK61L1TU7f5",
        "colab": {
          "base_uri": "https://localhost:8080/"
        },
        "outputId": "c9e9c996-23d6-4e1a-ca12-1e0759ce7fb0"
      },
      "source": [
        "pip install icu"
      ],
      "execution_count": null,
      "outputs": [
        {
          "output_type": "stream",
          "text": [
            "Collecting icu\n",
            "\u001b[?25l  Downloading https://files.pythonhosted.org/packages/89/d8/0972fa39747faea092e8105103f261e01d6cefe262cbe036df8b0b8ada44/icu-0.0.1-py3-none-any.whl (49kB)\n",
            "\r\u001b[K     |██████▋                         | 10kB 22.5MB/s eta 0:00:01\r\u001b[K     |█████████████▏                  | 20kB 15.9MB/s eta 0:00:01\r\u001b[K     |███████████████████▉            | 30kB 9.9MB/s eta 0:00:01\r\u001b[K     |██████████████████████████▍     | 40kB 8.4MB/s eta 0:00:01\r\u001b[K     |████████████████████████████████| 51kB 4.2MB/s \n",
            "\u001b[?25hInstalling collected packages: icu\n",
            "Successfully installed icu-0.0.1\n"
          ],
          "name": "stdout"
        }
      ]
    },
    {
      "cell_type": "code",
      "metadata": {
        "id": "fNGdFIe0VFfg",
        "colab": {
          "base_uri": "https://localhost:8080/"
        },
        "outputId": "75d4a363-1061-44f5-d334-112142b52475"
      },
      "source": [
        "pip install -U git+https://github.com/aboSamoor/polyglot.git@master"
      ],
      "execution_count": null,
      "outputs": [
        {
          "output_type": "stream",
          "text": [
            "Collecting git+https://github.com/aboSamoor/polyglot.git@master\n",
            "  Cloning https://github.com/aboSamoor/polyglot.git (to revision master) to /tmp/pip-req-build-zl84o55s\n",
            "  Running command git clone -q https://github.com/aboSamoor/polyglot.git /tmp/pip-req-build-zl84o55s\n",
            "Collecting PyICU>=1.8\n",
            "\u001b[?25l  Downloading https://files.pythonhosted.org/packages/31/46/fa08c8efae2951e67681ec24319f789fc1a74e2096dd74373e34c79319de/PyICU-2.6.tar.gz (233kB)\n",
            "\u001b[K     |████████████████████████████████| 235kB 7.6MB/s \n",
            "\u001b[?25hRequirement already satisfied, skipping upgrade: numpy>=1.6.1 in /usr/local/lib/python3.6/dist-packages (from polyglot==16.7.4) (1.18.5)\n",
            "Requirement already satisfied, skipping upgrade: six>=1.7.3 in /usr/local/lib/python3.6/dist-packages (from polyglot==16.7.4) (1.15.0)\n",
            "Collecting pycld2>=0.3\n",
            "\u001b[?25l  Downloading https://files.pythonhosted.org/packages/21/d2/8b0def84a53c88d0eb27c67b05269fbd16ad68df8c78849e7b5d65e6aec3/pycld2-0.41.tar.gz (41.4MB)\n",
            "\u001b[K     |████████████████████████████████| 41.4MB 111kB/s \n",
            "\u001b[?25hCollecting futures>=2.1.6\n",
            "  Downloading https://files.pythonhosted.org/packages/05/80/f41cca0ea1ff69bce7e7a7d76182b47bb4e1a494380a532af3e8ee70b9ec/futures-3.1.1-py3-none-any.whl\n",
            "Requirement already satisfied, skipping upgrade: wheel>=0.23.0 in /usr/local/lib/python3.6/dist-packages (from polyglot==16.7.4) (0.36.1)\n",
            "Collecting morfessor>=2.0.2a1\n",
            "  Downloading https://files.pythonhosted.org/packages/39/e6/7afea30be2ee4d29ce9de0fa53acbb033163615f849515c0b1956ad074ee/Morfessor-2.0.6-py3-none-any.whl\n",
            "Building wheels for collected packages: polyglot, PyICU, pycld2\n",
            "  Building wheel for polyglot (setup.py) ... \u001b[?25l\u001b[?25hdone\n",
            "  Created wheel for polyglot: filename=polyglot-16.7.4-py2.py3-none-any.whl size=70644 sha256=4aa977c4c51f5e7b08d3d51f8bd24e651523773006cfc3326a64e0852a10bea6\n",
            "  Stored in directory: /tmp/pip-ephem-wheel-cache-qcue7ruf/wheels/42/d9/73/345c7ae8554299ff8b31635d64eb8455fd591385fa734cdbef\n",
            "  Building wheel for PyICU (setup.py) ... \u001b[?25l\u001b[?25hdone\n",
            "  Created wheel for PyICU: filename=PyICU-2.6-cp36-cp36m-linux_x86_64.whl size=1288406 sha256=83bc59ce0a58051bc25bc58830179bb1761291ddb648eba772d33a5d951abc8c\n",
            "  Stored in directory: /root/.cache/pip/wheels/31/21/2f/1c91831e8a93537ab21f6b4b935781b681104635fdb0315791\n",
            "  Building wheel for pycld2 (setup.py) ... \u001b[?25l\u001b[?25hdone\n",
            "  Created wheel for pycld2: filename=pycld2-0.41-cp36-cp36m-linux_x86_64.whl size=9833486 sha256=d63250037d3f93f8e84025a8a24fef4cab44c00c7e1a335d242fcc508d40eefd\n",
            "  Stored in directory: /root/.cache/pip/wheels/c6/8f/e9/08a1a8932a490175bd140206cd86a3dbcfc70498100de11079\n",
            "Successfully built polyglot PyICU pycld2\n",
            "Installing collected packages: PyICU, pycld2, futures, morfessor, polyglot\n",
            "  Found existing installation: polyglot 16.7.4\n",
            "    Uninstalling polyglot-16.7.4:\n",
            "      Successfully uninstalled polyglot-16.7.4\n",
            "Successfully installed PyICU-2.6 futures-3.1.1 morfessor-2.0.6 polyglot-16.7.4 pycld2-0.41\n"
          ],
          "name": "stdout"
        }
      ]
    },
    {
      "cell_type": "code",
      "metadata": {
        "id": "CNUXT3WHfcx0",
        "colab": {
          "base_uri": "https://localhost:8080/"
        },
        "outputId": "a37c25b3-ee0d-435a-fa82-d19f086c217a"
      },
      "source": [
        "pip install snowballstemmer"
      ],
      "execution_count": null,
      "outputs": [
        {
          "output_type": "stream",
          "text": [
            "Requirement already satisfied: snowballstemmer in /usr/local/lib/python3.6/dist-packages (2.0.0)\n"
          ],
          "name": "stdout"
        }
      ]
    },
    {
      "cell_type": "code",
      "metadata": {
        "id": "n8AbpoTl7b-1"
      },
      "source": [
        "# importing the libraries \n",
        "import os\n",
        "import itertools\n",
        "import numpy as np \n",
        "import pandas as pd \n",
        "import re \n",
        "import math as m \n",
        "import matplotlib.pyplot as plt\n",
        "import seaborn as sns\n",
        "\n",
        "import polyglot\n",
        "from polyglot.text import Text,Word\n",
        "from polyglot.downloader import downloader\n",
        "import snowballstemmer\n",
        "from snowballstemmer import HindiStemmer\n",
        "\n",
        "from sklearn.metrics import f1_score\n",
        "from sklearn.metrics import accuracy_score\n",
        "from sklearn.metrics import confusion_matrix \n",
        "from sklearn.metrics import classification_report as Report\n",
        "\n",
        "import warnings \n",
        "warnings.filterwarnings(\"ignore\")"
      ],
      "execution_count": null,
      "outputs": []
    },
    {
      "cell_type": "code",
      "metadata": {
        "id": "4oHVMudp8WzO"
      },
      "source": [
        "# to display entire rows and columns of dataframe \n",
        "pd.set_option('display.max_rows', None)\n",
        "pd.set_option('display.max_columns', None)\n",
        "pd.set_option('display.width', None)\n",
        "pd.set_option('display.max_colwidth', -1)"
      ],
      "execution_count": null,
      "outputs": []
    },
    {
      "cell_type": "markdown",
      "metadata": {
        "id": "mTWYWJGG_IdR"
      },
      "source": [
        "# **LOADING THE DATASET**  "
      ]
    },
    {
      "cell_type": "code",
      "metadata": {
        "colab": {
          "base_uri": "https://localhost:8080/",
          "height": 297
        },
        "id": "T5VqgjgK7cCR",
        "outputId": "b9f467a6-ed88-48a8-fdd0-1b729a4d3832"
      },
      "source": [
        "# read the train data \n",
        "train_df=pd.read_excel('/content/gdrive/My Drive/constraint_Hindi_Train.xlsx')\n",
        "train_df.head()"
      ],
      "execution_count": null,
      "outputs": [
        {
          "output_type": "execute_result",
          "data": {
            "text/html": [
              "<div>\n",
              "<style scoped>\n",
              "    .dataframe tbody tr th:only-of-type {\n",
              "        vertical-align: middle;\n",
              "    }\n",
              "\n",
              "    .dataframe tbody tr th {\n",
              "        vertical-align: top;\n",
              "    }\n",
              "\n",
              "    .dataframe thead th {\n",
              "        text-align: right;\n",
              "    }\n",
              "</style>\n",
              "<table border=\"1\" class=\"dataframe\">\n",
              "  <thead>\n",
              "    <tr style=\"text-align: right;\">\n",
              "      <th></th>\n",
              "      <th>Unique ID</th>\n",
              "      <th>Post</th>\n",
              "      <th>Labels Set</th>\n",
              "    </tr>\n",
              "  </thead>\n",
              "  <tbody>\n",
              "    <tr>\n",
              "      <th>0</th>\n",
              "      <td>1</td>\n",
              "      <td>मेरे देश के हिन्दु बहुत निराले है। कुछ तो पक्के राम भक्त है और कुछ बाबर के साले है \\n\\n🙏 जय श्री राम 🙏</td>\n",
              "      <td>hate,offensive</td>\n",
              "    </tr>\n",
              "    <tr>\n",
              "      <th>1</th>\n",
              "      <td>2</td>\n",
              "      <td>सरकार हमेशा से किसानों की कमाई को बढ़ाने के लिए नई-नई स्कीमें लाती रहती है, ताकि उन पर ज्यादा आर्थिक बोझ न पड़े.\\n\\nhttps://t.co/8iy2MJSBAs</td>\n",
              "      <td>non-hostile</td>\n",
              "    </tr>\n",
              "    <tr>\n",
              "      <th>2</th>\n",
              "      <td>3</td>\n",
              "      <td>सुशांत ने जो बिजनेस डील 9 जून को की थी, वो डील दीपेश को सुशांत की हत्या के दिन ही क्यों याद आई? देखिए 'पूछता है भारत' अर्नब के साथ रिपब्लिक भारत पर #LIVE :  https://t.co/G945HvzM0Z https://t.co/KfH7xF1IdM</td>\n",
              "      <td>non-hostile</td>\n",
              "    </tr>\n",
              "    <tr>\n",
              "      <th>3</th>\n",
              "      <td>4</td>\n",
              "      <td>@prabhav218 साले जेएनयू छाप कमिने लोग हिन्दुओं को यह कहते है की संविधान सबको बराबर अधिकार देता है। सच्चाई यह है कि यह बराबर अधिकार नहीं देता है।</td>\n",
              "      <td>defamation,offensive</td>\n",
              "    </tr>\n",
              "    <tr>\n",
              "      <th>4</th>\n",
              "      <td>5</td>\n",
              "      <td>#unlock4guidelines - अनलॉक-4 के लिए गाइडलाइन्स जारी\\n\\n- 7 सितंबर से देशभर में मेट्रो सेवा शुरु होगी\\n- 21 सितंबर के बाद रैलियों और बाकी फंक्शन में 100 लोगों को इजाजत\\n- कंटेनमेंट जोन में कोई छूट नहीं\\n- सिनेमाहॉल अभी बंद रहेंगे\\n- 9 से 12वीं के छात्र 21 सितंबर के बाद स्कूल जा सकेंगे. https://t.co/4e6lysg0VR</td>\n",
              "      <td>non-hostile</td>\n",
              "    </tr>\n",
              "  </tbody>\n",
              "</table>\n",
              "</div>"
            ],
            "text/plain": [
              "   Unique ID  \\\n",
              "0  1           \n",
              "1  2           \n",
              "2  3           \n",
              "3  4           \n",
              "4  5           \n",
              "\n",
              "                                                                                                                                                                                                                                                                                                                    Post  \\\n",
              "0  मेरे देश के हिन्दु बहुत निराले है। कुछ तो पक्के राम भक्त है और कुछ बाबर के साले है \\n\\n🙏 जय श्री राम 🙏                                                                                                                                                                                                                  \n",
              "1  सरकार हमेशा से किसानों की कमाई को बढ़ाने के लिए नई-नई स्कीमें लाती रहती है, ताकि उन पर ज्यादा आर्थिक बोझ न पड़े.\\n\\nhttps://t.co/8iy2MJSBAs                                                                                                                                                                             \n",
              "2  सुशांत ने जो बिजनेस डील 9 जून को की थी, वो डील दीपेश को सुशांत की हत्या के दिन ही क्यों याद आई? देखिए 'पूछता है भारत' अर्नब के साथ रिपब्लिक भारत पर #LIVE :  https://t.co/G945HvzM0Z https://t.co/KfH7xF1IdM                                                                                                            \n",
              "3  @prabhav218 साले जेएनयू छाप कमिने लोग हिन्दुओं को यह कहते है की संविधान सबको बराबर अधिकार देता है। सच्चाई यह है कि यह बराबर अधिकार नहीं देता है।                                                                                                                                                                        \n",
              "4  #unlock4guidelines - अनलॉक-4 के लिए गाइडलाइन्स जारी\\n\\n- 7 सितंबर से देशभर में मेट्रो सेवा शुरु होगी\\n- 21 सितंबर के बाद रैलियों और बाकी फंक्शन में 100 लोगों को इजाजत\\n- कंटेनमेंट जोन में कोई छूट नहीं\\n- सिनेमाहॉल अभी बंद रहेंगे\\n- 9 से 12वीं के छात्र 21 सितंबर के बाद स्कूल जा सकेंगे. https://t.co/4e6lysg0VR   \n",
              "\n",
              "             Labels Set  \n",
              "0  hate,offensive        \n",
              "1  non-hostile           \n",
              "2  non-hostile           \n",
              "3  defamation,offensive  \n",
              "4  non-hostile           "
            ]
          },
          "metadata": {
            "tags": []
          },
          "execution_count": 14
        }
      ]
    },
    {
      "cell_type": "code",
      "metadata": {
        "colab": {
          "base_uri": "https://localhost:8080/",
          "height": 297
        },
        "id": "7QNVzwVn9UuV",
        "outputId": "678839f4-c134-4195-85ca-b6feac00e946"
      },
      "source": [
        "# read the validate data \n",
        "validate_df=pd.read_excel('/content/gdrive/My Drive/Constraint_Hindi_Valid.xlsx')\n",
        "validate_df.head()"
      ],
      "execution_count": null,
      "outputs": [
        {
          "output_type": "execute_result",
          "data": {
            "text/html": [
              "<div>\n",
              "<style scoped>\n",
              "    .dataframe tbody tr th:only-of-type {\n",
              "        vertical-align: middle;\n",
              "    }\n",
              "\n",
              "    .dataframe tbody tr th {\n",
              "        vertical-align: top;\n",
              "    }\n",
              "\n",
              "    .dataframe thead th {\n",
              "        text-align: right;\n",
              "    }\n",
              "</style>\n",
              "<table border=\"1\" class=\"dataframe\">\n",
              "  <thead>\n",
              "    <tr style=\"text-align: right;\">\n",
              "      <th></th>\n",
              "      <th>Unique ID</th>\n",
              "      <th>Post</th>\n",
              "      <th>Labels Set</th>\n",
              "    </tr>\n",
              "  </thead>\n",
              "  <tbody>\n",
              "    <tr>\n",
              "      <th>0</th>\n",
              "      <td>1</td>\n",
              "      <td>दृढ़ इच्छा शक्ति से परिपूर्ण प्रणबदा के लिए देशहित सर्वोच्च रहा।\\n\\nउनका निधन हम सब के लिए अपूरणीय क्षति है।\\nईश्वर दिवंगत आत्मा को अपने श्रीचरणों में स्थान दें। शोक संतप्त परिजनों के प्रति संवेदनाएं।\\nऊं शांति!!!</td>\n",
              "      <td>non-hostile</td>\n",
              "    </tr>\n",
              "    <tr>\n",
              "      <th>1</th>\n",
              "      <td>2</td>\n",
              "      <td>भारतीय जनता पार्टी rss वाले इतने गिरे हुए हैं जहां मैं रहती हूं वहां मेरी जासूसी  करा रहें है उसकी जासूस की पहचान मुझे अच्छी तरह है rss बीजेपी वाले की जासूस दिल्ली में कौन है उत्तर प्रदेश में कौन है हरियाणा राजस्थान में कौन है सबकी पहचान है मुझे मेरी नजर से बच नहीं सकते हो</td>\n",
              "      <td>defamation</td>\n",
              "    </tr>\n",
              "    <tr>\n",
              "      <th>2</th>\n",
              "      <td>3</td>\n",
              "      <td>कोरोना से निपटने की तैयारी / दिल्ली में 10 हजार बेड वाला दुनिया का सबसे बड़ा कोविड केयर सेंटर शुरू, राजनाथ-शाह ने डीआरडीओ के 1 हजार बेड वाले सेंटर का भी उद्घाटन किया\\nhttps://t.co/9rlQowAsFh #Delhi @ArvindKejriwal  @rajnathsingh @AmitShah @DRDO_India @WHO @crpfindia @ITBP_official</td>\n",
              "      <td>non-hostile</td>\n",
              "    </tr>\n",
              "    <tr>\n",
              "      <th>3</th>\n",
              "      <td>4</td>\n",
              "      <td>गवर्नर कॉन्फ्रेंस में PM मोदी बोले- शिक्षा नीति में सरकार का दखल कम होना चाहिए\\nhttps://t.co/ZvKgxk6dbd</td>\n",
              "      <td>non-hostile</td>\n",
              "    </tr>\n",
              "    <tr>\n",
              "      <th>4</th>\n",
              "      <td>5</td>\n",
              "      <td>यूपी: गाजीपुर में Toilet घोटाला, प्रधान व सचिव ने किया लाखों का गबन, मुर्दों के नाम पर बनवा डाले शौचालय\\n\\n#UP\\nhttps://t.co/hxM1uNNmX2</td>\n",
              "      <td>non-hostile</td>\n",
              "    </tr>\n",
              "  </tbody>\n",
              "</table>\n",
              "</div>"
            ],
            "text/plain": [
              "   Unique ID  \\\n",
              "0  1           \n",
              "1  2           \n",
              "2  3           \n",
              "3  4           \n",
              "4  5           \n",
              "\n",
              "                                                                                                                                                                                                                                                                                        Post  \\\n",
              "0  दृढ़ इच्छा शक्ति से परिपूर्ण प्रणबदा के लिए देशहित सर्वोच्च रहा।\\n\\nउनका निधन हम सब के लिए अपूरणीय क्षति है।\\nईश्वर दिवंगत आत्मा को अपने श्रीचरणों में स्थान दें। शोक संतप्त परिजनों के प्रति संवेदनाएं।\\nऊं शांति!!!                                                                       \n",
              "1  भारतीय जनता पार्टी rss वाले इतने गिरे हुए हैं जहां मैं रहती हूं वहां मेरी जासूसी  करा रहें है उसकी जासूस की पहचान मुझे अच्छी तरह है rss बीजेपी वाले की जासूस दिल्ली में कौन है उत्तर प्रदेश में कौन है हरियाणा राजस्थान में कौन है सबकी पहचान है मुझे मेरी नजर से बच नहीं सकते हो           \n",
              "2  कोरोना से निपटने की तैयारी / दिल्ली में 10 हजार बेड वाला दुनिया का सबसे बड़ा कोविड केयर सेंटर शुरू, राजनाथ-शाह ने डीआरडीओ के 1 हजार बेड वाले सेंटर का भी उद्घाटन किया\\nhttps://t.co/9rlQowAsFh #Delhi @ArvindKejriwal  @rajnathsingh @AmitShah @DRDO_India @WHO @crpfindia @ITBP_official   \n",
              "3  गवर्नर कॉन्फ्रेंस में PM मोदी बोले- शिक्षा नीति में सरकार का दखल कम होना चाहिए\\nhttps://t.co/ZvKgxk6dbd                                                                                                                                                                                     \n",
              "4  यूपी: गाजीपुर में Toilet घोटाला, प्रधान व सचिव ने किया लाखों का गबन, मुर्दों के नाम पर बनवा डाले शौचालय\\n\\n#UP\\nhttps://t.co/hxM1uNNmX2                                                                                                                                                     \n",
              "\n",
              "    Labels Set  \n",
              "0  non-hostile  \n",
              "1  defamation   \n",
              "2  non-hostile  \n",
              "3  non-hostile  \n",
              "4  non-hostile  "
            ]
          },
          "metadata": {
            "tags": []
          },
          "execution_count": 15
        }
      ]
    },
    {
      "cell_type": "code",
      "metadata": {
        "id": "ISAdaN1V9Dap"
      },
      "source": [
        "# data check\n",
        "def about_the_data(dataset):\n",
        "  \"\"\"\n",
        "  input  : dataset \n",
        "  prints : first 5 rows of dataset , shape of dataset , information about output class label of dataset\n",
        "  \"\"\"\n",
        "  print(dataset.head())\n",
        "  print(\"--------------------------------------------------------------------------------------------\")\n",
        "  print(\"Shape of dataset : \\n\")\n",
        "  print(dataset.shape)\n",
        "  print(\"--------------------------------------------------------------------------------------------\")\n",
        "  print(dataset['Labels Set'].unique())\n",
        "  print(\"--------------------------------------------------------------------------------------------\")\n",
        "  print(dataset['Labels Set'].value_counts())"
      ],
      "execution_count": null,
      "outputs": []
    },
    {
      "cell_type": "code",
      "metadata": {
        "colab": {
          "base_uri": "https://localhost:8080/"
        },
        "id": "HX5-8SuE7v8z",
        "outputId": "9ab61477-68fe-487a-9cd4-1c70e6eb5aff"
      },
      "source": [
        "# details about train data \n",
        "print(\"TRAIN DATASET : \")\n",
        "print(\"----------------------------------------------------------------------------------------------\")\n",
        "about_the_data(train_df)"
      ],
      "execution_count": null,
      "outputs": [
        {
          "output_type": "stream",
          "text": [
            "TRAIN DATASET : \n",
            "----------------------------------------------------------------------------------------------\n",
            "   Unique ID  \\\n",
            "0  1           \n",
            "1  2           \n",
            "2  3           \n",
            "3  4           \n",
            "4  5           \n",
            "\n",
            "                                                                                                                                                                                                                                                                                                                    Post  \\\n",
            "0  मेरे देश के हिन्दु बहुत निराले है। कुछ तो पक्के राम भक्त है और कुछ बाबर के साले है \\n\\n🙏 जय श्री राम 🙏                                                                                                                                                                                                                  \n",
            "1  सरकार हमेशा से किसानों की कमाई को बढ़ाने के लिए नई-नई स्कीमें लाती रहती है, ताकि उन पर ज्यादा आर्थिक बोझ न पड़े.\\n\\nhttps://t.co/8iy2MJSBAs                                                                                                                                                                             \n",
            "2  सुशांत ने जो बिजनेस डील 9 जून को की थी, वो डील दीपेश को सुशांत की हत्या के दिन ही क्यों याद आई? देखिए 'पूछता है भारत' अर्नब के साथ रिपब्लिक भारत पर #LIVE :  https://t.co/G945HvzM0Z https://t.co/KfH7xF1IdM                                                                                                            \n",
            "3  @prabhav218 साले जेएनयू छाप कमिने लोग हिन्दुओं को यह कहते है की संविधान सबको बराबर अधिकार देता है। सच्चाई यह है कि यह बराबर अधिकार नहीं देता है।                                                                                                                                                                        \n",
            "4  #unlock4guidelines - अनलॉक-4 के लिए गाइडलाइन्स जारी\\n\\n- 7 सितंबर से देशभर में मेट्रो सेवा शुरु होगी\\n- 21 सितंबर के बाद रैलियों और बाकी फंक्शन में 100 लोगों को इजाजत\\n- कंटेनमेंट जोन में कोई छूट नहीं\\n- सिनेमाहॉल अभी बंद रहेंगे\\n- 9 से 12वीं के छात्र 21 सितंबर के बाद स्कूल जा सकेंगे. https://t.co/4e6lysg0VR   \n",
            "\n",
            "             Labels Set  \n",
            "0  hate,offensive        \n",
            "1  non-hostile           \n",
            "2  non-hostile           \n",
            "3  defamation,offensive  \n",
            "4  non-hostile           \n",
            "--------------------------------------------------------------------------------------------\n",
            "Shape of dataset : \n",
            "\n",
            "(5728, 3)\n",
            "--------------------------------------------------------------------------------------------\n",
            "['hate,offensive' 'non-hostile' 'defamation,offensive' 'fake' 'hate'\n",
            " 'offensive' 'fake,hate' 'defamation' 'defamation,hate'\n",
            " 'defamation,hate,offensive' 'defamation,fake,offensive' 'fake,offensive'\n",
            " 'defamation,fake' 'defamation,fake,hate' 'fake,hate,offensive'\n",
            " 'defamation,fake,hate,offensive']\n",
            "--------------------------------------------------------------------------------------------\n",
            "non-hostile                       3050\n",
            "fake                              1009\n",
            "hate                              478 \n",
            "offensive                         405 \n",
            "defamation                        305 \n",
            "hate,offensive                    163 \n",
            "defamation,offensive              81  \n",
            "defamation,hate                   74  \n",
            "defamation,fake                   34  \n",
            "defamation,hate,offensive         28  \n",
            "fake,offensive                    28  \n",
            "fake,hate                         27  \n",
            "defamation,fake,offensive         24  \n",
            "defamation,fake,hate              9   \n",
            "defamation,fake,hate,offensive    9   \n",
            "fake,hate,offensive               4   \n",
            "Name: Labels Set, dtype: int64\n"
          ],
          "name": "stdout"
        }
      ]
    },
    {
      "cell_type": "code",
      "metadata": {
        "colab": {
          "base_uri": "https://localhost:8080/"
        },
        "id": "lOAoMWU_7wAB",
        "outputId": "919ba473-a2ec-45e5-b5e9-f9a9b183af93"
      },
      "source": [
        "# details about validate data \n",
        "print(\"VALIDATION DATASET : \")\n",
        "print(\"----------------------------------------------------------------------------------------------\")\n",
        "about_the_data(validate_df)"
      ],
      "execution_count": null,
      "outputs": [
        {
          "output_type": "stream",
          "text": [
            "VALIDATION DATASET : \n",
            "----------------------------------------------------------------------------------------------\n",
            "   Unique ID  \\\n",
            "0  1           \n",
            "1  2           \n",
            "2  3           \n",
            "3  4           \n",
            "4  5           \n",
            "\n",
            "                                                                                                                                                                                                                                                                                        Post  \\\n",
            "0  दृढ़ इच्छा शक्ति से परिपूर्ण प्रणबदा के लिए देशहित सर्वोच्च रहा।\\n\\nउनका निधन हम सब के लिए अपूरणीय क्षति है।\\nईश्वर दिवंगत आत्मा को अपने श्रीचरणों में स्थान दें। शोक संतप्त परिजनों के प्रति संवेदनाएं।\\nऊं शांति!!!                                                                       \n",
            "1  भारतीय जनता पार्टी rss वाले इतने गिरे हुए हैं जहां मैं रहती हूं वहां मेरी जासूसी  करा रहें है उसकी जासूस की पहचान मुझे अच्छी तरह है rss बीजेपी वाले की जासूस दिल्ली में कौन है उत्तर प्रदेश में कौन है हरियाणा राजस्थान में कौन है सबकी पहचान है मुझे मेरी नजर से बच नहीं सकते हो           \n",
            "2  कोरोना से निपटने की तैयारी / दिल्ली में 10 हजार बेड वाला दुनिया का सबसे बड़ा कोविड केयर सेंटर शुरू, राजनाथ-शाह ने डीआरडीओ के 1 हजार बेड वाले सेंटर का भी उद्घाटन किया\\nhttps://t.co/9rlQowAsFh #Delhi @ArvindKejriwal  @rajnathsingh @AmitShah @DRDO_India @WHO @crpfindia @ITBP_official   \n",
            "3  गवर्नर कॉन्फ्रेंस में PM मोदी बोले- शिक्षा नीति में सरकार का दखल कम होना चाहिए\\nhttps://t.co/ZvKgxk6dbd                                                                                                                                                                                     \n",
            "4  यूपी: गाजीपुर में Toilet घोटाला, प्रधान व सचिव ने किया लाखों का गबन, मुर्दों के नाम पर बनवा डाले शौचालय\\n\\n#UP\\nhttps://t.co/hxM1uNNmX2                                                                                                                                                     \n",
            "\n",
            "    Labels Set  \n",
            "0  non-hostile  \n",
            "1  defamation   \n",
            "2  non-hostile  \n",
            "3  non-hostile  \n",
            "4  non-hostile  \n",
            "--------------------------------------------------------------------------------------------\n",
            "Shape of dataset : \n",
            "\n",
            "(811, 3)\n",
            "--------------------------------------------------------------------------------------------\n",
            "['non-hostile' 'defamation' 'fake' 'offensive' 'hate,offensive' 'hate'\n",
            " 'fake,offensive' 'defamation,fake,offensive' 'defamation,hate'\n",
            " 'defamation,offensive' 'defamation,fake,hate'\n",
            " 'defamation,fake,hate,offensive' 'defamation,hate,offensive' 'fake,hate'\n",
            " 'defamation,fake']\n",
            "--------------------------------------------------------------------------------------------\n",
            "non-hostile                       435\n",
            "fake                              144\n",
            "hate                              68 \n",
            "offensive                         57 \n",
            "defamation                        43 \n",
            "hate,offensive                    23 \n",
            "defamation,offensive              11 \n",
            "defamation,hate                   10 \n",
            "defamation,hate,offensive         4  \n",
            "fake,offensive                    4  \n",
            "defamation,fake                   4  \n",
            "defamation,fake,offensive         3  \n",
            "fake,hate                         3  \n",
            "defamation,fake,hate,offensive    1  \n",
            "defamation,fake,hate              1  \n",
            "Name: Labels Set, dtype: int64\n"
          ],
          "name": "stdout"
        }
      ]
    },
    {
      "cell_type": "markdown",
      "metadata": {
        "id": "g6xnjgND_Eig"
      },
      "source": [
        "# **DATA PRE-PROCESSING:**"
      ]
    },
    {
      "cell_type": "markdown",
      "metadata": {
        "id": "0t-SHma4AmFw"
      },
      "source": [
        "### **Remove Punctuations and Special Characters:**"
      ]
    },
    {
      "cell_type": "code",
      "metadata": {
        "id": "ulDouEx08Icm"
      },
      "source": [
        "# this function removes punctuations and special characters in the dataset\n",
        "def PunctuationsAndSpecialSymbolsRemover(data):\n",
        "  \"\"\"\n",
        "  input   : post data from train or validation or test data (list)\n",
        "  returns : cleaned post with punctuations and special symbols removed \n",
        "  \"\"\"\n",
        "  non_needed_symbols = '''!()-…[]{};₹:“।|”'\"\\,<>./?@#$%^&*+_~'''\n",
        "  cleaned_list=[]\n",
        "  for line in data:\n",
        "    cleaned_text=\"\"\n",
        "    for x in line:\n",
        "      if x in non_needed_symbols:\n",
        "        cleaned_text=cleaned_text+\" \"\n",
        "      elif x not in non_needed_symbols:\n",
        "        cleaned_text=cleaned_text+x\n",
        "    cleaned_list.append(cleaned_text)\n",
        "  return cleaned_list"
      ],
      "execution_count": null,
      "outputs": []
    },
    {
      "cell_type": "markdown",
      "metadata": {
        "id": "iQwnY7aHBn5i"
      },
      "source": [
        "### **Remove New Lines:** "
      ]
    },
    {
      "cell_type": "code",
      "metadata": {
        "id": "lPWElN6j8IfT"
      },
      "source": [
        "# remove new lines notation \"\\n\"\n",
        "def remove_newlines(data):\n",
        "  \"\"\"\n",
        "  input   : post data from train or validation or test data (list)\n",
        "  returns : cleaned data with newlines ('\\n') symbols removed \n",
        "  \"\"\"\n",
        "  modified_data=[]\n",
        "  for line in data:\n",
        "    new_line=re.compile(\"[\"u\"\\u000A\" #newlines\n",
        "                           \"]+\", flags=re.UNICODE)\n",
        "    cleaned_text=new_line.sub(r'', line)\n",
        "    modified_data.append(cleaned_text)\n",
        "  return modified_data"
      ],
      "execution_count": null,
      "outputs": []
    },
    {
      "cell_type": "markdown",
      "metadata": {
        "id": "h7J1__SDCGUS"
      },
      "source": [
        "### **Remove HyperLinks:** "
      ]
    },
    {
      "cell_type": "code",
      "metadata": {
        "id": "tR1a-DJ58Ih_"
      },
      "source": [
        "# this function removes entire hyperlink \n",
        "def HyperLinkRemover(data):\n",
        "  \"\"\"\n",
        "  input   : post data from train or validation or test data (list)\n",
        "  returns : cleaned data with hyperlinks in the posts removed\n",
        "  \"\"\"\n",
        "  non_hyperlink_text=[]\n",
        "  for line in data:\n",
        "    cleaned_text=re.sub(r\"http\\S+\", \"\", line)\n",
        "    non_hyperlink_text.append(cleaned_text)\n",
        "  return non_hyperlink_text"
      ],
      "execution_count": null,
      "outputs": []
    },
    {
      "cell_type": "markdown",
      "metadata": {
        "id": "n0_Pe1rsCtvA"
      },
      "source": [
        "### **Remove the Emojis:**"
      ]
    },
    {
      "cell_type": "code",
      "metadata": {
        "id": "7OnhUPVO8Ikn"
      },
      "source": [
        "# remove the emojis from the post \n",
        "def emojiRemover(data):\n",
        "  \"\"\"\n",
        "  input   : post data from train or validation or test data (list)\n",
        "  returns : cleaned data with all the emojis used in the post gets removed\n",
        "  \"\"\"\n",
        "  emoji_less_data=[]\n",
        "  for line in data:\n",
        "    emoji_pattern=re.compile(\"[\"\n",
        "                           u\"\\U0001F601-\\U0001F64F\"  # emoticons\n",
        "                           u\"\\U0001F300-\\U0001F5FF\"  # symbols & pictographs\n",
        "                           u\"\\U0001F680-\\U0001F6C0\"  # transport & map symbols\n",
        "                           u\"\\U0001F1E0-\\U0001F1FF\"  # flags (iOS)\n",
        "                           u\"\\U00002702-\\U000027B0\"  # Dingbats\n",
        "                           u\"\\U000024C2-\\U0001F251\"  # Enclosed characters\n",
        "                           u\"\\U0001F600-\\U0001F636\"  # Additional emoticons\n",
        "                           u\"\\U0001F681-\\U0001F6C5\"  # Additional transport & map symbols\n",
        "                           u\"\\U0001F30D-\\U0001F567\"  # Additional\n",
        "                            u\"\\U0001f926-\\U0001f937\"\n",
        "                            u\"\\u000A\" #newlines\n",
        "                               u\"\\U00010000-\\U0010ffff\"\n",
        "                               u\"\\u2640-\\u2642\"\n",
        "                               u\"\\u2600-\\u2B55\"\n",
        "                               u\"\\u200d\"\n",
        "                               u\"\\u23cf\"\n",
        "                               u\"\\u23e9\"\n",
        "                               u\"\\u231a\"\n",
        "                               u\"\\ufe0f\"  # dingbats\n",
        "                               u\"\\u3030\"\n",
        "                               u\"\\u2022\" # bullets \n",
        "                           \"]+\", flags=re.UNICODE)\n",
        "    cleaned_text=emoji_pattern.sub(r'', line)\n",
        "    #cleaned_text=uncategorized_emojis(cleaned_text)\n",
        "    emoji_less_data.append(cleaned_text)\n",
        "  return emoji_less_data"
      ],
      "execution_count": null,
      "outputs": []
    },
    {
      "cell_type": "markdown",
      "metadata": {
        "id": "ippNDdHr8u7S"
      },
      "source": [
        "### **Remove Stopwords :**"
      ]
    },
    {
      "cell_type": "markdown",
      "metadata": {
        "id": "nYhXpJfd9w1x"
      },
      "source": [
        "[STOP WORDS IN HINDI](https://data.mendeley.com/datasets/bsr3frvvjc/1)"
      ]
    },
    {
      "cell_type": "code",
      "metadata": {
        "colab": {
          "base_uri": "https://localhost:8080/"
        },
        "id": "YTq958qo80zk",
        "outputId": "a13e31ac-c077-4048-9754-2a633974d978"
      },
      "source": [
        "hindi_stop_words = []\r\n",
        "with open('final_stopwords.txt','r') as file: \r\n",
        "  for word in file: \r\n",
        "    # reading each word         \r\n",
        "    for w in word.split(): \r\n",
        "      hindi_stop_words.append(w)\r\n",
        "print(\"Number of Hindi Stopwords : \",len(hindi_stop_words))"
      ],
      "execution_count": null,
      "outputs": [
        {
          "output_type": "stream",
          "text": [
            "Number of Hindi Stopwords :  291\n"
          ],
          "name": "stdout"
        }
      ]
    },
    {
      "cell_type": "code",
      "metadata": {
        "id": "t7la_Lkv-PMB"
      },
      "source": [
        "def remove_stopwords(data):\r\n",
        "  \"\"\"\r\n",
        "  input   : post data from train or validation or test data (list)\r\n",
        "  returns : cleaned data with all the stopwords removed \r\n",
        "  \"\"\"\r\n",
        "  stop_words_removed_data=[]\r\n",
        "  for line in data:\r\n",
        "    cleaned_data=\"\"\r\n",
        "    for word in line.split(\" \"):\r\n",
        "      if word not in hindi_stop_words:\r\n",
        "        cleaned_data=cleaned_data+word+\" \"\r\n",
        "    stop_words_removed_data.append(cleaned_data)\r\n",
        "  return stop_words_removed_data"
      ],
      "execution_count": null,
      "outputs": []
    },
    {
      "cell_type": "markdown",
      "metadata": {
        "id": "unW8NITeDehv"
      },
      "source": [
        "### **Create Datasets:**"
      ]
    },
    {
      "cell_type": "markdown",
      "metadata": {
        "id": "mJ71sRfqH7wW"
      },
      "source": [
        "##### **Cleaned Datasets:**"
      ]
    },
    {
      "cell_type": "code",
      "metadata": {
        "id": "9sTKPyNs8IoO"
      },
      "source": [
        "# function to do data-preprocessing \n",
        "def pre_processesing(data):\n",
        "  \"\"\"\n",
        "  input   : post data from train or validation or test data (list)\n",
        "  returns : cleaned data with all pre-processesing steps performed \n",
        "  \"\"\"\n",
        "  data=HyperLinkRemover(data)\n",
        "  data=PunctuationsAndSpecialSymbolsRemover(data)\n",
        "  data=emojiRemover(data)\n",
        "  data=remove_newlines(data)\n",
        "  #data=remove_stopwords(data)\n",
        "  return data\n",
        "\n",
        "# function to return the cleaned data \n",
        "def cleaned_xlsx(dataset,function=pre_processesing):\n",
        "  \"\"\"\n",
        "  input   : dataset \n",
        "  function: default - pre_processesing function\n",
        "                can be changed to either emoji remover,new liner remover ,hyperlink remover etc.\n",
        "  returns : dataset with post content cleaned \n",
        "  \"\"\"\n",
        "  cleaned_df_hindi=pd.DataFrame()\n",
        "  cleaned_df_hindi['Unique ID']=dataset['Unique ID']\n",
        "  data=dataset['Post']\n",
        "  cleaned_df_hindi['Post']=function(data)\n",
        "  cleaned_df_hindi['Labels Set']=dataset['Labels Set']\n",
        "  return cleaned_df_hindi"
      ],
      "execution_count": null,
      "outputs": []
    },
    {
      "cell_type": "code",
      "metadata": {
        "id": "xRwQoIH1urvz",
        "colab": {
          "base_uri": "https://localhost:8080/",
          "height": 102
        },
        "outputId": "b12529df-eea9-4e6c-9ce9-6c198812e8c0"
      },
      "source": [
        "\"\"\"\n",
        "train_emoji=cleaned_xlsx(train_df,emojiRemover)\n",
        "train_punctuations=cleaned_xlsx(train_df,PunctuationsAndSpecialSymbolsRemover)\n",
        "train_hyperlinks=cleaned_xlsx(train_df,HyperLinkRemover)\n",
        "train_newlines=cleaned_xlsx(train_df,remove_newlines)\n",
        "validate_emoji=cleaned_xlsx(validate_df,emojiRemover)\n",
        "validate_punctuations=cleaned_xlsx(validate_df,PunctuationsAndSpecialSymbolsRemover)\n",
        "validate_hyperlinks=cleaned_xlsx(validate_df,HyperLinkRemover)\n",
        "validate_newlines=cleaned_xlsx(validate_df,remove_newlines)\n",
        "\"\"\""
      ],
      "execution_count": null,
      "outputs": [
        {
          "output_type": "execute_result",
          "data": {
            "application/vnd.google.colaboratory.intrinsic+json": {
              "type": "string"
            },
            "text/plain": [
              "'\\ntrain_emoji=cleaned_xlsx(train_df,emojiRemover)\\ntrain_punctuations=cleaned_xlsx(train_df,PunctuationsAndSpecialSymbolsRemover)\\ntrain_hyperlinks=cleaned_xlsx(train_df,HyperLinkRemover)\\ntrain_newlines=cleaned_xlsx(train_df,remove_newlines)\\nvalidate_emoji=cleaned_xlsx(validate_df,emojiRemover)\\nvalidate_punctuations=cleaned_xlsx(validate_df,PunctuationsAndSpecialSymbolsRemover)\\nvalidate_hyperlinks=cleaned_xlsx(validate_df,HyperLinkRemover)\\nvalidate_newlines=cleaned_xlsx(validate_df,remove_newlines)\\n'"
            ]
          },
          "metadata": {
            "tags": []
          },
          "execution_count": 37
        }
      ]
    },
    {
      "cell_type": "code",
      "metadata": {
        "id": "hBwSsYPhDm50"
      },
      "source": [
        "# cleaned train dataset \n",
        "cleaned_train_df=cleaned_xlsx(train_df)\n",
        "\n",
        "# cleaned validate dataset\n",
        "cleaned_validate_df=cleaned_xlsx(validate_df)"
      ],
      "execution_count": null,
      "outputs": []
    },
    {
      "cell_type": "code",
      "metadata": {
        "colab": {
          "base_uri": "https://localhost:8080/",
          "height": 280
        },
        "id": "gtmYFdC4_2XA",
        "outputId": "4d0a768c-fd48-4742-bb7e-2f4a0a003f7c"
      },
      "source": [
        "x=cleaned_train_df.head()\r\n",
        "x"
      ],
      "execution_count": null,
      "outputs": [
        {
          "output_type": "execute_result",
          "data": {
            "text/html": [
              "<div>\n",
              "<style scoped>\n",
              "    .dataframe tbody tr th:only-of-type {\n",
              "        vertical-align: middle;\n",
              "    }\n",
              "\n",
              "    .dataframe tbody tr th {\n",
              "        vertical-align: top;\n",
              "    }\n",
              "\n",
              "    .dataframe thead th {\n",
              "        text-align: right;\n",
              "    }\n",
              "</style>\n",
              "<table border=\"1\" class=\"dataframe\">\n",
              "  <thead>\n",
              "    <tr style=\"text-align: right;\">\n",
              "      <th></th>\n",
              "      <th>Unique ID</th>\n",
              "      <th>Post</th>\n",
              "      <th>Labels Set</th>\n",
              "    </tr>\n",
              "  </thead>\n",
              "  <tbody>\n",
              "    <tr>\n",
              "      <th>0</th>\n",
              "      <td>1</td>\n",
              "      <td>मेरे देश के हिन्दु बहुत निराले है  कुछ तो पक्के राम भक्त है और कुछ बाबर के साले है  जय श्री राम</td>\n",
              "      <td>hate,offensive</td>\n",
              "    </tr>\n",
              "    <tr>\n",
              "      <th>1</th>\n",
              "      <td>2</td>\n",
              "      <td>सरकार हमेशा से किसानों की कमाई को बढ़ाने के लिए नई नई स्कीमें लाती रहती है  ताकि उन पर ज्यादा आर्थिक बोझ न पड़े</td>\n",
              "      <td>non-hostile</td>\n",
              "    </tr>\n",
              "    <tr>\n",
              "      <th>2</th>\n",
              "      <td>3</td>\n",
              "      <td>सुशांत ने जो बिजनेस डील 9 जून को की थी  वो डील दीपेश को सुशांत की हत्या के दिन ही क्यों याद आई  देखिए  पूछता है भारत  अर्नब के साथ रिपब्लिक भारत पर  LIVE</td>\n",
              "      <td>non-hostile</td>\n",
              "    </tr>\n",
              "    <tr>\n",
              "      <th>3</th>\n",
              "      <td>4</td>\n",
              "      <td>prabhav218 साले जेएनयू छाप कमिने लोग हिन्दुओं को यह कहते है की संविधान सबको बराबर अधिकार देता है  सच्चाई यह है कि यह बराबर अधिकार नहीं देता है</td>\n",
              "      <td>defamation,offensive</td>\n",
              "    </tr>\n",
              "    <tr>\n",
              "      <th>4</th>\n",
              "      <td>5</td>\n",
              "      <td>unlock4guidelines   अनलॉक 4 के लिए गाइडलाइन्स जारी  7 सितंबर से देशभर में मेट्रो सेवा शुरु होगी  21 सितंबर के बाद रैलियों और बाकी फंक्शन में 100 लोगों को इजाजत  कंटेनमेंट जोन में कोई छूट नहीं  सिनेमाहॉल अभी बंद रहेंगे  9 से 12वीं के छात्र 21 सितंबर के बाद स्कूल जा सकेंगे</td>\n",
              "      <td>non-hostile</td>\n",
              "    </tr>\n",
              "  </tbody>\n",
              "</table>\n",
              "</div>"
            ],
            "text/plain": [
              "   Unique ID  \\\n",
              "0  1           \n",
              "1  2           \n",
              "2  3           \n",
              "3  4           \n",
              "4  5           \n",
              "\n",
              "                                                                                                                                                                                                                                                                                 Post  \\\n",
              "0  मेरे देश के हिन्दु बहुत निराले है  कुछ तो पक्के राम भक्त है और कुछ बाबर के साले है  जय श्री राम                                                                                                                                                                                      \n",
              "1  सरकार हमेशा से किसानों की कमाई को बढ़ाने के लिए नई नई स्कीमें लाती रहती है  ताकि उन पर ज्यादा आर्थिक बोझ न पड़े                                                                                                                                                                      \n",
              "2  सुशांत ने जो बिजनेस डील 9 जून को की थी  वो डील दीपेश को सुशांत की हत्या के दिन ही क्यों याद आई  देखिए  पूछता है भारत  अर्नब के साथ रिपब्लिक भारत पर  LIVE                                                                                                                            \n",
              "3   prabhav218 साले जेएनयू छाप कमिने लोग हिन्दुओं को यह कहते है की संविधान सबको बराबर अधिकार देता है  सच्चाई यह है कि यह बराबर अधिकार नहीं देता है                                                                                                                                      \n",
              "4   unlock4guidelines   अनलॉक 4 के लिए गाइडलाइन्स जारी  7 सितंबर से देशभर में मेट्रो सेवा शुरु होगी  21 सितंबर के बाद रैलियों और बाकी फंक्शन में 100 लोगों को इजाजत  कंटेनमेंट जोन में कोई छूट नहीं  सिनेमाहॉल अभी बंद रहेंगे  9 से 12वीं के छात्र 21 सितंबर के बाद स्कूल जा सकेंगे     \n",
              "\n",
              "             Labels Set  \n",
              "0  hate,offensive        \n",
              "1  non-hostile           \n",
              "2  non-hostile           \n",
              "3  defamation,offensive  \n",
              "4  non-hostile           "
            ]
          },
          "metadata": {
            "tags": []
          },
          "execution_count": 39
        }
      ]
    },
    {
      "cell_type": "code",
      "metadata": {
        "colab": {
          "base_uri": "https://localhost:8080/",
          "height": 280
        },
        "id": "yDvbKI2tDm8I",
        "outputId": "8d0ad777-2af4-4160-ca85-08c1cde66857"
      },
      "source": [
        "cleaned_train_df.head()"
      ],
      "execution_count": null,
      "outputs": [
        {
          "output_type": "execute_result",
          "data": {
            "text/html": [
              "<div>\n",
              "<style scoped>\n",
              "    .dataframe tbody tr th:only-of-type {\n",
              "        vertical-align: middle;\n",
              "    }\n",
              "\n",
              "    .dataframe tbody tr th {\n",
              "        vertical-align: top;\n",
              "    }\n",
              "\n",
              "    .dataframe thead th {\n",
              "        text-align: right;\n",
              "    }\n",
              "</style>\n",
              "<table border=\"1\" class=\"dataframe\">\n",
              "  <thead>\n",
              "    <tr style=\"text-align: right;\">\n",
              "      <th></th>\n",
              "      <th>Unique ID</th>\n",
              "      <th>Post</th>\n",
              "      <th>Labels Set</th>\n",
              "    </tr>\n",
              "  </thead>\n",
              "  <tbody>\n",
              "    <tr>\n",
              "      <th>0</th>\n",
              "      <td>1</td>\n",
              "      <td>मेरे देश के हिन्दु बहुत निराले है  कुछ तो पक्के राम भक्त है और कुछ बाबर के साले है  जय श्री राम</td>\n",
              "      <td>hate,offensive</td>\n",
              "    </tr>\n",
              "    <tr>\n",
              "      <th>1</th>\n",
              "      <td>2</td>\n",
              "      <td>सरकार हमेशा से किसानों की कमाई को बढ़ाने के लिए नई नई स्कीमें लाती रहती है  ताकि उन पर ज्यादा आर्थिक बोझ न पड़े</td>\n",
              "      <td>non-hostile</td>\n",
              "    </tr>\n",
              "    <tr>\n",
              "      <th>2</th>\n",
              "      <td>3</td>\n",
              "      <td>सुशांत ने जो बिजनेस डील 9 जून को की थी  वो डील दीपेश को सुशांत की हत्या के दिन ही क्यों याद आई  देखिए  पूछता है भारत  अर्नब के साथ रिपब्लिक भारत पर  LIVE</td>\n",
              "      <td>non-hostile</td>\n",
              "    </tr>\n",
              "    <tr>\n",
              "      <th>3</th>\n",
              "      <td>4</td>\n",
              "      <td>prabhav218 साले जेएनयू छाप कमिने लोग हिन्दुओं को यह कहते है की संविधान सबको बराबर अधिकार देता है  सच्चाई यह है कि यह बराबर अधिकार नहीं देता है</td>\n",
              "      <td>defamation,offensive</td>\n",
              "    </tr>\n",
              "    <tr>\n",
              "      <th>4</th>\n",
              "      <td>5</td>\n",
              "      <td>unlock4guidelines   अनलॉक 4 के लिए गाइडलाइन्स जारी  7 सितंबर से देशभर में मेट्रो सेवा शुरु होगी  21 सितंबर के बाद रैलियों और बाकी फंक्शन में 100 लोगों को इजाजत  कंटेनमेंट जोन में कोई छूट नहीं  सिनेमाहॉल अभी बंद रहेंगे  9 से 12वीं के छात्र 21 सितंबर के बाद स्कूल जा सकेंगे</td>\n",
              "      <td>non-hostile</td>\n",
              "    </tr>\n",
              "  </tbody>\n",
              "</table>\n",
              "</div>"
            ],
            "text/plain": [
              "   Unique ID  \\\n",
              "0  1           \n",
              "1  2           \n",
              "2  3           \n",
              "3  4           \n",
              "4  5           \n",
              "\n",
              "                                                                                                                                                                                                                                                                                 Post  \\\n",
              "0  मेरे देश के हिन्दु बहुत निराले है  कुछ तो पक्के राम भक्त है और कुछ बाबर के साले है  जय श्री राम                                                                                                                                                                                      \n",
              "1  सरकार हमेशा से किसानों की कमाई को बढ़ाने के लिए नई नई स्कीमें लाती रहती है  ताकि उन पर ज्यादा आर्थिक बोझ न पड़े                                                                                                                                                                      \n",
              "2  सुशांत ने जो बिजनेस डील 9 जून को की थी  वो डील दीपेश को सुशांत की हत्या के दिन ही क्यों याद आई  देखिए  पूछता है भारत  अर्नब के साथ रिपब्लिक भारत पर  LIVE                                                                                                                            \n",
              "3   prabhav218 साले जेएनयू छाप कमिने लोग हिन्दुओं को यह कहते है की संविधान सबको बराबर अधिकार देता है  सच्चाई यह है कि यह बराबर अधिकार नहीं देता है                                                                                                                                      \n",
              "4   unlock4guidelines   अनलॉक 4 के लिए गाइडलाइन्स जारी  7 सितंबर से देशभर में मेट्रो सेवा शुरु होगी  21 सितंबर के बाद रैलियों और बाकी फंक्शन में 100 लोगों को इजाजत  कंटेनमेंट जोन में कोई छूट नहीं  सिनेमाहॉल अभी बंद रहेंगे  9 से 12वीं के छात्र 21 सितंबर के बाद स्कूल जा सकेंगे     \n",
              "\n",
              "             Labels Set  \n",
              "0  hate,offensive        \n",
              "1  non-hostile           \n",
              "2  non-hostile           \n",
              "3  defamation,offensive  \n",
              "4  non-hostile           "
            ]
          },
          "metadata": {
            "tags": []
          },
          "execution_count": 40
        }
      ]
    },
    {
      "cell_type": "code",
      "metadata": {
        "colab": {
          "base_uri": "https://localhost:8080/",
          "height": 263
        },
        "id": "XiPr2jbmDm_u",
        "outputId": "d59c2e12-53da-4a4e-be98-976bb484e46c"
      },
      "source": [
        "cleaned_validate_df.head()"
      ],
      "execution_count": null,
      "outputs": [
        {
          "output_type": "execute_result",
          "data": {
            "text/html": [
              "<div>\n",
              "<style scoped>\n",
              "    .dataframe tbody tr th:only-of-type {\n",
              "        vertical-align: middle;\n",
              "    }\n",
              "\n",
              "    .dataframe tbody tr th {\n",
              "        vertical-align: top;\n",
              "    }\n",
              "\n",
              "    .dataframe thead th {\n",
              "        text-align: right;\n",
              "    }\n",
              "</style>\n",
              "<table border=\"1\" class=\"dataframe\">\n",
              "  <thead>\n",
              "    <tr style=\"text-align: right;\">\n",
              "      <th></th>\n",
              "      <th>Unique ID</th>\n",
              "      <th>Post</th>\n",
              "      <th>Labels Set</th>\n",
              "    </tr>\n",
              "  </thead>\n",
              "  <tbody>\n",
              "    <tr>\n",
              "      <th>0</th>\n",
              "      <td>1</td>\n",
              "      <td>दृढ़ इच्छा शक्ति से परिपूर्ण प्रणबदा के लिए देशहित सर्वोच्च रहा उनका निधन हम सब के लिए अपूरणीय क्षति है ईश्वर दिवंगत आत्मा को अपने श्रीचरणों में स्थान दें  शोक संतप्त परिजनों के प्रति संवेदनाएं ऊं शांति</td>\n",
              "      <td>non-hostile</td>\n",
              "    </tr>\n",
              "    <tr>\n",
              "      <th>1</th>\n",
              "      <td>2</td>\n",
              "      <td>भारतीय जनता पार्टी rss वाले इतने गिरे हुए हैं जहां मैं रहती हूं वहां मेरी जासूसी  करा रहें है उसकी जासूस की पहचान मुझे अच्छी तरह है rss बीजेपी वाले की जासूस दिल्ली में कौन है उत्तर प्रदेश में कौन है हरियाणा राजस्थान में कौन है सबकी पहचान है मुझे मेरी नजर से बच नहीं सकते हो</td>\n",
              "      <td>defamation</td>\n",
              "    </tr>\n",
              "    <tr>\n",
              "      <th>2</th>\n",
              "      <td>3</td>\n",
              "      <td>कोरोना से निपटने की तैयारी   दिल्ली में 10 हजार बेड वाला दुनिया का सबसे बड़ा कोविड केयर सेंटर शुरू  राजनाथ शाह ने डीआरडीओ के 1 हजार बेड वाले सेंटर का भी उद्घाटन किया  Delhi  ArvindKejriwal   rajnathsingh  AmitShah  DRDO India  WHO  crpfindia  ITBP official</td>\n",
              "      <td>non-hostile</td>\n",
              "    </tr>\n",
              "    <tr>\n",
              "      <th>3</th>\n",
              "      <td>4</td>\n",
              "      <td>गवर्नर कॉन्फ्रेंस में PM मोदी बोले  शिक्षा नीति में सरकार का दखल कम होना चाहिए</td>\n",
              "      <td>non-hostile</td>\n",
              "    </tr>\n",
              "    <tr>\n",
              "      <th>4</th>\n",
              "      <td>5</td>\n",
              "      <td>यूपी  गाजीपुर में Toilet घोटाला  प्रधान व सचिव ने किया लाखों का गबन  मुर्दों के नाम पर बनवा डाले शौचालय UP</td>\n",
              "      <td>non-hostile</td>\n",
              "    </tr>\n",
              "  </tbody>\n",
              "</table>\n",
              "</div>"
            ],
            "text/plain": [
              "   Unique ID  \\\n",
              "0  1           \n",
              "1  2           \n",
              "2  3           \n",
              "3  4           \n",
              "4  5           \n",
              "\n",
              "                                                                                                                                                                                                                                                                                Post  \\\n",
              "0  दृढ़ इच्छा शक्ति से परिपूर्ण प्रणबदा के लिए देशहित सर्वोच्च रहा उनका निधन हम सब के लिए अपूरणीय क्षति है ईश्वर दिवंगत आत्मा को अपने श्रीचरणों में स्थान दें  शोक संतप्त परिजनों के प्रति संवेदनाएं ऊं शांति                                                                          \n",
              "1  भारतीय जनता पार्टी rss वाले इतने गिरे हुए हैं जहां मैं रहती हूं वहां मेरी जासूसी  करा रहें है उसकी जासूस की पहचान मुझे अच्छी तरह है rss बीजेपी वाले की जासूस दिल्ली में कौन है उत्तर प्रदेश में कौन है हरियाणा राजस्थान में कौन है सबकी पहचान है मुझे मेरी नजर से बच नहीं सकते हो   \n",
              "2  कोरोना से निपटने की तैयारी   दिल्ली में 10 हजार बेड वाला दुनिया का सबसे बड़ा कोविड केयर सेंटर शुरू  राजनाथ शाह ने डीआरडीओ के 1 हजार बेड वाले सेंटर का भी उद्घाटन किया  Delhi  ArvindKejriwal   rajnathsingh  AmitShah  DRDO India  WHO  crpfindia  ITBP official                    \n",
              "3  गवर्नर कॉन्फ्रेंस में PM मोदी बोले  शिक्षा नीति में सरकार का दखल कम होना चाहिए                                                                                                                                                                                                      \n",
              "4  यूपी  गाजीपुर में Toilet घोटाला  प्रधान व सचिव ने किया लाखों का गबन  मुर्दों के नाम पर बनवा डाले शौचालय UP                                                                                                                                                                          \n",
              "\n",
              "    Labels Set  \n",
              "0  non-hostile  \n",
              "1  defamation   \n",
              "2  non-hostile  \n",
              "3  non-hostile  \n",
              "4  non-hostile  "
            ]
          },
          "metadata": {
            "tags": []
          },
          "execution_count": 41
        }
      ]
    },
    {
      "cell_type": "markdown",
      "metadata": {
        "id": "UXcPX1nbFee_"
      },
      "source": [
        "##### **Creating the Dataset for Binary Classification:** "
      ]
    },
    {
      "cell_type": "code",
      "metadata": {
        "id": "u87TEqdjEJZi"
      },
      "source": [
        "# binary classification labels either hostile or non - hostile\n",
        "def binary_labels(data):\n",
        "  \"\"\"\n",
        "  input   :output label set (list) \n",
        "  returns :list of output labels which has non-hostile if given input is non-hostile else hostile \n",
        "  \"\"\"\n",
        "  labels=['non-hostile']\n",
        "  modified_labels=[]\n",
        "  for x in data:\n",
        "    if x not in labels:\n",
        "      modified_labels.append(\"hostile\")\n",
        "    else:\n",
        "      modified_labels.append(\"non-hostile\")\n",
        "  return modified_labels\n",
        "\n",
        "# binary classification dataset is created using this function \n",
        "def make_binary_class_dataset(dataset):\n",
        "  \"\"\"\n",
        "  input   : dataset \n",
        "  returns : dataset with output labels changed to either hostile or non-hostile for binary classification \n",
        "  \"\"\"\n",
        "  binary_df_hindi=pd.DataFrame()\n",
        "  binary_df_hindi['Unique ID']=dataset['Unique ID']\n",
        "  binary_df_hindi['Post']=dataset['Post']\n",
        "  data=dataset['Labels Set']\n",
        "  binary_df_hindi['Labels Set']=binary_labels(data)\n",
        "  return binary_df_hindi"
      ],
      "execution_count": null,
      "outputs": []
    },
    {
      "cell_type": "code",
      "metadata": {
        "colab": {
          "base_uri": "https://localhost:8080/",
          "height": 280
        },
        "id": "fjVMjWNKEJcI",
        "outputId": "c63cbb17-40d3-48a0-d8a1-94e63daac2e1"
      },
      "source": [
        "# binary classification train data \n",
        "binary_train_df=make_binary_class_dataset(cleaned_train_df)\n",
        "binary_train_df.head()"
      ],
      "execution_count": null,
      "outputs": [
        {
          "output_type": "execute_result",
          "data": {
            "text/html": [
              "<div>\n",
              "<style scoped>\n",
              "    .dataframe tbody tr th:only-of-type {\n",
              "        vertical-align: middle;\n",
              "    }\n",
              "\n",
              "    .dataframe tbody tr th {\n",
              "        vertical-align: top;\n",
              "    }\n",
              "\n",
              "    .dataframe thead th {\n",
              "        text-align: right;\n",
              "    }\n",
              "</style>\n",
              "<table border=\"1\" class=\"dataframe\">\n",
              "  <thead>\n",
              "    <tr style=\"text-align: right;\">\n",
              "      <th></th>\n",
              "      <th>Unique ID</th>\n",
              "      <th>Post</th>\n",
              "      <th>Labels Set</th>\n",
              "    </tr>\n",
              "  </thead>\n",
              "  <tbody>\n",
              "    <tr>\n",
              "      <th>0</th>\n",
              "      <td>1</td>\n",
              "      <td>मेरे देश के हिन्दु बहुत निराले है  कुछ तो पक्के राम भक्त है और कुछ बाबर के साले है  जय श्री राम</td>\n",
              "      <td>hostile</td>\n",
              "    </tr>\n",
              "    <tr>\n",
              "      <th>1</th>\n",
              "      <td>2</td>\n",
              "      <td>सरकार हमेशा से किसानों की कमाई को बढ़ाने के लिए नई नई स्कीमें लाती रहती है  ताकि उन पर ज्यादा आर्थिक बोझ न पड़े</td>\n",
              "      <td>non-hostile</td>\n",
              "    </tr>\n",
              "    <tr>\n",
              "      <th>2</th>\n",
              "      <td>3</td>\n",
              "      <td>सुशांत ने जो बिजनेस डील 9 जून को की थी  वो डील दीपेश को सुशांत की हत्या के दिन ही क्यों याद आई  देखिए  पूछता है भारत  अर्नब के साथ रिपब्लिक भारत पर  LIVE</td>\n",
              "      <td>non-hostile</td>\n",
              "    </tr>\n",
              "    <tr>\n",
              "      <th>3</th>\n",
              "      <td>4</td>\n",
              "      <td>prabhav218 साले जेएनयू छाप कमिने लोग हिन्दुओं को यह कहते है की संविधान सबको बराबर अधिकार देता है  सच्चाई यह है कि यह बराबर अधिकार नहीं देता है</td>\n",
              "      <td>hostile</td>\n",
              "    </tr>\n",
              "    <tr>\n",
              "      <th>4</th>\n",
              "      <td>5</td>\n",
              "      <td>unlock4guidelines   अनलॉक 4 के लिए गाइडलाइन्स जारी  7 सितंबर से देशभर में मेट्रो सेवा शुरु होगी  21 सितंबर के बाद रैलियों और बाकी फंक्शन में 100 लोगों को इजाजत  कंटेनमेंट जोन में कोई छूट नहीं  सिनेमाहॉल अभी बंद रहेंगे  9 से 12वीं के छात्र 21 सितंबर के बाद स्कूल जा सकेंगे</td>\n",
              "      <td>non-hostile</td>\n",
              "    </tr>\n",
              "  </tbody>\n",
              "</table>\n",
              "</div>"
            ],
            "text/plain": [
              "   Unique ID  \\\n",
              "0  1           \n",
              "1  2           \n",
              "2  3           \n",
              "3  4           \n",
              "4  5           \n",
              "\n",
              "                                                                                                                                                                                                                                                                                 Post  \\\n",
              "0  मेरे देश के हिन्दु बहुत निराले है  कुछ तो पक्के राम भक्त है और कुछ बाबर के साले है  जय श्री राम                                                                                                                                                                                      \n",
              "1  सरकार हमेशा से किसानों की कमाई को बढ़ाने के लिए नई नई स्कीमें लाती रहती है  ताकि उन पर ज्यादा आर्थिक बोझ न पड़े                                                                                                                                                                      \n",
              "2  सुशांत ने जो बिजनेस डील 9 जून को की थी  वो डील दीपेश को सुशांत की हत्या के दिन ही क्यों याद आई  देखिए  पूछता है भारत  अर्नब के साथ रिपब्लिक भारत पर  LIVE                                                                                                                            \n",
              "3   prabhav218 साले जेएनयू छाप कमिने लोग हिन्दुओं को यह कहते है की संविधान सबको बराबर अधिकार देता है  सच्चाई यह है कि यह बराबर अधिकार नहीं देता है                                                                                                                                      \n",
              "4   unlock4guidelines   अनलॉक 4 के लिए गाइडलाइन्स जारी  7 सितंबर से देशभर में मेट्रो सेवा शुरु होगी  21 सितंबर के बाद रैलियों और बाकी फंक्शन में 100 लोगों को इजाजत  कंटेनमेंट जोन में कोई छूट नहीं  सिनेमाहॉल अभी बंद रहेंगे  9 से 12वीं के छात्र 21 सितंबर के बाद स्कूल जा सकेंगे     \n",
              "\n",
              "    Labels Set  \n",
              "0  hostile      \n",
              "1  non-hostile  \n",
              "2  non-hostile  \n",
              "3  hostile      \n",
              "4  non-hostile  "
            ]
          },
          "metadata": {
            "tags": []
          },
          "execution_count": 43
        }
      ]
    },
    {
      "cell_type": "code",
      "metadata": {
        "colab": {
          "base_uri": "https://localhost:8080/",
          "height": 297
        },
        "id": "xoHTCMxeEJew",
        "outputId": "c40da0ba-cb87-4494-832a-a5469ca986e2"
      },
      "source": [
        "# binary classification validate data \n",
        "binary_validate_df=make_binary_class_dataset(cleaned_validate_df)\n",
        "binary_validate_df.head()"
      ],
      "execution_count": null,
      "outputs": [
        {
          "output_type": "execute_result",
          "data": {
            "text/html": [
              "<div>\n",
              "<style scoped>\n",
              "    .dataframe tbody tr th:only-of-type {\n",
              "        vertical-align: middle;\n",
              "    }\n",
              "\n",
              "    .dataframe tbody tr th {\n",
              "        vertical-align: top;\n",
              "    }\n",
              "\n",
              "    .dataframe thead th {\n",
              "        text-align: right;\n",
              "    }\n",
              "</style>\n",
              "<table border=\"1\" class=\"dataframe\">\n",
              "  <thead>\n",
              "    <tr style=\"text-align: right;\">\n",
              "      <th></th>\n",
              "      <th>Unique ID</th>\n",
              "      <th>Post</th>\n",
              "      <th>Labels Set</th>\n",
              "    </tr>\n",
              "  </thead>\n",
              "  <tbody>\n",
              "    <tr>\n",
              "      <th>0</th>\n",
              "      <td>1</td>\n",
              "      <td>दृढ़ इच्छा शक्ति से परिपूर्ण प्रणबदा के लिए देशहित सर्वोच्च रहा उनका निधन हम सब के लिए अपूरणीय क्षति है ईश्वर दिवंगत आत्मा को अपने श्रीचरणों में स्थान दें  शोक संतप्त परिजनों के प्रति संवेदनाएं ऊं शांति</td>\n",
              "      <td>non-hostile</td>\n",
              "    </tr>\n",
              "    <tr>\n",
              "      <th>1</th>\n",
              "      <td>2</td>\n",
              "      <td>भारतीय जनता पार्टी rss वाले इतने गिरे हुए हैं जहां मैं रहती हूं वहां मेरी जासूसी  करा रहें है उसकी जासूस की पहचान मुझे अच्छी तरह है rss बीजेपी वाले की जासूस दिल्ली में कौन है उत्तर प्रदेश में कौन है हरियाणा राजस्थान में कौन है सबकी पहचान है मुझे मेरी नजर से बच नहीं सकते हो</td>\n",
              "      <td>hostile</td>\n",
              "    </tr>\n",
              "    <tr>\n",
              "      <th>2</th>\n",
              "      <td>3</td>\n",
              "      <td>कोरोना से निपटने की तैयारी   दिल्ली में 10 हजार बेड वाला दुनिया का सबसे बड़ा कोविड केयर सेंटर शुरू  राजनाथ शाह ने डीआरडीओ के 1 हजार बेड वाले सेंटर का भी उद्घाटन किया  Delhi  ArvindKejriwal   rajnathsingh  AmitShah  DRDO India  WHO  crpfindia  ITBP official</td>\n",
              "      <td>non-hostile</td>\n",
              "    </tr>\n",
              "    <tr>\n",
              "      <th>3</th>\n",
              "      <td>4</td>\n",
              "      <td>गवर्नर कॉन्फ्रेंस में PM मोदी बोले  शिक्षा नीति में सरकार का दखल कम होना चाहिए</td>\n",
              "      <td>non-hostile</td>\n",
              "    </tr>\n",
              "    <tr>\n",
              "      <th>4</th>\n",
              "      <td>5</td>\n",
              "      <td>यूपी  गाजीपुर में Toilet घोटाला  प्रधान व सचिव ने किया लाखों का गबन  मुर्दों के नाम पर बनवा डाले शौचालय UP</td>\n",
              "      <td>non-hostile</td>\n",
              "    </tr>\n",
              "  </tbody>\n",
              "</table>\n",
              "</div>"
            ],
            "text/plain": [
              "   Unique ID  \\\n",
              "0  1           \n",
              "1  2           \n",
              "2  3           \n",
              "3  4           \n",
              "4  5           \n",
              "\n",
              "                                                                                                                                                                                                                                                                                Post  \\\n",
              "0  दृढ़ इच्छा शक्ति से परिपूर्ण प्रणबदा के लिए देशहित सर्वोच्च रहा उनका निधन हम सब के लिए अपूरणीय क्षति है ईश्वर दिवंगत आत्मा को अपने श्रीचरणों में स्थान दें  शोक संतप्त परिजनों के प्रति संवेदनाएं ऊं शांति                                                                          \n",
              "1  भारतीय जनता पार्टी rss वाले इतने गिरे हुए हैं जहां मैं रहती हूं वहां मेरी जासूसी  करा रहें है उसकी जासूस की पहचान मुझे अच्छी तरह है rss बीजेपी वाले की जासूस दिल्ली में कौन है उत्तर प्रदेश में कौन है हरियाणा राजस्थान में कौन है सबकी पहचान है मुझे मेरी नजर से बच नहीं सकते हो   \n",
              "2  कोरोना से निपटने की तैयारी   दिल्ली में 10 हजार बेड वाला दुनिया का सबसे बड़ा कोविड केयर सेंटर शुरू  राजनाथ शाह ने डीआरडीओ के 1 हजार बेड वाले सेंटर का भी उद्घाटन किया  Delhi  ArvindKejriwal   rajnathsingh  AmitShah  DRDO India  WHO  crpfindia  ITBP official                    \n",
              "3  गवर्नर कॉन्फ्रेंस में PM मोदी बोले  शिक्षा नीति में सरकार का दखल कम होना चाहिए                                                                                                                                                                                                      \n",
              "4  यूपी  गाजीपुर में Toilet घोटाला  प्रधान व सचिव ने किया लाखों का गबन  मुर्दों के नाम पर बनवा डाले शौचालय UP                                                                                                                                                                          \n",
              "\n",
              "    Labels Set  \n",
              "0  non-hostile  \n",
              "1  hostile      \n",
              "2  non-hostile  \n",
              "3  non-hostile  \n",
              "4  non-hostile  "
            ]
          },
          "metadata": {
            "tags": []
          },
          "execution_count": 44
        }
      ]
    },
    {
      "cell_type": "code",
      "metadata": {
        "colab": {
          "base_uri": "https://localhost:8080/"
        },
        "id": "PIiRoC3NEJha",
        "outputId": "5571fd0b-d33b-4242-f8e0-41e8c688ccef"
      },
      "source": [
        "# details about the binary_train data \n",
        "about_the_data(binary_train_df)"
      ],
      "execution_count": null,
      "outputs": [
        {
          "output_type": "stream",
          "text": [
            "   Unique ID  \\\n",
            "0  1           \n",
            "1  2           \n",
            "2  3           \n",
            "3  4           \n",
            "4  5           \n",
            "\n",
            "                                                                                                                                                                                                                                                                                 Post  \\\n",
            "0  मेरे देश के हिन्दु बहुत निराले है  कुछ तो पक्के राम भक्त है और कुछ बाबर के साले है  जय श्री राम                                                                                                                                                                                      \n",
            "1  सरकार हमेशा से किसानों की कमाई को बढ़ाने के लिए नई नई स्कीमें लाती रहती है  ताकि उन पर ज्यादा आर्थिक बोझ न पड़े                                                                                                                                                                      \n",
            "2  सुशांत ने जो बिजनेस डील 9 जून को की थी  वो डील दीपेश को सुशांत की हत्या के दिन ही क्यों याद आई  देखिए  पूछता है भारत  अर्नब के साथ रिपब्लिक भारत पर  LIVE                                                                                                                            \n",
            "3   prabhav218 साले जेएनयू छाप कमिने लोग हिन्दुओं को यह कहते है की संविधान सबको बराबर अधिकार देता है  सच्चाई यह है कि यह बराबर अधिकार नहीं देता है                                                                                                                                      \n",
            "4   unlock4guidelines   अनलॉक 4 के लिए गाइडलाइन्स जारी  7 सितंबर से देशभर में मेट्रो सेवा शुरु होगी  21 सितंबर के बाद रैलियों और बाकी फंक्शन में 100 लोगों को इजाजत  कंटेनमेंट जोन में कोई छूट नहीं  सिनेमाहॉल अभी बंद रहेंगे  9 से 12वीं के छात्र 21 सितंबर के बाद स्कूल जा सकेंगे     \n",
            "\n",
            "    Labels Set  \n",
            "0  hostile      \n",
            "1  non-hostile  \n",
            "2  non-hostile  \n",
            "3  hostile      \n",
            "4  non-hostile  \n",
            "--------------------------------------------------------------------------------------------\n",
            "Shape of dataset : \n",
            "\n",
            "(5728, 3)\n",
            "--------------------------------------------------------------------------------------------\n",
            "['hostile' 'non-hostile']\n",
            "--------------------------------------------------------------------------------------------\n",
            "non-hostile    3050\n",
            "hostile        2678\n",
            "Name: Labels Set, dtype: int64\n"
          ],
          "name": "stdout"
        }
      ]
    },
    {
      "cell_type": "code",
      "metadata": {
        "colab": {
          "base_uri": "https://localhost:8080/"
        },
        "id": "uecd1VfzEJk_",
        "outputId": "28b74d71-cf74-4ef1-8595-f5925ba8560e"
      },
      "source": [
        "# details about the binary_validate data \n",
        "about_the_data(binary_validate_df)"
      ],
      "execution_count": null,
      "outputs": [
        {
          "output_type": "stream",
          "text": [
            "   Unique ID  \\\n",
            "0  1           \n",
            "1  2           \n",
            "2  3           \n",
            "3  4           \n",
            "4  5           \n",
            "\n",
            "                                                                                                                                                                                                                                                                                Post  \\\n",
            "0  दृढ़ इच्छा शक्ति से परिपूर्ण प्रणबदा के लिए देशहित सर्वोच्च रहा उनका निधन हम सब के लिए अपूरणीय क्षति है ईश्वर दिवंगत आत्मा को अपने श्रीचरणों में स्थान दें  शोक संतप्त परिजनों के प्रति संवेदनाएं ऊं शांति                                                                          \n",
            "1  भारतीय जनता पार्टी rss वाले इतने गिरे हुए हैं जहां मैं रहती हूं वहां मेरी जासूसी  करा रहें है उसकी जासूस की पहचान मुझे अच्छी तरह है rss बीजेपी वाले की जासूस दिल्ली में कौन है उत्तर प्रदेश में कौन है हरियाणा राजस्थान में कौन है सबकी पहचान है मुझे मेरी नजर से बच नहीं सकते हो   \n",
            "2  कोरोना से निपटने की तैयारी   दिल्ली में 10 हजार बेड वाला दुनिया का सबसे बड़ा कोविड केयर सेंटर शुरू  राजनाथ शाह ने डीआरडीओ के 1 हजार बेड वाले सेंटर का भी उद्घाटन किया  Delhi  ArvindKejriwal   rajnathsingh  AmitShah  DRDO India  WHO  crpfindia  ITBP official                    \n",
            "3  गवर्नर कॉन्फ्रेंस में PM मोदी बोले  शिक्षा नीति में सरकार का दखल कम होना चाहिए                                                                                                                                                                                                      \n",
            "4  यूपी  गाजीपुर में Toilet घोटाला  प्रधान व सचिव ने किया लाखों का गबन  मुर्दों के नाम पर बनवा डाले शौचालय UP                                                                                                                                                                          \n",
            "\n",
            "    Labels Set  \n",
            "0  non-hostile  \n",
            "1  hostile      \n",
            "2  non-hostile  \n",
            "3  non-hostile  \n",
            "4  non-hostile  \n",
            "--------------------------------------------------------------------------------------------\n",
            "Shape of dataset : \n",
            "\n",
            "(811, 3)\n",
            "--------------------------------------------------------------------------------------------\n",
            "['non-hostile' 'hostile']\n",
            "--------------------------------------------------------------------------------------------\n",
            "non-hostile    435\n",
            "hostile        376\n",
            "Name: Labels Set, dtype: int64\n"
          ],
          "name": "stdout"
        }
      ]
    },
    {
      "cell_type": "markdown",
      "metadata": {
        "id": "j3-72XlgHsL6"
      },
      "source": [
        "##### **Dataset with output label as one-hot vectors:**\n",
        "\n",
        "\n",
        "\n"
      ]
    },
    {
      "cell_type": "code",
      "metadata": {
        "id": "uN96UvdpIuSU"
      },
      "source": [
        "# convert the output labels to one hot vectors \n",
        "def vector_labels(data,h=1):\n",
        "  \"\"\"\n",
        "  input   : data(list) , h=1\n",
        "  returns : one-hot encoded vectors for entire dataset by default and if h=0 it returns it returns one-hot encoded vectors\n",
        "            for hostile data only \n",
        "  \"\"\"\n",
        "  final_labels_vectors=[]\n",
        "  for x in data:\n",
        "    vec=[0]*5\n",
        "    l=list(x.split(','))\n",
        "    for y in l:\n",
        "      if vec[0]!=1 and y=='non-hostile':\n",
        "        vec[0]=1\n",
        "      if vec[1]!=1 and y==\"defamation\":\n",
        "        vec[1]=1\n",
        "      if vec[2]!=1 and y==\"fake\":\n",
        "        vec[2]=1\n",
        "      if vec[3]!=1 and y==\"hate\":\n",
        "        vec[3]=1\n",
        "      if vec[4]!=1 and y==\"offensive\":\n",
        "        vec[4]=1\n",
        "    if h==1:\n",
        "      final_labels_vectors.append(vec)\n",
        "    else:\n",
        "      final_labels_vectors.append(vec[1:])\n",
        "  return final_labels_vectors\n",
        "\n",
        "# function to return the dataset with output as one-hot vectors \n",
        "def labelsToVectors(dataset,h=1):\n",
        "  \"\"\"\n",
        "  input   : dataset \n",
        "      h   : default 1 --- 5 labels converting to 5 hot vectors\n",
        "            if 0 --- 4 labels converting to 4 hot vectors\n",
        "  returns : dataset with output labels modified to one-hot vectors (h=1 for entire data and h=0 for hostile data only)\n",
        "  \"\"\"\n",
        "  labelsvec_df_hindi=pd.DataFrame()\n",
        "  labelsvec_df_hindi['Unique ID']=dataset['Unique ID']\n",
        "  labelsvec_df_hindi['Post']=dataset['Post']\n",
        "  data=dataset['Labels Set']\n",
        "  if h==1:\n",
        "    labelsvec_df_hindi['Labels Set']=vector_labels(data)\n",
        "  else:\n",
        "    labelsvec_df_hindi['Labels Set']=vector_labels(data,0)\n",
        "  return labelsvec_df_hindi\n",
        "\n",
        "# 5 one-hot vectors \n",
        "outputlabel5_train_df=labelsToVectors(cleaned_train_df)\n",
        "outputlabel5_validate_df=labelsToVectors(cleaned_validate_df)\n",
        "\n",
        "# 4 one-hot vectors \n",
        "outputlabel4_train_df=labelsToVectors(cleaned_train_df[cleaned_train_df[\"Labels Set\"] != 'non-hostile'].reset_index(drop=True),0)\n",
        "outputlabel4_validate_df=labelsToVectors(cleaned_validate_df[cleaned_validate_df[\"Labels Set\"] != 'non-hostile'].reset_index(drop=True),0)"
      ],
      "execution_count": null,
      "outputs": []
    },
    {
      "cell_type": "code",
      "metadata": {
        "colab": {
          "base_uri": "https://localhost:8080/",
          "height": 297
        },
        "id": "q1AnwSPJMfVi",
        "outputId": "de06e8a9-d752-4e3e-8597-15e37de2aa47"
      },
      "source": [
        "# train data with 5 hot vectors \n",
        "outputlabel5_train_df.head()"
      ],
      "execution_count": null,
      "outputs": [
        {
          "output_type": "execute_result",
          "data": {
            "text/html": [
              "<div>\n",
              "<style scoped>\n",
              "    .dataframe tbody tr th:only-of-type {\n",
              "        vertical-align: middle;\n",
              "    }\n",
              "\n",
              "    .dataframe tbody tr th {\n",
              "        vertical-align: top;\n",
              "    }\n",
              "\n",
              "    .dataframe thead th {\n",
              "        text-align: right;\n",
              "    }\n",
              "</style>\n",
              "<table border=\"1\" class=\"dataframe\">\n",
              "  <thead>\n",
              "    <tr style=\"text-align: right;\">\n",
              "      <th></th>\n",
              "      <th>Unique ID</th>\n",
              "      <th>Post</th>\n",
              "      <th>Labels Set</th>\n",
              "    </tr>\n",
              "  </thead>\n",
              "  <tbody>\n",
              "    <tr>\n",
              "      <th>0</th>\n",
              "      <td>1</td>\n",
              "      <td>मेरे देश के हिन्दु बहुत निराले है  कुछ तो पक्के राम भक्त है और कुछ बाबर के साले है  जय श्री राम</td>\n",
              "      <td>[0, 0, 0, 1, 1]</td>\n",
              "    </tr>\n",
              "    <tr>\n",
              "      <th>1</th>\n",
              "      <td>2</td>\n",
              "      <td>सरकार हमेशा से किसानों की कमाई को बढ़ाने के लिए नई नई स्कीमें लाती रहती है  ताकि उन पर ज्यादा आर्थिक बोझ न पड़े</td>\n",
              "      <td>[1, 0, 0, 0, 0]</td>\n",
              "    </tr>\n",
              "    <tr>\n",
              "      <th>2</th>\n",
              "      <td>3</td>\n",
              "      <td>सुशांत ने जो बिजनेस डील 9 जून को की थी  वो डील दीपेश को सुशांत की हत्या के दिन ही क्यों याद आई  देखिए  पूछता है भारत  अर्नब के साथ रिपब्लिक भारत पर  LIVE</td>\n",
              "      <td>[1, 0, 0, 0, 0]</td>\n",
              "    </tr>\n",
              "    <tr>\n",
              "      <th>3</th>\n",
              "      <td>4</td>\n",
              "      <td>prabhav218 साले जेएनयू छाप कमिने लोग हिन्दुओं को यह कहते है की संविधान सबको बराबर अधिकार देता है  सच्चाई यह है कि यह बराबर अधिकार नहीं देता है</td>\n",
              "      <td>[0, 1, 0, 0, 1]</td>\n",
              "    </tr>\n",
              "    <tr>\n",
              "      <th>4</th>\n",
              "      <td>5</td>\n",
              "      <td>unlock4guidelines   अनलॉक 4 के लिए गाइडलाइन्स जारी  7 सितंबर से देशभर में मेट्रो सेवा शुरु होगी  21 सितंबर के बाद रैलियों और बाकी फंक्शन में 100 लोगों को इजाजत  कंटेनमेंट जोन में कोई छूट नहीं  सिनेमाहॉल अभी बंद रहेंगे  9 से 12वीं के छात्र 21 सितंबर के बाद स्कूल जा सकेंगे</td>\n",
              "      <td>[1, 0, 0, 0, 0]</td>\n",
              "    </tr>\n",
              "  </tbody>\n",
              "</table>\n",
              "</div>"
            ],
            "text/plain": [
              "   Unique ID  \\\n",
              "0  1           \n",
              "1  2           \n",
              "2  3           \n",
              "3  4           \n",
              "4  5           \n",
              "\n",
              "                                                                                                                                                                                                                                                                                 Post  \\\n",
              "0  मेरे देश के हिन्दु बहुत निराले है  कुछ तो पक्के राम भक्त है और कुछ बाबर के साले है  जय श्री राम                                                                                                                                                                                      \n",
              "1  सरकार हमेशा से किसानों की कमाई को बढ़ाने के लिए नई नई स्कीमें लाती रहती है  ताकि उन पर ज्यादा आर्थिक बोझ न पड़े                                                                                                                                                                      \n",
              "2  सुशांत ने जो बिजनेस डील 9 जून को की थी  वो डील दीपेश को सुशांत की हत्या के दिन ही क्यों याद आई  देखिए  पूछता है भारत  अर्नब के साथ रिपब्लिक भारत पर  LIVE                                                                                                                            \n",
              "3   prabhav218 साले जेएनयू छाप कमिने लोग हिन्दुओं को यह कहते है की संविधान सबको बराबर अधिकार देता है  सच्चाई यह है कि यह बराबर अधिकार नहीं देता है                                                                                                                                      \n",
              "4   unlock4guidelines   अनलॉक 4 के लिए गाइडलाइन्स जारी  7 सितंबर से देशभर में मेट्रो सेवा शुरु होगी  21 सितंबर के बाद रैलियों और बाकी फंक्शन में 100 लोगों को इजाजत  कंटेनमेंट जोन में कोई छूट नहीं  सिनेमाहॉल अभी बंद रहेंगे  9 से 12वीं के छात्र 21 सितंबर के बाद स्कूल जा सकेंगे     \n",
              "\n",
              "        Labels Set  \n",
              "0  [0, 0, 0, 1, 1]  \n",
              "1  [1, 0, 0, 0, 0]  \n",
              "2  [1, 0, 0, 0, 0]  \n",
              "3  [0, 1, 0, 0, 1]  \n",
              "4  [1, 0, 0, 0, 0]  "
            ]
          },
          "metadata": {
            "tags": []
          },
          "execution_count": 48
        }
      ]
    },
    {
      "cell_type": "code",
      "metadata": {
        "colab": {
          "base_uri": "https://localhost:8080/",
          "height": 297
        },
        "id": "omscPXK2MfYq",
        "outputId": "1ab0473d-c532-46c9-8bf0-82d548f1aff1"
      },
      "source": [
        "# validate data with 5 hot vectors \n",
        "outputlabel5_validate_df.head()"
      ],
      "execution_count": null,
      "outputs": [
        {
          "output_type": "execute_result",
          "data": {
            "text/html": [
              "<div>\n",
              "<style scoped>\n",
              "    .dataframe tbody tr th:only-of-type {\n",
              "        vertical-align: middle;\n",
              "    }\n",
              "\n",
              "    .dataframe tbody tr th {\n",
              "        vertical-align: top;\n",
              "    }\n",
              "\n",
              "    .dataframe thead th {\n",
              "        text-align: right;\n",
              "    }\n",
              "</style>\n",
              "<table border=\"1\" class=\"dataframe\">\n",
              "  <thead>\n",
              "    <tr style=\"text-align: right;\">\n",
              "      <th></th>\n",
              "      <th>Unique ID</th>\n",
              "      <th>Post</th>\n",
              "      <th>Labels Set</th>\n",
              "    </tr>\n",
              "  </thead>\n",
              "  <tbody>\n",
              "    <tr>\n",
              "      <th>0</th>\n",
              "      <td>1</td>\n",
              "      <td>दृढ़ इच्छा शक्ति से परिपूर्ण प्रणबदा के लिए देशहित सर्वोच्च रहा उनका निधन हम सब के लिए अपूरणीय क्षति है ईश्वर दिवंगत आत्मा को अपने श्रीचरणों में स्थान दें  शोक संतप्त परिजनों के प्रति संवेदनाएं ऊं शांति</td>\n",
              "      <td>[1, 0, 0, 0, 0]</td>\n",
              "    </tr>\n",
              "    <tr>\n",
              "      <th>1</th>\n",
              "      <td>2</td>\n",
              "      <td>भारतीय जनता पार्टी rss वाले इतने गिरे हुए हैं जहां मैं रहती हूं वहां मेरी जासूसी  करा रहें है उसकी जासूस की पहचान मुझे अच्छी तरह है rss बीजेपी वाले की जासूस दिल्ली में कौन है उत्तर प्रदेश में कौन है हरियाणा राजस्थान में कौन है सबकी पहचान है मुझे मेरी नजर से बच नहीं सकते हो</td>\n",
              "      <td>[0, 1, 0, 0, 0]</td>\n",
              "    </tr>\n",
              "    <tr>\n",
              "      <th>2</th>\n",
              "      <td>3</td>\n",
              "      <td>कोरोना से निपटने की तैयारी   दिल्ली में 10 हजार बेड वाला दुनिया का सबसे बड़ा कोविड केयर सेंटर शुरू  राजनाथ शाह ने डीआरडीओ के 1 हजार बेड वाले सेंटर का भी उद्घाटन किया  Delhi  ArvindKejriwal   rajnathsingh  AmitShah  DRDO India  WHO  crpfindia  ITBP official</td>\n",
              "      <td>[1, 0, 0, 0, 0]</td>\n",
              "    </tr>\n",
              "    <tr>\n",
              "      <th>3</th>\n",
              "      <td>4</td>\n",
              "      <td>गवर्नर कॉन्फ्रेंस में PM मोदी बोले  शिक्षा नीति में सरकार का दखल कम होना चाहिए</td>\n",
              "      <td>[1, 0, 0, 0, 0]</td>\n",
              "    </tr>\n",
              "    <tr>\n",
              "      <th>4</th>\n",
              "      <td>5</td>\n",
              "      <td>यूपी  गाजीपुर में Toilet घोटाला  प्रधान व सचिव ने किया लाखों का गबन  मुर्दों के नाम पर बनवा डाले शौचालय UP</td>\n",
              "      <td>[1, 0, 0, 0, 0]</td>\n",
              "    </tr>\n",
              "  </tbody>\n",
              "</table>\n",
              "</div>"
            ],
            "text/plain": [
              "   Unique ID  \\\n",
              "0  1           \n",
              "1  2           \n",
              "2  3           \n",
              "3  4           \n",
              "4  5           \n",
              "\n",
              "                                                                                                                                                                                                                                                                                Post  \\\n",
              "0  दृढ़ इच्छा शक्ति से परिपूर्ण प्रणबदा के लिए देशहित सर्वोच्च रहा उनका निधन हम सब के लिए अपूरणीय क्षति है ईश्वर दिवंगत आत्मा को अपने श्रीचरणों में स्थान दें  शोक संतप्त परिजनों के प्रति संवेदनाएं ऊं शांति                                                                          \n",
              "1  भारतीय जनता पार्टी rss वाले इतने गिरे हुए हैं जहां मैं रहती हूं वहां मेरी जासूसी  करा रहें है उसकी जासूस की पहचान मुझे अच्छी तरह है rss बीजेपी वाले की जासूस दिल्ली में कौन है उत्तर प्रदेश में कौन है हरियाणा राजस्थान में कौन है सबकी पहचान है मुझे मेरी नजर से बच नहीं सकते हो   \n",
              "2  कोरोना से निपटने की तैयारी   दिल्ली में 10 हजार बेड वाला दुनिया का सबसे बड़ा कोविड केयर सेंटर शुरू  राजनाथ शाह ने डीआरडीओ के 1 हजार बेड वाले सेंटर का भी उद्घाटन किया  Delhi  ArvindKejriwal   rajnathsingh  AmitShah  DRDO India  WHO  crpfindia  ITBP official                    \n",
              "3  गवर्नर कॉन्फ्रेंस में PM मोदी बोले  शिक्षा नीति में सरकार का दखल कम होना चाहिए                                                                                                                                                                                                      \n",
              "4  यूपी  गाजीपुर में Toilet घोटाला  प्रधान व सचिव ने किया लाखों का गबन  मुर्दों के नाम पर बनवा डाले शौचालय UP                                                                                                                                                                          \n",
              "\n",
              "        Labels Set  \n",
              "0  [1, 0, 0, 0, 0]  \n",
              "1  [0, 1, 0, 0, 0]  \n",
              "2  [1, 0, 0, 0, 0]  \n",
              "3  [1, 0, 0, 0, 0]  \n",
              "4  [1, 0, 0, 0, 0]  "
            ]
          },
          "metadata": {
            "tags": []
          },
          "execution_count": 49
        }
      ]
    },
    {
      "cell_type": "code",
      "metadata": {
        "colab": {
          "base_uri": "https://localhost:8080/",
          "height": 297
        },
        "id": "--RaIGalMfb9",
        "outputId": "6c95bc60-728f-40a1-ddd3-34255be12af5"
      },
      "source": [
        "# train data with 4 hot vectors \n",
        "outputlabel4_train_df.head()"
      ],
      "execution_count": null,
      "outputs": [
        {
          "output_type": "execute_result",
          "data": {
            "text/html": [
              "<div>\n",
              "<style scoped>\n",
              "    .dataframe tbody tr th:only-of-type {\n",
              "        vertical-align: middle;\n",
              "    }\n",
              "\n",
              "    .dataframe tbody tr th {\n",
              "        vertical-align: top;\n",
              "    }\n",
              "\n",
              "    .dataframe thead th {\n",
              "        text-align: right;\n",
              "    }\n",
              "</style>\n",
              "<table border=\"1\" class=\"dataframe\">\n",
              "  <thead>\n",
              "    <tr style=\"text-align: right;\">\n",
              "      <th></th>\n",
              "      <th>Unique ID</th>\n",
              "      <th>Post</th>\n",
              "      <th>Labels Set</th>\n",
              "    </tr>\n",
              "  </thead>\n",
              "  <tbody>\n",
              "    <tr>\n",
              "      <th>0</th>\n",
              "      <td>1</td>\n",
              "      <td>मेरे देश के हिन्दु बहुत निराले है  कुछ तो पक्के राम भक्त है और कुछ बाबर के साले है  जय श्री राम</td>\n",
              "      <td>[0, 0, 1, 1]</td>\n",
              "    </tr>\n",
              "    <tr>\n",
              "      <th>1</th>\n",
              "      <td>4</td>\n",
              "      <td>prabhav218 साले जेएनयू छाप कमिने लोग हिन्दुओं को यह कहते है की संविधान सबको बराबर अधिकार देता है  सच्चाई यह है कि यह बराबर अधिकार नहीं देता है</td>\n",
              "      <td>[1, 0, 0, 1]</td>\n",
              "    </tr>\n",
              "    <tr>\n",
              "      <th>2</th>\n",
              "      <td>6</td>\n",
              "      <td>चीन ने UN में तर्क दिया की भारत का विपक्ष ही अजर‌ मसुद को आतंकी नहीं मानता तो हम कैसे माने  चुल्लू भर मूत्र में डूब मरो गद्दारों  अब यह भारत के लोगों को सोचना है कि वो विपक्ष को वोट क्यों करें विक्रम शर्मा</td>\n",
              "      <td>[0, 1, 0, 0]</td>\n",
              "    </tr>\n",
              "    <tr>\n",
              "      <th>3</th>\n",
              "      <td>11</td>\n",
              "      <td>RT   Pb swain   मोदीजी और जब सारा देश सेना के साथ खडी है पर दो सयाने विदेश मे पडे है  इसलिए बोलते हैं विदेशी मां का बेटा कभी देशभक्त न</td>\n",
              "      <td>[0, 0, 1, 0]</td>\n",
              "    </tr>\n",
              "    <tr>\n",
              "      <th>4</th>\n",
              "      <td>12</td>\n",
              "      <td>RT  ShilpiSinghINC  48000 घरों को तोड़ने का आदेश आया है  किसी को कोई फर्क़ नहीं पड़ता अमीरों के 5 में से 1 मकान के किसी अवैध हिस्से भी एक</td>\n",
              "      <td>[0, 0, 0, 1]</td>\n",
              "    </tr>\n",
              "  </tbody>\n",
              "</table>\n",
              "</div>"
            ],
            "text/plain": [
              "   Unique ID  \\\n",
              "0  1           \n",
              "1  4           \n",
              "2  6           \n",
              "3  11          \n",
              "4  12          \n",
              "\n",
              "                                                                                                                                                                                                            Post  \\\n",
              "0  मेरे देश के हिन्दु बहुत निराले है  कुछ तो पक्के राम भक्त है और कुछ बाबर के साले है  जय श्री राम                                                                                                                 \n",
              "1   prabhav218 साले जेएनयू छाप कमिने लोग हिन्दुओं को यह कहते है की संविधान सबको बराबर अधिकार देता है  सच्चाई यह है कि यह बराबर अधिकार नहीं देता है                                                                 \n",
              "2  चीन ने UN में तर्क दिया की भारत का विपक्ष ही अजर‌ मसुद को आतंकी नहीं मानता तो हम कैसे माने  चुल्लू भर मूत्र में डूब मरो गद्दारों  अब यह भारत के लोगों को सोचना है कि वो विपक्ष को वोट क्यों करें विक्रम शर्मा   \n",
              "3  RT   Pb swain   मोदीजी और जब सारा देश सेना के साथ खडी है पर दो सयाने विदेश मे पडे है  इसलिए बोलते हैं विदेशी मां का बेटा कभी देशभक्त न                                                                          \n",
              "4  RT  ShilpiSinghINC  48000 घरों को तोड़ने का आदेश आया है  किसी को कोई फर्क़ नहीं पड़ता अमीरों के 5 में से 1 मकान के किसी अवैध हिस्से भी एक                                                                       \n",
              "\n",
              "     Labels Set  \n",
              "0  [0, 0, 1, 1]  \n",
              "1  [1, 0, 0, 1]  \n",
              "2  [0, 1, 0, 0]  \n",
              "3  [0, 0, 1, 0]  \n",
              "4  [0, 0, 0, 1]  "
            ]
          },
          "metadata": {
            "tags": []
          },
          "execution_count": 50
        }
      ]
    },
    {
      "cell_type": "code",
      "metadata": {
        "colab": {
          "base_uri": "https://localhost:8080/",
          "height": 330
        },
        "id": "T_iEieCfMfty",
        "outputId": "d1815211-11c3-4f4c-879e-96f9426e0571"
      },
      "source": [
        "# validate data with 4 hot vectors \n",
        "outputlabel4_validate_df.head()"
      ],
      "execution_count": null,
      "outputs": [
        {
          "output_type": "execute_result",
          "data": {
            "text/html": [
              "<div>\n",
              "<style scoped>\n",
              "    .dataframe tbody tr th:only-of-type {\n",
              "        vertical-align: middle;\n",
              "    }\n",
              "\n",
              "    .dataframe tbody tr th {\n",
              "        vertical-align: top;\n",
              "    }\n",
              "\n",
              "    .dataframe thead th {\n",
              "        text-align: right;\n",
              "    }\n",
              "</style>\n",
              "<table border=\"1\" class=\"dataframe\">\n",
              "  <thead>\n",
              "    <tr style=\"text-align: right;\">\n",
              "      <th></th>\n",
              "      <th>Unique ID</th>\n",
              "      <th>Post</th>\n",
              "      <th>Labels Set</th>\n",
              "    </tr>\n",
              "  </thead>\n",
              "  <tbody>\n",
              "    <tr>\n",
              "      <th>0</th>\n",
              "      <td>2</td>\n",
              "      <td>भारतीय जनता पार्टी rss वाले इतने गिरे हुए हैं जहां मैं रहती हूं वहां मेरी जासूसी  करा रहें है उसकी जासूस की पहचान मुझे अच्छी तरह है rss बीजेपी वाले की जासूस दिल्ली में कौन है उत्तर प्रदेश में कौन है हरियाणा राजस्थान में कौन है सबकी पहचान है मुझे मेरी नजर से बच नहीं सकते हो</td>\n",
              "      <td>[1, 0, 0, 0]</td>\n",
              "    </tr>\n",
              "    <tr>\n",
              "      <th>1</th>\n",
              "      <td>8</td>\n",
              "      <td>अद्भुत   जो वामपंथी कहते है कि महाभारत का युद्ध काल्पनिक है  और सनातन धर्म कुछ है ही नही  उनके मुंह पर विदेशी पुरातत्व विभाग ने जोरदार तमाचा मार दिया है  कुरूक्षेत्र के पास खुदाई करते समय विदेशी पुरातत्व विशेषज्ञों को एक 80 फुट की लम्बाई के मानव कंकाल के अवषेश मिले   जो महाभारत के भीम के पुत्र घटोत्कच के वर्णन के समान है   और हम भारत वासियों को महाभारत ही कहानी काल्पनीक लगती है   इसे डिस्कवरी चैनल ने प्रसारित किया है   जय हो सनातन धर्म की जय हो   जय श्री राम जय श्री कृष्ण</td>\n",
              "      <td>[0, 1, 0, 0]</td>\n",
              "    </tr>\n",
              "    <tr>\n",
              "      <th>2</th>\n",
              "      <td>13</td>\n",
              "      <td>भाई जाके हिन्दू भाइयों की मदद कर जिनकी नौकरी चली गई जो आत्महत्या कर रहे है अब ये मत पूछना तूने कितनी की मदद की</td>\n",
              "      <td>[0, 0, 0, 1]</td>\n",
              "    </tr>\n",
              "    <tr>\n",
              "      <th>3</th>\n",
              "      <td>14</td>\n",
              "      <td>यह दुर्घटना कन्नूर अंतर्राष्ट्रीय हवाई अड्डे में हुई  जब एक व्यक्ति पावर बैंक का उपयोग करके अपने सेल फोन को चार्ज कर रहा था और आग लग गई   जागरूकता बढ़ाने के लिए वीडियो को शेयर करें</td>\n",
              "      <td>[0, 1, 0, 0]</td>\n",
              "    </tr>\n",
              "    <tr>\n",
              "      <th>4</th>\n",
              "      <td>16</td>\n",
              "      <td>रेट फिक्स हैकृप्या मोल भाव न करें   शाहीन बाग़ प्रोटेस्ट</td>\n",
              "      <td>[0, 0, 1, 1]</td>\n",
              "    </tr>\n",
              "  </tbody>\n",
              "</table>\n",
              "</div>"
            ],
            "text/plain": [
              "   Unique ID  \\\n",
              "0  2           \n",
              "1  8           \n",
              "2  13          \n",
              "3  14          \n",
              "4  16          \n",
              "\n",
              "                                                                                                                                                                                                                                                                                                                                                                                                                                                                                           Post  \\\n",
              "0  भारतीय जनता पार्टी rss वाले इतने गिरे हुए हैं जहां मैं रहती हूं वहां मेरी जासूसी  करा रहें है उसकी जासूस की पहचान मुझे अच्छी तरह है rss बीजेपी वाले की जासूस दिल्ली में कौन है उत्तर प्रदेश में कौन है हरियाणा राजस्थान में कौन है सबकी पहचान है मुझे मेरी नजर से बच नहीं सकते हो                                                                                                                                                                                                              \n",
              "1  अद्भुत   जो वामपंथी कहते है कि महाभारत का युद्ध काल्पनिक है  और सनातन धर्म कुछ है ही नही  उनके मुंह पर विदेशी पुरातत्व विभाग ने जोरदार तमाचा मार दिया है  कुरूक्षेत्र के पास खुदाई करते समय विदेशी पुरातत्व विशेषज्ञों को एक 80 फुट की लम्बाई के मानव कंकाल के अवषेश मिले   जो महाभारत के भीम के पुत्र घटोत्कच के वर्णन के समान है   और हम भारत वासियों को महाभारत ही कहानी काल्पनीक लगती है   इसे डिस्कवरी चैनल ने प्रसारित किया है   जय हो सनातन धर्म की जय हो   जय श्री राम जय श्री कृष्ण   \n",
              "2  भाई जाके हिन्दू भाइयों की मदद कर जिनकी नौकरी चली गई जो आत्महत्या कर रहे है अब ये मत पूछना तूने कितनी की मदद की                                                                                                                                                                                                                                                                                                                                                                                 \n",
              "3  यह दुर्घटना कन्नूर अंतर्राष्ट्रीय हवाई अड्डे में हुई  जब एक व्यक्ति पावर बैंक का उपयोग करके अपने सेल फोन को चार्ज कर रहा था और आग लग गई   जागरूकता बढ़ाने के लिए वीडियो को शेयर करें                                                                                                                                                                                                                                                                                                           \n",
              "4  रेट फिक्स हैकृप्या मोल भाव न करें   शाहीन बाग़ प्रोटेस्ट                                                                                                                                                                                                                                                                                                                                                                                                                                       \n",
              "\n",
              "     Labels Set  \n",
              "0  [1, 0, 0, 0]  \n",
              "1  [0, 1, 0, 0]  \n",
              "2  [0, 0, 0, 1]  \n",
              "3  [0, 1, 0, 0]  \n",
              "4  [0, 0, 1, 1]  "
            ]
          },
          "metadata": {
            "tags": []
          },
          "execution_count": 51
        }
      ]
    },
    {
      "cell_type": "markdown",
      "metadata": {
        "id": "Zijlrpc3Q0ke"
      },
      "source": [
        "##### **Datasets with Fake,Non_Fake & Offensive,Non_Offensive & Hate,Non_Hate & Defamation,Non_Defamation :**"
      ]
    },
    {
      "cell_type": "code",
      "metadata": {
        "colab": {
          "base_uri": "https://localhost:8080/",
          "height": 280
        },
        "id": "QsjgmBzsHd5_",
        "outputId": "5dbba74b-34b6-49bb-aa67-e39119497519"
      },
      "source": [
        "# hostile train data \n",
        "hostile_train=cleaned_train_df[cleaned_train_df['Labels Set'] !=\"non-hostile\"]\n",
        "hostile_train.head() "
      ],
      "execution_count": null,
      "outputs": [
        {
          "output_type": "execute_result",
          "data": {
            "text/html": [
              "<div>\n",
              "<style scoped>\n",
              "    .dataframe tbody tr th:only-of-type {\n",
              "        vertical-align: middle;\n",
              "    }\n",
              "\n",
              "    .dataframe tbody tr th {\n",
              "        vertical-align: top;\n",
              "    }\n",
              "\n",
              "    .dataframe thead th {\n",
              "        text-align: right;\n",
              "    }\n",
              "</style>\n",
              "<table border=\"1\" class=\"dataframe\">\n",
              "  <thead>\n",
              "    <tr style=\"text-align: right;\">\n",
              "      <th></th>\n",
              "      <th>Unique ID</th>\n",
              "      <th>Post</th>\n",
              "      <th>Labels Set</th>\n",
              "    </tr>\n",
              "  </thead>\n",
              "  <tbody>\n",
              "    <tr>\n",
              "      <th>0</th>\n",
              "      <td>1</td>\n",
              "      <td>मेरे देश के हिन्दु बहुत निराले है  कुछ तो पक्के राम भक्त है और कुछ बाबर के साले है  जय श्री राम</td>\n",
              "      <td>hate,offensive</td>\n",
              "    </tr>\n",
              "    <tr>\n",
              "      <th>3</th>\n",
              "      <td>4</td>\n",
              "      <td>prabhav218 साले जेएनयू छाप कमिने लोग हिन्दुओं को यह कहते है की संविधान सबको बराबर अधिकार देता है  सच्चाई यह है कि यह बराबर अधिकार नहीं देता है</td>\n",
              "      <td>defamation,offensive</td>\n",
              "    </tr>\n",
              "    <tr>\n",
              "      <th>5</th>\n",
              "      <td>6</td>\n",
              "      <td>चीन ने UN में तर्क दिया की भारत का विपक्ष ही अजर‌ मसुद को आतंकी नहीं मानता तो हम कैसे माने  चुल्लू भर मूत्र में डूब मरो गद्दारों  अब यह भारत के लोगों को सोचना है कि वो विपक्ष को वोट क्यों करें विक्रम शर्मा</td>\n",
              "      <td>fake</td>\n",
              "    </tr>\n",
              "    <tr>\n",
              "      <th>10</th>\n",
              "      <td>11</td>\n",
              "      <td>RT   Pb swain   मोदीजी और जब सारा देश सेना के साथ खडी है पर दो सयाने विदेश मे पडे है  इसलिए बोलते हैं विदेशी मां का बेटा कभी देशभक्त न</td>\n",
              "      <td>hate</td>\n",
              "    </tr>\n",
              "    <tr>\n",
              "      <th>11</th>\n",
              "      <td>12</td>\n",
              "      <td>RT  ShilpiSinghINC  48000 घरों को तोड़ने का आदेश आया है  किसी को कोई फर्क़ नहीं पड़ता अमीरों के 5 में से 1 मकान के किसी अवैध हिस्से भी एक</td>\n",
              "      <td>offensive</td>\n",
              "    </tr>\n",
              "  </tbody>\n",
              "</table>\n",
              "</div>"
            ],
            "text/plain": [
              "    Unique ID  \\\n",
              "0   1           \n",
              "3   4           \n",
              "5   6           \n",
              "10  11          \n",
              "11  12          \n",
              "\n",
              "                                                                                                                                                                                                             Post  \\\n",
              "0   मेरे देश के हिन्दु बहुत निराले है  कुछ तो पक्के राम भक्त है और कुछ बाबर के साले है  जय श्री राम                                                                                                                 \n",
              "3    prabhav218 साले जेएनयू छाप कमिने लोग हिन्दुओं को यह कहते है की संविधान सबको बराबर अधिकार देता है  सच्चाई यह है कि यह बराबर अधिकार नहीं देता है                                                                 \n",
              "5   चीन ने UN में तर्क दिया की भारत का विपक्ष ही अजर‌ मसुद को आतंकी नहीं मानता तो हम कैसे माने  चुल्लू भर मूत्र में डूब मरो गद्दारों  अब यह भारत के लोगों को सोचना है कि वो विपक्ष को वोट क्यों करें विक्रम शर्मा   \n",
              "10  RT   Pb swain   मोदीजी और जब सारा देश सेना के साथ खडी है पर दो सयाने विदेश मे पडे है  इसलिए बोलते हैं विदेशी मां का बेटा कभी देशभक्त न                                                                          \n",
              "11  RT  ShilpiSinghINC  48000 घरों को तोड़ने का आदेश आया है  किसी को कोई फर्क़ नहीं पड़ता अमीरों के 5 में से 1 मकान के किसी अवैध हिस्से भी एक                                                                       \n",
              "\n",
              "              Labels Set  \n",
              "0   hate,offensive        \n",
              "3   defamation,offensive  \n",
              "5   fake                  \n",
              "10  hate                  \n",
              "11  offensive             "
            ]
          },
          "metadata": {
            "tags": []
          },
          "execution_count": 52
        }
      ]
    },
    {
      "cell_type": "code",
      "metadata": {
        "colab": {
          "base_uri": "https://localhost:8080/",
          "height": 297
        },
        "id": "bhysRb-kHd80",
        "outputId": "ad8d0523-2536-4759-870d-edefa98836b0"
      },
      "source": [
        "# hostile validate data \n",
        "hostile_validate=cleaned_validate_df[cleaned_validate_df['Labels Set'] !=\"non-hostile\"]\n",
        "hostile_validate.head() "
      ],
      "execution_count": null,
      "outputs": [
        {
          "output_type": "execute_result",
          "data": {
            "text/html": [
              "<div>\n",
              "<style scoped>\n",
              "    .dataframe tbody tr th:only-of-type {\n",
              "        vertical-align: middle;\n",
              "    }\n",
              "\n",
              "    .dataframe tbody tr th {\n",
              "        vertical-align: top;\n",
              "    }\n",
              "\n",
              "    .dataframe thead th {\n",
              "        text-align: right;\n",
              "    }\n",
              "</style>\n",
              "<table border=\"1\" class=\"dataframe\">\n",
              "  <thead>\n",
              "    <tr style=\"text-align: right;\">\n",
              "      <th></th>\n",
              "      <th>Unique ID</th>\n",
              "      <th>Post</th>\n",
              "      <th>Labels Set</th>\n",
              "    </tr>\n",
              "  </thead>\n",
              "  <tbody>\n",
              "    <tr>\n",
              "      <th>1</th>\n",
              "      <td>2</td>\n",
              "      <td>भारतीय जनता पार्टी rss वाले इतने गिरे हुए हैं जहां मैं रहती हूं वहां मेरी जासूसी  करा रहें है उसकी जासूस की पहचान मुझे अच्छी तरह है rss बीजेपी वाले की जासूस दिल्ली में कौन है उत्तर प्रदेश में कौन है हरियाणा राजस्थान में कौन है सबकी पहचान है मुझे मेरी नजर से बच नहीं सकते हो</td>\n",
              "      <td>defamation</td>\n",
              "    </tr>\n",
              "    <tr>\n",
              "      <th>7</th>\n",
              "      <td>8</td>\n",
              "      <td>अद्भुत   जो वामपंथी कहते है कि महाभारत का युद्ध काल्पनिक है  और सनातन धर्म कुछ है ही नही  उनके मुंह पर विदेशी पुरातत्व विभाग ने जोरदार तमाचा मार दिया है  कुरूक्षेत्र के पास खुदाई करते समय विदेशी पुरातत्व विशेषज्ञों को एक 80 फुट की लम्बाई के मानव कंकाल के अवषेश मिले   जो महाभारत के भीम के पुत्र घटोत्कच के वर्णन के समान है   और हम भारत वासियों को महाभारत ही कहानी काल्पनीक लगती है   इसे डिस्कवरी चैनल ने प्रसारित किया है   जय हो सनातन धर्म की जय हो   जय श्री राम जय श्री कृष्ण</td>\n",
              "      <td>fake</td>\n",
              "    </tr>\n",
              "    <tr>\n",
              "      <th>12</th>\n",
              "      <td>13</td>\n",
              "      <td>भाई जाके हिन्दू भाइयों की मदद कर जिनकी नौकरी चली गई जो आत्महत्या कर रहे है अब ये मत पूछना तूने कितनी की मदद की</td>\n",
              "      <td>offensive</td>\n",
              "    </tr>\n",
              "    <tr>\n",
              "      <th>13</th>\n",
              "      <td>14</td>\n",
              "      <td>यह दुर्घटना कन्नूर अंतर्राष्ट्रीय हवाई अड्डे में हुई  जब एक व्यक्ति पावर बैंक का उपयोग करके अपने सेल फोन को चार्ज कर रहा था और आग लग गई   जागरूकता बढ़ाने के लिए वीडियो को शेयर करें</td>\n",
              "      <td>fake</td>\n",
              "    </tr>\n",
              "    <tr>\n",
              "      <th>15</th>\n",
              "      <td>16</td>\n",
              "      <td>रेट फिक्स हैकृप्या मोल भाव न करें   शाहीन बाग़ प्रोटेस्ट</td>\n",
              "      <td>hate,offensive</td>\n",
              "    </tr>\n",
              "  </tbody>\n",
              "</table>\n",
              "</div>"
            ],
            "text/plain": [
              "    Unique ID  \\\n",
              "1   2           \n",
              "7   8           \n",
              "12  13          \n",
              "13  14          \n",
              "15  16          \n",
              "\n",
              "                                                                                                                                                                                                                                                                                                                                                                                                                                                                                            Post  \\\n",
              "1   भारतीय जनता पार्टी rss वाले इतने गिरे हुए हैं जहां मैं रहती हूं वहां मेरी जासूसी  करा रहें है उसकी जासूस की पहचान मुझे अच्छी तरह है rss बीजेपी वाले की जासूस दिल्ली में कौन है उत्तर प्रदेश में कौन है हरियाणा राजस्थान में कौन है सबकी पहचान है मुझे मेरी नजर से बच नहीं सकते हो                                                                                                                                                                                                              \n",
              "7   अद्भुत   जो वामपंथी कहते है कि महाभारत का युद्ध काल्पनिक है  और सनातन धर्म कुछ है ही नही  उनके मुंह पर विदेशी पुरातत्व विभाग ने जोरदार तमाचा मार दिया है  कुरूक्षेत्र के पास खुदाई करते समय विदेशी पुरातत्व विशेषज्ञों को एक 80 फुट की लम्बाई के मानव कंकाल के अवषेश मिले   जो महाभारत के भीम के पुत्र घटोत्कच के वर्णन के समान है   और हम भारत वासियों को महाभारत ही कहानी काल्पनीक लगती है   इसे डिस्कवरी चैनल ने प्रसारित किया है   जय हो सनातन धर्म की जय हो   जय श्री राम जय श्री कृष्ण   \n",
              "12  भाई जाके हिन्दू भाइयों की मदद कर जिनकी नौकरी चली गई जो आत्महत्या कर रहे है अब ये मत पूछना तूने कितनी की मदद की                                                                                                                                                                                                                                                                                                                                                                                 \n",
              "13  यह दुर्घटना कन्नूर अंतर्राष्ट्रीय हवाई अड्डे में हुई  जब एक व्यक्ति पावर बैंक का उपयोग करके अपने सेल फोन को चार्ज कर रहा था और आग लग गई   जागरूकता बढ़ाने के लिए वीडियो को शेयर करें                                                                                                                                                                                                                                                                                                           \n",
              "15  रेट फिक्स हैकृप्या मोल भाव न करें   शाहीन बाग़ प्रोटेस्ट                                                                                                                                                                                                                                                                                                                                                                                                                                       \n",
              "\n",
              "        Labels Set  \n",
              "1   defamation      \n",
              "7   fake            \n",
              "12  offensive       \n",
              "13  fake            \n",
              "15  hate,offensive  "
            ]
          },
          "metadata": {
            "tags": []
          },
          "execution_count": 53
        }
      ]
    },
    {
      "cell_type": "code",
      "metadata": {
        "id": "_BsnoyERHd_k"
      },
      "source": [
        "# creating dataset with each label passed through the function \n",
        "def vector_labels(data,col,neg):\n",
        "  \"\"\"\n",
        "  input  : data: output label data (list)\n",
        "           col : true label \n",
        "           neg : false label \n",
        "  return : list of output labels (if col in data return col else return neg for each entry in list od ata)\n",
        "  \"\"\"\n",
        "  final_labels_vectors=[]\n",
        "  for x in data:\n",
        "    l=list(x.split(','))\n",
        "    f=0\n",
        "    for y in l:\n",
        "      if y==col:\n",
        "        final_labels_vectors.append(col)\n",
        "        f=1\n",
        "      if f==1:\n",
        "        continue\n",
        "    if f==0:\n",
        "      final_labels_vectors.append(neg)\n",
        "  return final_labels_vectors\n",
        "\n",
        "# creating dataset by passing the given hostile labels\n",
        "def hostile_label(dataset,col,neg):\n",
        "  \"\"\"\n",
        "  input   : dataset : hostile data (entries which doesn't contain non-hostile)\n",
        "                col : true label \n",
        "                neg : false label\n",
        "  returns : modified dataset with output label should be either col or neg \n",
        "  \"\"\"\n",
        "  labelsvec_df_hindi=pd.DataFrame()\n",
        "  labelsvec_df_hindi['Unique ID']=dataset['Unique ID']\n",
        "  labelsvec_df_hindi['Post']=dataset['Post']\n",
        "  data=dataset['Labels Set']\n",
        "  labelsvec_df_hindi['Labels Set']=vector_labels(data,col,neg)\n",
        "  return labelsvec_df_hindi\n",
        "\n",
        "# fake vs non_fake\n",
        "fake_train=hostile_label(hostile_train,\"fake\",\"non_fake\")\n",
        "fake_validate=hostile_label(hostile_validate,\"fake\",\"non_fake\")\n",
        "\n",
        "# hate vs non_hate \n",
        "hate_train=hostile_label(hostile_train,\"hate\",\"non_hate\")\n",
        "hate_validate=hostile_label(hostile_validate,\"hate\",\"non_hate\")\n",
        "\n",
        "# defamation vs non_defamation \n",
        "defamation_train=hostile_label(hostile_train,\"defamation\",\"non_defamation\")\n",
        "defamation_validate=hostile_label(hostile_validate,\"defamation\",\"non_defamation\")\n",
        "\n",
        "# offensive vs non_offensive \n",
        "offensive_train=hostile_label(hostile_train,\"offensive\",\"non_offensive\")\n",
        "offensive_validate=hostile_label(hostile_validate,\"offensive\",\"non_offensive\")"
      ],
      "execution_count": null,
      "outputs": []
    },
    {
      "cell_type": "code",
      "metadata": {
        "colab": {
          "base_uri": "https://localhost:8080/",
          "height": 263
        },
        "id": "PLvo1Wf_HeCt",
        "outputId": "7f3f8751-d9b7-4ab7-dc29-fa2defbe923f"
      },
      "source": [
        "# fake_train data \n",
        "fake_train.head()"
      ],
      "execution_count": null,
      "outputs": [
        {
          "output_type": "execute_result",
          "data": {
            "text/html": [
              "<div>\n",
              "<style scoped>\n",
              "    .dataframe tbody tr th:only-of-type {\n",
              "        vertical-align: middle;\n",
              "    }\n",
              "\n",
              "    .dataframe tbody tr th {\n",
              "        vertical-align: top;\n",
              "    }\n",
              "\n",
              "    .dataframe thead th {\n",
              "        text-align: right;\n",
              "    }\n",
              "</style>\n",
              "<table border=\"1\" class=\"dataframe\">\n",
              "  <thead>\n",
              "    <tr style=\"text-align: right;\">\n",
              "      <th></th>\n",
              "      <th>Unique ID</th>\n",
              "      <th>Post</th>\n",
              "      <th>Labels Set</th>\n",
              "    </tr>\n",
              "  </thead>\n",
              "  <tbody>\n",
              "    <tr>\n",
              "      <th>0</th>\n",
              "      <td>1</td>\n",
              "      <td>मेरे देश के हिन्दु बहुत निराले है  कुछ तो पक्के राम भक्त है और कुछ बाबर के साले है  जय श्री राम</td>\n",
              "      <td>non_fake</td>\n",
              "    </tr>\n",
              "    <tr>\n",
              "      <th>3</th>\n",
              "      <td>4</td>\n",
              "      <td>prabhav218 साले जेएनयू छाप कमिने लोग हिन्दुओं को यह कहते है की संविधान सबको बराबर अधिकार देता है  सच्चाई यह है कि यह बराबर अधिकार नहीं देता है</td>\n",
              "      <td>non_fake</td>\n",
              "    </tr>\n",
              "    <tr>\n",
              "      <th>5</th>\n",
              "      <td>6</td>\n",
              "      <td>चीन ने UN में तर्क दिया की भारत का विपक्ष ही अजर‌ मसुद को आतंकी नहीं मानता तो हम कैसे माने  चुल्लू भर मूत्र में डूब मरो गद्दारों  अब यह भारत के लोगों को सोचना है कि वो विपक्ष को वोट क्यों करें विक्रम शर्मा</td>\n",
              "      <td>fake</td>\n",
              "    </tr>\n",
              "    <tr>\n",
              "      <th>10</th>\n",
              "      <td>11</td>\n",
              "      <td>RT   Pb swain   मोदीजी और जब सारा देश सेना के साथ खडी है पर दो सयाने विदेश मे पडे है  इसलिए बोलते हैं विदेशी मां का बेटा कभी देशभक्त न</td>\n",
              "      <td>non_fake</td>\n",
              "    </tr>\n",
              "    <tr>\n",
              "      <th>11</th>\n",
              "      <td>12</td>\n",
              "      <td>RT  ShilpiSinghINC  48000 घरों को तोड़ने का आदेश आया है  किसी को कोई फर्क़ नहीं पड़ता अमीरों के 5 में से 1 मकान के किसी अवैध हिस्से भी एक</td>\n",
              "      <td>non_fake</td>\n",
              "    </tr>\n",
              "  </tbody>\n",
              "</table>\n",
              "</div>"
            ],
            "text/plain": [
              "    Unique ID  \\\n",
              "0   1           \n",
              "3   4           \n",
              "5   6           \n",
              "10  11          \n",
              "11  12          \n",
              "\n",
              "                                                                                                                                                                                                             Post  \\\n",
              "0   मेरे देश के हिन्दु बहुत निराले है  कुछ तो पक्के राम भक्त है और कुछ बाबर के साले है  जय श्री राम                                                                                                                 \n",
              "3    prabhav218 साले जेएनयू छाप कमिने लोग हिन्दुओं को यह कहते है की संविधान सबको बराबर अधिकार देता है  सच्चाई यह है कि यह बराबर अधिकार नहीं देता है                                                                 \n",
              "5   चीन ने UN में तर्क दिया की भारत का विपक्ष ही अजर‌ मसुद को आतंकी नहीं मानता तो हम कैसे माने  चुल्लू भर मूत्र में डूब मरो गद्दारों  अब यह भारत के लोगों को सोचना है कि वो विपक्ष को वोट क्यों करें विक्रम शर्मा   \n",
              "10  RT   Pb swain   मोदीजी और जब सारा देश सेना के साथ खडी है पर दो सयाने विदेश मे पडे है  इसलिए बोलते हैं विदेशी मां का बेटा कभी देशभक्त न                                                                          \n",
              "11  RT  ShilpiSinghINC  48000 घरों को तोड़ने का आदेश आया है  किसी को कोई फर्क़ नहीं पड़ता अमीरों के 5 में से 1 मकान के किसी अवैध हिस्से भी एक                                                                       \n",
              "\n",
              "   Labels Set  \n",
              "0   non_fake   \n",
              "3   non_fake   \n",
              "5   fake       \n",
              "10  non_fake   \n",
              "11  non_fake   "
            ]
          },
          "metadata": {
            "tags": []
          },
          "execution_count": 55
        }
      ]
    },
    {
      "cell_type": "code",
      "metadata": {
        "colab": {
          "base_uri": "https://localhost:8080/",
          "height": 263
        },
        "id": "j6cQrQhwHeFU",
        "outputId": "db752679-2d5f-43f9-83d0-5185b60febdc"
      },
      "source": [
        "# offensive train data\n",
        "offensive_train.head()"
      ],
      "execution_count": null,
      "outputs": [
        {
          "output_type": "execute_result",
          "data": {
            "text/html": [
              "<div>\n",
              "<style scoped>\n",
              "    .dataframe tbody tr th:only-of-type {\n",
              "        vertical-align: middle;\n",
              "    }\n",
              "\n",
              "    .dataframe tbody tr th {\n",
              "        vertical-align: top;\n",
              "    }\n",
              "\n",
              "    .dataframe thead th {\n",
              "        text-align: right;\n",
              "    }\n",
              "</style>\n",
              "<table border=\"1\" class=\"dataframe\">\n",
              "  <thead>\n",
              "    <tr style=\"text-align: right;\">\n",
              "      <th></th>\n",
              "      <th>Unique ID</th>\n",
              "      <th>Post</th>\n",
              "      <th>Labels Set</th>\n",
              "    </tr>\n",
              "  </thead>\n",
              "  <tbody>\n",
              "    <tr>\n",
              "      <th>0</th>\n",
              "      <td>1</td>\n",
              "      <td>मेरे देश के हिन्दु बहुत निराले है  कुछ तो पक्के राम भक्त है और कुछ बाबर के साले है  जय श्री राम</td>\n",
              "      <td>offensive</td>\n",
              "    </tr>\n",
              "    <tr>\n",
              "      <th>3</th>\n",
              "      <td>4</td>\n",
              "      <td>prabhav218 साले जेएनयू छाप कमिने लोग हिन्दुओं को यह कहते है की संविधान सबको बराबर अधिकार देता है  सच्चाई यह है कि यह बराबर अधिकार नहीं देता है</td>\n",
              "      <td>offensive</td>\n",
              "    </tr>\n",
              "    <tr>\n",
              "      <th>5</th>\n",
              "      <td>6</td>\n",
              "      <td>चीन ने UN में तर्क दिया की भारत का विपक्ष ही अजर‌ मसुद को आतंकी नहीं मानता तो हम कैसे माने  चुल्लू भर मूत्र में डूब मरो गद्दारों  अब यह भारत के लोगों को सोचना है कि वो विपक्ष को वोट क्यों करें विक्रम शर्मा</td>\n",
              "      <td>non_offensive</td>\n",
              "    </tr>\n",
              "    <tr>\n",
              "      <th>10</th>\n",
              "      <td>11</td>\n",
              "      <td>RT   Pb swain   मोदीजी और जब सारा देश सेना के साथ खडी है पर दो सयाने विदेश मे पडे है  इसलिए बोलते हैं विदेशी मां का बेटा कभी देशभक्त न</td>\n",
              "      <td>non_offensive</td>\n",
              "    </tr>\n",
              "    <tr>\n",
              "      <th>11</th>\n",
              "      <td>12</td>\n",
              "      <td>RT  ShilpiSinghINC  48000 घरों को तोड़ने का आदेश आया है  किसी को कोई फर्क़ नहीं पड़ता अमीरों के 5 में से 1 मकान के किसी अवैध हिस्से भी एक</td>\n",
              "      <td>offensive</td>\n",
              "    </tr>\n",
              "  </tbody>\n",
              "</table>\n",
              "</div>"
            ],
            "text/plain": [
              "    Unique ID  \\\n",
              "0   1           \n",
              "3   4           \n",
              "5   6           \n",
              "10  11          \n",
              "11  12          \n",
              "\n",
              "                                                                                                                                                                                                             Post  \\\n",
              "0   मेरे देश के हिन्दु बहुत निराले है  कुछ तो पक्के राम भक्त है और कुछ बाबर के साले है  जय श्री राम                                                                                                                 \n",
              "3    prabhav218 साले जेएनयू छाप कमिने लोग हिन्दुओं को यह कहते है की संविधान सबको बराबर अधिकार देता है  सच्चाई यह है कि यह बराबर अधिकार नहीं देता है                                                                 \n",
              "5   चीन ने UN में तर्क दिया की भारत का विपक्ष ही अजर‌ मसुद को आतंकी नहीं मानता तो हम कैसे माने  चुल्लू भर मूत्र में डूब मरो गद्दारों  अब यह भारत के लोगों को सोचना है कि वो विपक्ष को वोट क्यों करें विक्रम शर्मा   \n",
              "10  RT   Pb swain   मोदीजी और जब सारा देश सेना के साथ खडी है पर दो सयाने विदेश मे पडे है  इसलिए बोलते हैं विदेशी मां का बेटा कभी देशभक्त न                                                                          \n",
              "11  RT  ShilpiSinghINC  48000 घरों को तोड़ने का आदेश आया है  किसी को कोई फर्क़ नहीं पड़ता अमीरों के 5 में से 1 मकान के किसी अवैध हिस्से भी एक                                                                       \n",
              "\n",
              "       Labels Set  \n",
              "0   offensive      \n",
              "3   offensive      \n",
              "5   non_offensive  \n",
              "10  non_offensive  \n",
              "11  offensive      "
            ]
          },
          "metadata": {
            "tags": []
          },
          "execution_count": 56
        }
      ]
    },
    {
      "cell_type": "code",
      "metadata": {
        "colab": {
          "base_uri": "https://localhost:8080/",
          "height": 263
        },
        "id": "IslUOYnCHeHb",
        "outputId": "2733a07b-c605-4370-de43-455b4b9f3d36"
      },
      "source": [
        "# hate train data \n",
        "hate_train.head()"
      ],
      "execution_count": null,
      "outputs": [
        {
          "output_type": "execute_result",
          "data": {
            "text/html": [
              "<div>\n",
              "<style scoped>\n",
              "    .dataframe tbody tr th:only-of-type {\n",
              "        vertical-align: middle;\n",
              "    }\n",
              "\n",
              "    .dataframe tbody tr th {\n",
              "        vertical-align: top;\n",
              "    }\n",
              "\n",
              "    .dataframe thead th {\n",
              "        text-align: right;\n",
              "    }\n",
              "</style>\n",
              "<table border=\"1\" class=\"dataframe\">\n",
              "  <thead>\n",
              "    <tr style=\"text-align: right;\">\n",
              "      <th></th>\n",
              "      <th>Unique ID</th>\n",
              "      <th>Post</th>\n",
              "      <th>Labels Set</th>\n",
              "    </tr>\n",
              "  </thead>\n",
              "  <tbody>\n",
              "    <tr>\n",
              "      <th>0</th>\n",
              "      <td>1</td>\n",
              "      <td>मेरे देश के हिन्दु बहुत निराले है  कुछ तो पक्के राम भक्त है और कुछ बाबर के साले है  जय श्री राम</td>\n",
              "      <td>hate</td>\n",
              "    </tr>\n",
              "    <tr>\n",
              "      <th>3</th>\n",
              "      <td>4</td>\n",
              "      <td>prabhav218 साले जेएनयू छाप कमिने लोग हिन्दुओं को यह कहते है की संविधान सबको बराबर अधिकार देता है  सच्चाई यह है कि यह बराबर अधिकार नहीं देता है</td>\n",
              "      <td>non_hate</td>\n",
              "    </tr>\n",
              "    <tr>\n",
              "      <th>5</th>\n",
              "      <td>6</td>\n",
              "      <td>चीन ने UN में तर्क दिया की भारत का विपक्ष ही अजर‌ मसुद को आतंकी नहीं मानता तो हम कैसे माने  चुल्लू भर मूत्र में डूब मरो गद्दारों  अब यह भारत के लोगों को सोचना है कि वो विपक्ष को वोट क्यों करें विक्रम शर्मा</td>\n",
              "      <td>non_hate</td>\n",
              "    </tr>\n",
              "    <tr>\n",
              "      <th>10</th>\n",
              "      <td>11</td>\n",
              "      <td>RT   Pb swain   मोदीजी और जब सारा देश सेना के साथ खडी है पर दो सयाने विदेश मे पडे है  इसलिए बोलते हैं विदेशी मां का बेटा कभी देशभक्त न</td>\n",
              "      <td>hate</td>\n",
              "    </tr>\n",
              "    <tr>\n",
              "      <th>11</th>\n",
              "      <td>12</td>\n",
              "      <td>RT  ShilpiSinghINC  48000 घरों को तोड़ने का आदेश आया है  किसी को कोई फर्क़ नहीं पड़ता अमीरों के 5 में से 1 मकान के किसी अवैध हिस्से भी एक</td>\n",
              "      <td>non_hate</td>\n",
              "    </tr>\n",
              "  </tbody>\n",
              "</table>\n",
              "</div>"
            ],
            "text/plain": [
              "    Unique ID  \\\n",
              "0   1           \n",
              "3   4           \n",
              "5   6           \n",
              "10  11          \n",
              "11  12          \n",
              "\n",
              "                                                                                                                                                                                                             Post  \\\n",
              "0   मेरे देश के हिन्दु बहुत निराले है  कुछ तो पक्के राम भक्त है और कुछ बाबर के साले है  जय श्री राम                                                                                                                 \n",
              "3    prabhav218 साले जेएनयू छाप कमिने लोग हिन्दुओं को यह कहते है की संविधान सबको बराबर अधिकार देता है  सच्चाई यह है कि यह बराबर अधिकार नहीं देता है                                                                 \n",
              "5   चीन ने UN में तर्क दिया की भारत का विपक्ष ही अजर‌ मसुद को आतंकी नहीं मानता तो हम कैसे माने  चुल्लू भर मूत्र में डूब मरो गद्दारों  अब यह भारत के लोगों को सोचना है कि वो विपक्ष को वोट क्यों करें विक्रम शर्मा   \n",
              "10  RT   Pb swain   मोदीजी और जब सारा देश सेना के साथ खडी है पर दो सयाने विदेश मे पडे है  इसलिए बोलते हैं विदेशी मां का बेटा कभी देशभक्त न                                                                          \n",
              "11  RT  ShilpiSinghINC  48000 घरों को तोड़ने का आदेश आया है  किसी को कोई फर्क़ नहीं पड़ता अमीरों के 5 में से 1 मकान के किसी अवैध हिस्से भी एक                                                                       \n",
              "\n",
              "   Labels Set  \n",
              "0   hate       \n",
              "3   non_hate   \n",
              "5   non_hate   \n",
              "10  hate       \n",
              "11  non_hate   "
            ]
          },
          "metadata": {
            "tags": []
          },
          "execution_count": 57
        }
      ]
    },
    {
      "cell_type": "code",
      "metadata": {
        "colab": {
          "base_uri": "https://localhost:8080/",
          "height": 280
        },
        "id": "fmQKX058HeKl",
        "outputId": "044cc925-fac4-4a83-a15d-8603a8a9bf11"
      },
      "source": [
        "# defamation train data\n",
        "defamation_train.head()"
      ],
      "execution_count": null,
      "outputs": [
        {
          "output_type": "execute_result",
          "data": {
            "text/html": [
              "<div>\n",
              "<style scoped>\n",
              "    .dataframe tbody tr th:only-of-type {\n",
              "        vertical-align: middle;\n",
              "    }\n",
              "\n",
              "    .dataframe tbody tr th {\n",
              "        vertical-align: top;\n",
              "    }\n",
              "\n",
              "    .dataframe thead th {\n",
              "        text-align: right;\n",
              "    }\n",
              "</style>\n",
              "<table border=\"1\" class=\"dataframe\">\n",
              "  <thead>\n",
              "    <tr style=\"text-align: right;\">\n",
              "      <th></th>\n",
              "      <th>Unique ID</th>\n",
              "      <th>Post</th>\n",
              "      <th>Labels Set</th>\n",
              "    </tr>\n",
              "  </thead>\n",
              "  <tbody>\n",
              "    <tr>\n",
              "      <th>0</th>\n",
              "      <td>1</td>\n",
              "      <td>मेरे देश के हिन्दु बहुत निराले है  कुछ तो पक्के राम भक्त है और कुछ बाबर के साले है  जय श्री राम</td>\n",
              "      <td>non_defamation</td>\n",
              "    </tr>\n",
              "    <tr>\n",
              "      <th>3</th>\n",
              "      <td>4</td>\n",
              "      <td>prabhav218 साले जेएनयू छाप कमिने लोग हिन्दुओं को यह कहते है की संविधान सबको बराबर अधिकार देता है  सच्चाई यह है कि यह बराबर अधिकार नहीं देता है</td>\n",
              "      <td>defamation</td>\n",
              "    </tr>\n",
              "    <tr>\n",
              "      <th>5</th>\n",
              "      <td>6</td>\n",
              "      <td>चीन ने UN में तर्क दिया की भारत का विपक्ष ही अजर‌ मसुद को आतंकी नहीं मानता तो हम कैसे माने  चुल्लू भर मूत्र में डूब मरो गद्दारों  अब यह भारत के लोगों को सोचना है कि वो विपक्ष को वोट क्यों करें विक्रम शर्मा</td>\n",
              "      <td>non_defamation</td>\n",
              "    </tr>\n",
              "    <tr>\n",
              "      <th>10</th>\n",
              "      <td>11</td>\n",
              "      <td>RT   Pb swain   मोदीजी और जब सारा देश सेना के साथ खडी है पर दो सयाने विदेश मे पडे है  इसलिए बोलते हैं विदेशी मां का बेटा कभी देशभक्त न</td>\n",
              "      <td>non_defamation</td>\n",
              "    </tr>\n",
              "    <tr>\n",
              "      <th>11</th>\n",
              "      <td>12</td>\n",
              "      <td>RT  ShilpiSinghINC  48000 घरों को तोड़ने का आदेश आया है  किसी को कोई फर्क़ नहीं पड़ता अमीरों के 5 में से 1 मकान के किसी अवैध हिस्से भी एक</td>\n",
              "      <td>non_defamation</td>\n",
              "    </tr>\n",
              "  </tbody>\n",
              "</table>\n",
              "</div>"
            ],
            "text/plain": [
              "    Unique ID  \\\n",
              "0   1           \n",
              "3   4           \n",
              "5   6           \n",
              "10  11          \n",
              "11  12          \n",
              "\n",
              "                                                                                                                                                                                                             Post  \\\n",
              "0   मेरे देश के हिन्दु बहुत निराले है  कुछ तो पक्के राम भक्त है और कुछ बाबर के साले है  जय श्री राम                                                                                                                 \n",
              "3    prabhav218 साले जेएनयू छाप कमिने लोग हिन्दुओं को यह कहते है की संविधान सबको बराबर अधिकार देता है  सच्चाई यह है कि यह बराबर अधिकार नहीं देता है                                                                 \n",
              "5   चीन ने UN में तर्क दिया की भारत का विपक्ष ही अजर‌ मसुद को आतंकी नहीं मानता तो हम कैसे माने  चुल्लू भर मूत्र में डूब मरो गद्दारों  अब यह भारत के लोगों को सोचना है कि वो विपक्ष को वोट क्यों करें विक्रम शर्मा   \n",
              "10  RT   Pb swain   मोदीजी और जब सारा देश सेना के साथ खडी है पर दो सयाने विदेश मे पडे है  इसलिए बोलते हैं विदेशी मां का बेटा कभी देशभक्त न                                                                          \n",
              "11  RT  ShilpiSinghINC  48000 घरों को तोड़ने का आदेश आया है  किसी को कोई फर्क़ नहीं पड़ता अमीरों के 5 में से 1 मकान के किसी अवैध हिस्से भी एक                                                                       \n",
              "\n",
              "        Labels Set  \n",
              "0   non_defamation  \n",
              "3   defamation      \n",
              "5   non_defamation  \n",
              "10  non_defamation  \n",
              "11  non_defamation  "
            ]
          },
          "metadata": {
            "tags": []
          },
          "execution_count": 58
        }
      ]
    },
    {
      "cell_type": "markdown",
      "metadata": {
        "id": "AHDFm9wSUHDG"
      },
      "source": [
        "### **Named Entity Recognition :**"
      ]
    },
    {
      "cell_type": "code",
      "metadata": {
        "colab": {
          "base_uri": "https://localhost:8080/"
        },
        "id": "yJkvkIypTxsz",
        "outputId": "fd5b7e85-497c-4005-82c2-59d80fb709c9"
      },
      "source": [
        "# embedding package for english \n",
        "downloader.download(\"embeddings2.en\")"
      ],
      "execution_count": null,
      "outputs": [
        {
          "output_type": "stream",
          "text": [
            "[polyglot_data] Downloading package embeddings2.en to\n",
            "[polyglot_data]     /root/polyglot_data...\n"
          ],
          "name": "stdout"
        },
        {
          "output_type": "execute_result",
          "data": {
            "text/plain": [
              "True"
            ]
          },
          "metadata": {
            "tags": []
          },
          "execution_count": 59
        }
      ]
    },
    {
      "cell_type": "code",
      "metadata": {
        "colab": {
          "base_uri": "https://localhost:8080/"
        },
        "id": "u8VB1eVybtGE",
        "outputId": "965eebc5-27b5-4f21-859a-bf41d9a44a5a"
      },
      "source": [
        "# named entity recognition package for english \n",
        "downloader.download(\"ner2.en\")"
      ],
      "execution_count": null,
      "outputs": [
        {
          "output_type": "stream",
          "text": [
            "[polyglot_data] Downloading package ner2.en to /root/polyglot_data...\n"
          ],
          "name": "stdout"
        },
        {
          "output_type": "execute_result",
          "data": {
            "text/plain": [
              "True"
            ]
          },
          "metadata": {
            "tags": []
          },
          "execution_count": 60
        }
      ]
    },
    {
      "cell_type": "code",
      "metadata": {
        "colab": {
          "base_uri": "https://localhost:8080/"
        },
        "id": "_zKJH26nbjeP",
        "outputId": "563440d4-4340-4689-b5f7-ff99c221bcbc"
      },
      "source": [
        "# embedding package for hindi\n",
        "downloader.download(\"embeddings2.hi\")"
      ],
      "execution_count": null,
      "outputs": [
        {
          "output_type": "stream",
          "text": [
            "[polyglot_data] Downloading package embeddings2.hi to\n",
            "[polyglot_data]     /root/polyglot_data...\n"
          ],
          "name": "stdout"
        },
        {
          "output_type": "execute_result",
          "data": {
            "text/plain": [
              "True"
            ]
          },
          "metadata": {
            "tags": []
          },
          "execution_count": 61
        }
      ]
    },
    {
      "cell_type": "code",
      "metadata": {
        "colab": {
          "base_uri": "https://localhost:8080/"
        },
        "id": "zjwsRSEubp77",
        "outputId": "dee7b852-9ac0-4c1e-e0d8-1217a287326b"
      },
      "source": [
        "# named entity recognition package for english \n",
        "downloader.download(\"ner2.hi\")"
      ],
      "execution_count": null,
      "outputs": [
        {
          "output_type": "stream",
          "text": [
            "[polyglot_data] Downloading package ner2.hi to /root/polyglot_data...\n"
          ],
          "name": "stdout"
        },
        {
          "output_type": "execute_result",
          "data": {
            "text/plain": [
              "True"
            ]
          },
          "metadata": {
            "tags": []
          },
          "execution_count": 62
        }
      ]
    },
    {
      "cell_type": "code",
      "metadata": {
        "id": "oagleBp5bxZX"
      },
      "source": [
        "# this function removes named entity for the given language code \n",
        "def named_entity_recognition(data,code):\n",
        "  \"\"\"\n",
        "  input   : data : post (not lists of posts only one post)\n",
        "            code : language code either english(\"en\") or hindi(\"hi\") \n",
        "  returns : post data with NER removed for the language code chosen\n",
        "  \"\"\"\n",
        "  l=[]\n",
        "  entity=Text(data,hint_language_code=code).entities\n",
        "  ner_list=[]\n",
        "  for o in entity:\n",
        "    ner_list.append(\" \".join(o))  \n",
        "  ner_list2=[]\n",
        "  for item in ner_list:\n",
        "    ner_list2.extend(item.split()) \n",
        "  new=list(data.split(\" \"))\n",
        "  for y in new:\n",
        "    if y in ner_list2:\n",
        "      new.remove(y)\n",
        "  l.append(new)\n",
        "  return \" \".join(l[0])\n",
        "\n",
        "# creates the new dataset after removing the named entities \n",
        "def dataset_after_NER(dataset,code):\n",
        "  \"\"\"\n",
        "  input   : dataset : cleaned binary label data \n",
        "               code : language code either english(\"en\") or hindi(\"hi\")\n",
        "  returns : cleaned data after named entity recognitions removed for the language code specified \n",
        "  \"\"\"\n",
        "  cleaned_df_hindi=pd.DataFrame()\n",
        "  cleaned_df_hindi['Unique ID']=dataset['Unique ID']\n",
        "  data=dataset['Post']\n",
        "  out=[]\n",
        "  for d in data:\n",
        "    out.append(named_entity_recognition(d,code))\n",
        "  cleaned_df_hindi['Post']=out\n",
        "  cleaned_df_hindi['Labels Set']=dataset['Labels Set']\n",
        "  return cleaned_df_hindi\n",
        "\n",
        "# ner on train data\n",
        "ner_binary_train=dataset_after_NER(binary_train_df,'hi') # hindi named entity removed \n",
        "ner_binary_train=dataset_after_NER(ner_binary_train,'en') # english named entity removed \n",
        "\n",
        "# ner on validate data \n",
        "ner_binary_validate=dataset_after_NER(binary_validate_df,'hi')\n",
        "ner_binary_validate=dataset_after_NER(ner_binary_validate,'en')"
      ],
      "execution_count": null,
      "outputs": []
    },
    {
      "cell_type": "code",
      "metadata": {
        "colab": {
          "base_uri": "https://localhost:8080/",
          "height": 263
        },
        "id": "hnJ8aOUpeSGg",
        "outputId": "fbc65fa7-5e84-4170-a21a-a64f03c508d9"
      },
      "source": [
        "ner_binary_train.head()"
      ],
      "execution_count": null,
      "outputs": [
        {
          "output_type": "execute_result",
          "data": {
            "text/html": [
              "<div>\n",
              "<style scoped>\n",
              "    .dataframe tbody tr th:only-of-type {\n",
              "        vertical-align: middle;\n",
              "    }\n",
              "\n",
              "    .dataframe tbody tr th {\n",
              "        vertical-align: top;\n",
              "    }\n",
              "\n",
              "    .dataframe thead th {\n",
              "        text-align: right;\n",
              "    }\n",
              "</style>\n",
              "<table border=\"1\" class=\"dataframe\">\n",
              "  <thead>\n",
              "    <tr style=\"text-align: right;\">\n",
              "      <th></th>\n",
              "      <th>Unique ID</th>\n",
              "      <th>Post</th>\n",
              "      <th>Labels Set</th>\n",
              "    </tr>\n",
              "  </thead>\n",
              "  <tbody>\n",
              "    <tr>\n",
              "      <th>0</th>\n",
              "      <td>1</td>\n",
              "      <td>देश के हिन्दु बहुत निराले है  कुछ तो पक्के भक्त है और कुछ के साले है  जय राम</td>\n",
              "      <td>hostile</td>\n",
              "    </tr>\n",
              "    <tr>\n",
              "      <th>1</th>\n",
              "      <td>2</td>\n",
              "      <td>हमेशा से किसानों की कमाई को बढ़ाने के लिए नई नई स्कीमें लाती रहती है  ताकि उन पर ज्यादा आर्थिक बोझ न पड़े</td>\n",
              "      <td>non-hostile</td>\n",
              "    </tr>\n",
              "    <tr>\n",
              "      <th>2</th>\n",
              "      <td>3</td>\n",
              "      <td>जो बिजनेस डील 9 जून को की थी  वो डील दीपेश को की हत्या के दिन ही क्यों याद आई  देखिए  पूछता है  अर्नब के साथ रिपब्लिक पर  LIVE</td>\n",
              "      <td>non-hostile</td>\n",
              "    </tr>\n",
              "    <tr>\n",
              "      <th>3</th>\n",
              "      <td>4</td>\n",
              "      <td>छाप कमिने लोग को यह कहते है की संविधान सबको बराबर अधिकार देता है  सच्चाई यह है कि यह बराबर अधिकार नहीं देता है</td>\n",
              "      <td>hostile</td>\n",
              "    </tr>\n",
              "    <tr>\n",
              "      <th>4</th>\n",
              "      <td>5</td>\n",
              "      <td>अनलॉक 4 के लिए गाइडलाइन्स जारी  7 सितंबर से में मेट्रो सेवा शुरु होगी  21 सितंबर के बाद रैलियों और बाकी फंक्शन में 100 लोगों को इजाजत  कंटेनमेंट जोन में कोई छूट नहीं  सिनेमाहॉल अभी बंद रहेंगे  9 से 12वीं के छात्र 21 सितंबर के बाद स्कूल जा सकेंगे</td>\n",
              "      <td>non-hostile</td>\n",
              "    </tr>\n",
              "  </tbody>\n",
              "</table>\n",
              "</div>"
            ],
            "text/plain": [
              "   Unique ID  \\\n",
              "0  1           \n",
              "1  2           \n",
              "2  3           \n",
              "3  4           \n",
              "4  5           \n",
              "\n",
              "                                                                                                                                                                                                                                                         Post  \\\n",
              "0  देश के हिन्दु बहुत निराले है  कुछ तो पक्के भक्त है और कुछ के साले है  जय राम                                                                                                                                                                                 \n",
              "1  हमेशा से किसानों की कमाई को बढ़ाने के लिए नई नई स्कीमें लाती रहती है  ताकि उन पर ज्यादा आर्थिक बोझ न पड़े                                                                                                                                                    \n",
              "2  जो बिजनेस डील 9 जून को की थी  वो डील दीपेश को की हत्या के दिन ही क्यों याद आई  देखिए  पूछता है  अर्नब के साथ रिपब्लिक पर  LIVE                                                                                                                               \n",
              "3   छाप कमिने लोग को यह कहते है की संविधान सबको बराबर अधिकार देता है  सच्चाई यह है कि यह बराबर अधिकार नहीं देता है                                                                                                                                              \n",
              "4     अनलॉक 4 के लिए गाइडलाइन्स जारी  7 सितंबर से में मेट्रो सेवा शुरु होगी  21 सितंबर के बाद रैलियों और बाकी फंक्शन में 100 लोगों को इजाजत  कंटेनमेंट जोन में कोई छूट नहीं  सिनेमाहॉल अभी बंद रहेंगे  9 से 12वीं के छात्र 21 सितंबर के बाद स्कूल जा सकेंगे     \n",
              "\n",
              "    Labels Set  \n",
              "0  hostile      \n",
              "1  non-hostile  \n",
              "2  non-hostile  \n",
              "3  hostile      \n",
              "4  non-hostile  "
            ]
          },
          "metadata": {
            "tags": []
          },
          "execution_count": 64
        }
      ]
    },
    {
      "cell_type": "code",
      "metadata": {
        "colab": {
          "base_uri": "https://localhost:8080/",
          "height": 297
        },
        "id": "VHtD08CPe4Qb",
        "outputId": "c0dd50d9-d01e-465a-8315-ffe094795627"
      },
      "source": [
        "ner_binary_validate.head()"
      ],
      "execution_count": null,
      "outputs": [
        {
          "output_type": "execute_result",
          "data": {
            "text/html": [
              "<div>\n",
              "<style scoped>\n",
              "    .dataframe tbody tr th:only-of-type {\n",
              "        vertical-align: middle;\n",
              "    }\n",
              "\n",
              "    .dataframe tbody tr th {\n",
              "        vertical-align: top;\n",
              "    }\n",
              "\n",
              "    .dataframe thead th {\n",
              "        text-align: right;\n",
              "    }\n",
              "</style>\n",
              "<table border=\"1\" class=\"dataframe\">\n",
              "  <thead>\n",
              "    <tr style=\"text-align: right;\">\n",
              "      <th></th>\n",
              "      <th>Unique ID</th>\n",
              "      <th>Post</th>\n",
              "      <th>Labels Set</th>\n",
              "    </tr>\n",
              "  </thead>\n",
              "  <tbody>\n",
              "    <tr>\n",
              "      <th>0</th>\n",
              "      <td>1</td>\n",
              "      <td>इच्छा शक्ति से परिपूर्ण प्रणबदा के लिए देशहित सर्वोच्च रहा उनका निधन हम सब के लिए अपूरणीय क्षति है ईश्वर दिवंगत आत्मा को अपने श्रीचरणों में स्थान दें  शोक संतप्त परिजनों के प्रति संवेदनाएं ऊं शांति</td>\n",
              "      <td>non-hostile</td>\n",
              "    </tr>\n",
              "    <tr>\n",
              "      <th>1</th>\n",
              "      <td>2</td>\n",
              "      <td>जनता rss वाले इतने गिरे हुए हैं जहां मैं रहती हूं वहां मेरी जासूसी  करा रहें है उसकी जासूस की पहचान मुझे अच्छी तरह है rss वाले की जासूस में कौन है प्रदेश में कौन है राजस्थान में कौन है सबकी पहचान है मुझे मेरी नजर से बच नहीं सकते हो</td>\n",
              "      <td>hostile</td>\n",
              "    </tr>\n",
              "    <tr>\n",
              "      <th>2</th>\n",
              "      <td>3</td>\n",
              "      <td>से निपटने की तैयारी   में 10 हजार बेड वाला दुनिया का सबसे बड़ा कोविड केयर सेंटर शुरू  शाह ने के 1 हजार बेड वाले सेंटर का भी उद्घाटन किया   ArvindKejriwal   rajnathsingh  AmitShah    crpfindia  ITBP official</td>\n",
              "      <td>non-hostile</td>\n",
              "    </tr>\n",
              "    <tr>\n",
              "      <th>3</th>\n",
              "      <td>4</td>\n",
              "      <td>कॉन्फ्रेंस में PM बोले  शिक्षा नीति में सरकार का दखल कम होना चाहिए</td>\n",
              "      <td>non-hostile</td>\n",
              "    </tr>\n",
              "    <tr>\n",
              "      <th>4</th>\n",
              "      <td>5</td>\n",
              "      <td>में Toilet घोटाला  प्रधान व सचिव ने किया लाखों का गबन  मुर्दों के नाम पर बनवा डाले शौचालय UP</td>\n",
              "      <td>non-hostile</td>\n",
              "    </tr>\n",
              "  </tbody>\n",
              "</table>\n",
              "</div>"
            ],
            "text/plain": [
              "   Unique ID  \\\n",
              "0  1           \n",
              "1  2           \n",
              "2  3           \n",
              "3  4           \n",
              "4  5           \n",
              "\n",
              "                                                                                                                                                                                                                                      Post  \\\n",
              "0  इच्छा शक्ति से परिपूर्ण प्रणबदा के लिए देशहित सर्वोच्च रहा उनका निधन हम सब के लिए अपूरणीय क्षति है ईश्वर दिवंगत आत्मा को अपने श्रीचरणों में स्थान दें  शोक संतप्त परिजनों के प्रति संवेदनाएं ऊं शांति                                     \n",
              "1  जनता rss वाले इतने गिरे हुए हैं जहां मैं रहती हूं वहां मेरी जासूसी  करा रहें है उसकी जासूस की पहचान मुझे अच्छी तरह है rss वाले की जासूस में कौन है प्रदेश में कौन है राजस्थान में कौन है सबकी पहचान है मुझे मेरी नजर से बच नहीं सकते हो   \n",
              "2  से निपटने की तैयारी   में 10 हजार बेड वाला दुनिया का सबसे बड़ा कोविड केयर सेंटर शुरू  शाह ने के 1 हजार बेड वाले सेंटर का भी उद्घाटन किया   ArvindKejriwal   rajnathsingh  AmitShah    crpfindia  ITBP official                            \n",
              "3  कॉन्फ्रेंस में PM बोले  शिक्षा नीति में सरकार का दखल कम होना चाहिए                                                                                                                                                                        \n",
              "4   में Toilet घोटाला  प्रधान व सचिव ने किया लाखों का गबन  मुर्दों के नाम पर बनवा डाले शौचालय UP                                                                                                                                             \n",
              "\n",
              "    Labels Set  \n",
              "0  non-hostile  \n",
              "1  hostile      \n",
              "2  non-hostile  \n",
              "3  non-hostile  \n",
              "4  non-hostile  "
            ]
          },
          "metadata": {
            "tags": []
          },
          "execution_count": 65
        }
      ]
    },
    {
      "cell_type": "markdown",
      "metadata": {
        "id": "3AeztdksfPFT"
      },
      "source": [
        "### **Stemming:**"
      ]
    },
    {
      "cell_type": "code",
      "metadata": {
        "id": "C3DhGjxufW3h"
      },
      "source": [
        "obj=HindiStemmer() # stemmer used for hindi language \n",
        "\n",
        "# stemmed words in hindi is removed and it is done using hindi stemmer \n",
        "def stem_word_removal(data):\n",
        "  \"\"\"\n",
        "  input   : data : post data which will contain a single post with so many words \n",
        "  returns : data with each word after being stemmed\n",
        "  \"\"\"\n",
        "  l=[]\n",
        "  for word in data.split(\" \"): # take each word from post and if greater than 1 stem it \n",
        "    if len(word)>1:\n",
        "      stem_word=obj.stemWord(word)\n",
        "      l.append(stem_word)\n",
        "  out=\" \".join(l)\n",
        "  return out\n",
        "\n",
        "# creating the dataset after stemming \n",
        "def dataset_after_stemming(dataset):\n",
        "  \"\"\"\n",
        "  input   : dataset : cleaned binary label data \n",
        "  returns : cleaned data after words in posts are stemmed\n",
        "  \"\"\"\n",
        "  cleaned_df_hindi=pd.DataFrame()\n",
        "  cleaned_df_hindi['Unique ID']=dataset['Unique ID']\n",
        "  data=dataset['Post']\n",
        "  out=[]\n",
        "  for d in data:\n",
        "    out.append(stem_word_removal(d))\n",
        "  cleaned_df_hindi['Post']=out\n",
        "  cleaned_df_hindi['Labels Set']=dataset['Labels Set']\n",
        "  return cleaned_df_hindi"
      ],
      "execution_count": null,
      "outputs": []
    },
    {
      "cell_type": "code",
      "metadata": {
        "colab": {
          "base_uri": "https://localhost:8080/",
          "height": 263
        },
        "id": "-tnswwpXf_mF",
        "outputId": "c441180d-478d-4441-b107-d138c9414664"
      },
      "source": [
        "# stemmed train dataset \n",
        "stemmed_train_binary_df=dataset_after_stemming(binary_train_df)\n",
        "stemmed_train_binary_df.head()"
      ],
      "execution_count": null,
      "outputs": [
        {
          "output_type": "execute_result",
          "data": {
            "text/html": [
              "<div>\n",
              "<style scoped>\n",
              "    .dataframe tbody tr th:only-of-type {\n",
              "        vertical-align: middle;\n",
              "    }\n",
              "\n",
              "    .dataframe tbody tr th {\n",
              "        vertical-align: top;\n",
              "    }\n",
              "\n",
              "    .dataframe thead th {\n",
              "        text-align: right;\n",
              "    }\n",
              "</style>\n",
              "<table border=\"1\" class=\"dataframe\">\n",
              "  <thead>\n",
              "    <tr style=\"text-align: right;\">\n",
              "      <th></th>\n",
              "      <th>Unique ID</th>\n",
              "      <th>Post</th>\n",
              "      <th>Labels Set</th>\n",
              "    </tr>\n",
              "  </thead>\n",
              "  <tbody>\n",
              "    <tr>\n",
              "      <th>0</th>\n",
              "      <td>1</td>\n",
              "      <td>मेर देश क हिन्द बहुत निराल है कुछ त पक्क राम भक्त है और कुछ बाबर क साल है जय श्र राम</td>\n",
              "      <td>hostile</td>\n",
              "    </tr>\n",
              "    <tr>\n",
              "      <th>1</th>\n",
              "      <td>2</td>\n",
              "      <td>सरकार हमेश स किसान क कम क बढ़ क ल न न स्कीम ल रह है ताक उन पर ज्याद आर्थिक बोझ पड़</td>\n",
              "      <td>non-hostile</td>\n",
              "    </tr>\n",
              "    <tr>\n",
              "      <th>2</th>\n",
              "      <td>3</td>\n",
              "      <td>सुशांत न ज बिजनेस डील जून क क थ व डील दीपेश क सुशांत क हत्य क दिन ह क्य याद आ देख पूछ है भारत अर्नब क साथ रिपब्लिक भारत पर LIVE</td>\n",
              "      <td>non-hostile</td>\n",
              "    </tr>\n",
              "    <tr>\n",
              "      <th>3</th>\n",
              "      <td>4</td>\n",
              "      <td>prabhav218 साल जेएनय छाप कमिन लोग हिन्द क यह कह है क संविधान सबक बराबर अधिकार देत है सच्च यह है क यह बराबर अधिकार नह देत है</td>\n",
              "      <td>hostile</td>\n",
              "    </tr>\n",
              "    <tr>\n",
              "      <th>4</th>\n",
              "      <td>5</td>\n",
              "      <td>unlock4guidelines अनलॉक क ल गाइडलाइन्स जार सितंबर स देशभर म मेट्र सेव शुर ह 21 सितंबर क बाद रैल और बाक फंक्शन म 100 लोग क इजाजत कंटेनमेंट जोन म को छूट नह सिनेमाहॉल अभ बंद रह स 12व क छात्र 21 सितंबर क बाद स्कूल ज सक</td>\n",
              "      <td>non-hostile</td>\n",
              "    </tr>\n",
              "  </tbody>\n",
              "</table>\n",
              "</div>"
            ],
            "text/plain": [
              "   Unique ID  \\\n",
              "0  1           \n",
              "1  2           \n",
              "2  3           \n",
              "3  4           \n",
              "4  5           \n",
              "\n",
              "                                                                                                                                                                                                                     Post  \\\n",
              "0  मेर देश क हिन्द बहुत निराल है कुछ त पक्क राम भक्त है और कुछ बाबर क साल है जय श्र राम                                                                                                                                     \n",
              "1  सरकार हमेश स किसान क कम क बढ़ क ल न न स्कीम ल रह है ताक उन पर ज्याद आर्थिक बोझ पड़                                                                                                                                       \n",
              "2  सुशांत न ज बिजनेस डील जून क क थ व डील दीपेश क सुशांत क हत्य क दिन ह क्य याद आ देख पूछ है भारत अर्नब क साथ रिपब्लिक भारत पर LIVE                                                                                          \n",
              "3  prabhav218 साल जेएनय छाप कमिन लोग हिन्द क यह कह है क संविधान सबक बराबर अधिकार देत है सच्च यह है क यह बराबर अधिकार नह देत है                                                                                              \n",
              "4  unlock4guidelines अनलॉक क ल गाइडलाइन्स जार सितंबर स देशभर म मेट्र सेव शुर ह 21 सितंबर क बाद रैल और बाक फंक्शन म 100 लोग क इजाजत कंटेनमेंट जोन म को छूट नह सिनेमाहॉल अभ बंद रह स 12व क छात्र 21 सितंबर क बाद स्कूल ज सक   \n",
              "\n",
              "    Labels Set  \n",
              "0  hostile      \n",
              "1  non-hostile  \n",
              "2  non-hostile  \n",
              "3  hostile      \n",
              "4  non-hostile  "
            ]
          },
          "metadata": {
            "tags": []
          },
          "execution_count": 67
        }
      ]
    },
    {
      "cell_type": "code",
      "metadata": {
        "colab": {
          "base_uri": "https://localhost:8080/",
          "height": 297
        },
        "id": "md-QRUDGgKV3",
        "outputId": "5926c30f-bde5-4229-f541-07d15a83aab5"
      },
      "source": [
        "# stemmed validate dataset\n",
        "stemmed_validate_binary_df=dataset_after_stemming(binary_validate_df)\n",
        "stemmed_validate_binary_df.head()"
      ],
      "execution_count": null,
      "outputs": [
        {
          "output_type": "execute_result",
          "data": {
            "text/html": [
              "<div>\n",
              "<style scoped>\n",
              "    .dataframe tbody tr th:only-of-type {\n",
              "        vertical-align: middle;\n",
              "    }\n",
              "\n",
              "    .dataframe tbody tr th {\n",
              "        vertical-align: top;\n",
              "    }\n",
              "\n",
              "    .dataframe thead th {\n",
              "        text-align: right;\n",
              "    }\n",
              "</style>\n",
              "<table border=\"1\" class=\"dataframe\">\n",
              "  <thead>\n",
              "    <tr style=\"text-align: right;\">\n",
              "      <th></th>\n",
              "      <th>Unique ID</th>\n",
              "      <th>Post</th>\n",
              "      <th>Labels Set</th>\n",
              "    </tr>\n",
              "  </thead>\n",
              "  <tbody>\n",
              "    <tr>\n",
              "      <th>0</th>\n",
              "      <td>1</td>\n",
              "      <td>दृढ़ इच्छ शक्त स परिपूर्ण प्रणबद क ल देशहित सर्वोच्च रह उनक निधन हम सब क ल अपूरणीय क्षत है ईश्वर दिवंगत आत्म क अप श्रीचरण म स्थान द शोक संतप्त परिजन क प्रत संवेद ऊं शांत</td>\n",
              "      <td>non-hostile</td>\n",
              "    </tr>\n",
              "    <tr>\n",
              "      <th>1</th>\n",
              "      <td>2</td>\n",
              "      <td>भारतीय जन पार्ट rss वाल इत गिर हु हैं जह मैं रह हूं वह मेर जासूस कर रह है उसक जासूस क पहचान मुझ अच्छ तरह है rss बीजेप वाल क जासूस दिल्ल म कौन है उत्तर प्रदेश म कौन है हरियाण राजस्थान म कौन है सबक पहचान है मुझ मेर नजर स बच नह सक ह</td>\n",
              "      <td>hostile</td>\n",
              "    </tr>\n",
              "    <tr>\n",
              "      <th>2</th>\n",
              "      <td>3</td>\n",
              "      <td>कोरोन स निपट क तैयार दिल्ल म 10 हजार बेड वाल दुनिय क सबस बड़ कोविड केयर सेंटर शुर राजनाथ शाह न डीआरडी क हजार बेड वाल सेंटर क भ उद्घाटन किय Delhi ArvindKejriwal rajnathsingh AmitShah DRDO India WHO crpfindia ITBP official</td>\n",
              "      <td>non-hostile</td>\n",
              "    </tr>\n",
              "    <tr>\n",
              "      <th>3</th>\n",
              "      <td>4</td>\n",
              "      <td>गवर्नर कॉन्फ्रेंस म PM मोद बोल शिक्ष नीत म सरकार क दखल कम होन चाह</td>\n",
              "      <td>non-hostile</td>\n",
              "    </tr>\n",
              "    <tr>\n",
              "      <th>4</th>\n",
              "      <td>5</td>\n",
              "      <td>यूप गाजीपुर म Toilet घोटाल प्रधान सचिव न किय लाख क गबन मुर्द क नाम पर बनव डाल शौचालय UP</td>\n",
              "      <td>non-hostile</td>\n",
              "    </tr>\n",
              "  </tbody>\n",
              "</table>\n",
              "</div>"
            ],
            "text/plain": [
              "   Unique ID  \\\n",
              "0  1           \n",
              "1  2           \n",
              "2  3           \n",
              "3  4           \n",
              "4  5           \n",
              "\n",
              "                                                                                                                                                                                                                                    Post  \\\n",
              "0  दृढ़ इच्छ शक्त स परिपूर्ण प्रणबद क ल देशहित सर्वोच्च रह उनक निधन हम सब क ल अपूरणीय क्षत है ईश्वर दिवंगत आत्म क अप श्रीचरण म स्थान द शोक संतप्त परिजन क प्रत संवेद ऊं शांत                                                               \n",
              "1  भारतीय जन पार्ट rss वाल इत गिर हु हैं जह मैं रह हूं वह मेर जासूस कर रह है उसक जासूस क पहचान मुझ अच्छ तरह है rss बीजेप वाल क जासूस दिल्ल म कौन है उत्तर प्रदेश म कौन है हरियाण राजस्थान म कौन है सबक पहचान है मुझ मेर नजर स बच नह सक ह   \n",
              "2  कोरोन स निपट क तैयार दिल्ल म 10 हजार बेड वाल दुनिय क सबस बड़ कोविड केयर सेंटर शुर राजनाथ शाह न डीआरडी क हजार बेड वाल सेंटर क भ उद्घाटन किय Delhi ArvindKejriwal rajnathsingh AmitShah DRDO India WHO crpfindia ITBP official            \n",
              "3  गवर्नर कॉन्फ्रेंस म PM मोद बोल शिक्ष नीत म सरकार क दखल कम होन चाह                                                                                                                                                                       \n",
              "4  यूप गाजीपुर म Toilet घोटाल प्रधान सचिव न किय लाख क गबन मुर्द क नाम पर बनव डाल शौचालय UP                                                                                                                                                 \n",
              "\n",
              "    Labels Set  \n",
              "0  non-hostile  \n",
              "1  hostile      \n",
              "2  non-hostile  \n",
              "3  non-hostile  \n",
              "4  non-hostile  "
            ]
          },
          "metadata": {
            "tags": []
          },
          "execution_count": 68
        }
      ]
    },
    {
      "cell_type": "code",
      "metadata": {
        "colab": {
          "base_uri": "https://localhost:8080/",
          "height": 263
        },
        "id": "d5BoFft9gU6A",
        "outputId": "6df5c5b6-0827-4d26-aac2-48121d83d748"
      },
      "source": [
        "# ner + stemmed train \n",
        "ner_stemmed_train_binary_df=dataset_after_stemming(ner_binary_train)\n",
        "ner_stemmed_train_binary_df.head()"
      ],
      "execution_count": null,
      "outputs": [
        {
          "output_type": "execute_result",
          "data": {
            "text/html": [
              "<div>\n",
              "<style scoped>\n",
              "    .dataframe tbody tr th:only-of-type {\n",
              "        vertical-align: middle;\n",
              "    }\n",
              "\n",
              "    .dataframe tbody tr th {\n",
              "        vertical-align: top;\n",
              "    }\n",
              "\n",
              "    .dataframe thead th {\n",
              "        text-align: right;\n",
              "    }\n",
              "</style>\n",
              "<table border=\"1\" class=\"dataframe\">\n",
              "  <thead>\n",
              "    <tr style=\"text-align: right;\">\n",
              "      <th></th>\n",
              "      <th>Unique ID</th>\n",
              "      <th>Post</th>\n",
              "      <th>Labels Set</th>\n",
              "    </tr>\n",
              "  </thead>\n",
              "  <tbody>\n",
              "    <tr>\n",
              "      <th>0</th>\n",
              "      <td>1</td>\n",
              "      <td>देश क हिन्द बहुत निराल है कुछ त पक्क भक्त है और कुछ क साल है जय राम</td>\n",
              "      <td>hostile</td>\n",
              "    </tr>\n",
              "    <tr>\n",
              "      <th>1</th>\n",
              "      <td>2</td>\n",
              "      <td>हमेश स किसान क कम क बढ़ क ल न न स्कीम ल रह है ताक उन पर ज्याद आर्थिक बोझ पड़</td>\n",
              "      <td>non-hostile</td>\n",
              "    </tr>\n",
              "    <tr>\n",
              "      <th>2</th>\n",
              "      <td>3</td>\n",
              "      <td>ज बिजनेस डील जून क क थ व डील दीपेश क क हत्य क दिन ह क्य याद आ देख पूछ है अर्नब क साथ रिपब्लिक पर LIVE</td>\n",
              "      <td>non-hostile</td>\n",
              "    </tr>\n",
              "    <tr>\n",
              "      <th>3</th>\n",
              "      <td>4</td>\n",
              "      <td>छाप कमिन लोग क यह कह है क संविधान सबक बराबर अधिकार देत है सच्च यह है क यह बराबर अधिकार नह देत है</td>\n",
              "      <td>hostile</td>\n",
              "    </tr>\n",
              "    <tr>\n",
              "      <th>4</th>\n",
              "      <td>5</td>\n",
              "      <td>अनलॉक क ल गाइडलाइन्स जार सितंबर स म मेट्र सेव शुर ह 21 सितंबर क बाद रैल और बाक फंक्शन म 100 लोग क इजाजत कंटेनमेंट जोन म को छूट नह सिनेमाहॉल अभ बंद रह स 12व क छात्र 21 सितंबर क बाद स्कूल ज सक</td>\n",
              "      <td>non-hostile</td>\n",
              "    </tr>\n",
              "  </tbody>\n",
              "</table>\n",
              "</div>"
            ],
            "text/plain": [
              "   Unique ID  \\\n",
              "0  1           \n",
              "1  2           \n",
              "2  3           \n",
              "3  4           \n",
              "4  5           \n",
              "\n",
              "                                                                                                                                                                                             Post  \\\n",
              "0  देश क हिन्द बहुत निराल है कुछ त पक्क भक्त है और कुछ क साल है जय राम                                                                                                                              \n",
              "1  हमेश स किसान क कम क बढ़ क ल न न स्कीम ल रह है ताक उन पर ज्याद आर्थिक बोझ पड़                                                                                                                     \n",
              "2  ज बिजनेस डील जून क क थ व डील दीपेश क क हत्य क दिन ह क्य याद आ देख पूछ है अर्नब क साथ रिपब्लिक पर LIVE                                                                                            \n",
              "3  छाप कमिन लोग क यह कह है क संविधान सबक बराबर अधिकार देत है सच्च यह है क यह बराबर अधिकार नह देत है                                                                                                 \n",
              "4  अनलॉक क ल गाइडलाइन्स जार सितंबर स म मेट्र सेव शुर ह 21 सितंबर क बाद रैल और बाक फंक्शन म 100 लोग क इजाजत कंटेनमेंट जोन म को छूट नह सिनेमाहॉल अभ बंद रह स 12व क छात्र 21 सितंबर क बाद स्कूल ज सक   \n",
              "\n",
              "    Labels Set  \n",
              "0  hostile      \n",
              "1  non-hostile  \n",
              "2  non-hostile  \n",
              "3  hostile      \n",
              "4  non-hostile  "
            ]
          },
          "metadata": {
            "tags": []
          },
          "execution_count": 69
        }
      ]
    },
    {
      "cell_type": "code",
      "metadata": {
        "colab": {
          "base_uri": "https://localhost:8080/",
          "height": 297
        },
        "id": "Mmel-nDNgVD5",
        "outputId": "11a6dad1-3795-4dc8-b5c6-905626d7ec85"
      },
      "source": [
        "# ner + stemmed validate\n",
        "ner_stemmed_validate_binary_df=dataset_after_stemming(ner_binary_validate)\n",
        "ner_stemmed_validate_binary_df.head()"
      ],
      "execution_count": null,
      "outputs": [
        {
          "output_type": "execute_result",
          "data": {
            "text/html": [
              "<div>\n",
              "<style scoped>\n",
              "    .dataframe tbody tr th:only-of-type {\n",
              "        vertical-align: middle;\n",
              "    }\n",
              "\n",
              "    .dataframe tbody tr th {\n",
              "        vertical-align: top;\n",
              "    }\n",
              "\n",
              "    .dataframe thead th {\n",
              "        text-align: right;\n",
              "    }\n",
              "</style>\n",
              "<table border=\"1\" class=\"dataframe\">\n",
              "  <thead>\n",
              "    <tr style=\"text-align: right;\">\n",
              "      <th></th>\n",
              "      <th>Unique ID</th>\n",
              "      <th>Post</th>\n",
              "      <th>Labels Set</th>\n",
              "    </tr>\n",
              "  </thead>\n",
              "  <tbody>\n",
              "    <tr>\n",
              "      <th>0</th>\n",
              "      <td>1</td>\n",
              "      <td>इच्छ शक्त स परिपूर्ण प्रणबद क ल देशहित सर्वोच्च रह उनक निधन हम सब क ल अपूरणीय क्षत है ईश्वर दिवंगत आत्म क अप श्रीचरण म स्थान द शोक संतप्त परिजन क प्रत संवेद ऊं शांत</td>\n",
              "      <td>non-hostile</td>\n",
              "    </tr>\n",
              "    <tr>\n",
              "      <th>1</th>\n",
              "      <td>2</td>\n",
              "      <td>जन rss वाल इत गिर हु हैं जह मैं रह हूं वह मेर जासूस कर रह है उसक जासूस क पहचान मुझ अच्छ तरह है rss वाल क जासूस म कौन है प्रदेश म कौन है राजस्थान म कौन है सबक पहचान है मुझ मेर नजर स बच नह सक ह</td>\n",
              "      <td>hostile</td>\n",
              "    </tr>\n",
              "    <tr>\n",
              "      <th>2</th>\n",
              "      <td>3</td>\n",
              "      <td>स निपट क तैयार म 10 हजार बेड वाल दुनिय क सबस बड़ कोविड केयर सेंटर शुर शाह न क हजार बेड वाल सेंटर क भ उद्घाटन किय ArvindKejriwal rajnathsingh AmitShah crpfindia ITBP official</td>\n",
              "      <td>non-hostile</td>\n",
              "    </tr>\n",
              "    <tr>\n",
              "      <th>3</th>\n",
              "      <td>4</td>\n",
              "      <td>कॉन्फ्रेंस म PM बोल शिक्ष नीत म सरकार क दखल कम होन चाह</td>\n",
              "      <td>non-hostile</td>\n",
              "    </tr>\n",
              "    <tr>\n",
              "      <th>4</th>\n",
              "      <td>5</td>\n",
              "      <td>म Toilet घोटाल प्रधान सचिव न किय लाख क गबन मुर्द क नाम पर बनव डाल शौचालय UP</td>\n",
              "      <td>non-hostile</td>\n",
              "    </tr>\n",
              "  </tbody>\n",
              "</table>\n",
              "</div>"
            ],
            "text/plain": [
              "   Unique ID  \\\n",
              "0  1           \n",
              "1  2           \n",
              "2  3           \n",
              "3  4           \n",
              "4  5           \n",
              "\n",
              "                                                                                                                                                                                              Post  \\\n",
              "0  इच्छ शक्त स परिपूर्ण प्रणबद क ल देशहित सर्वोच्च रह उनक निधन हम सब क ल अपूरणीय क्षत है ईश्वर दिवंगत आत्म क अप श्रीचरण म स्थान द शोक संतप्त परिजन क प्रत संवेद ऊं शांत                              \n",
              "1  जन rss वाल इत गिर हु हैं जह मैं रह हूं वह मेर जासूस कर रह है उसक जासूस क पहचान मुझ अच्छ तरह है rss वाल क जासूस म कौन है प्रदेश म कौन है राजस्थान म कौन है सबक पहचान है मुझ मेर नजर स बच नह सक ह   \n",
              "2  स निपट क तैयार म 10 हजार बेड वाल दुनिय क सबस बड़ कोविड केयर सेंटर शुर शाह न क हजार बेड वाल सेंटर क भ उद्घाटन किय ArvindKejriwal rajnathsingh AmitShah crpfindia ITBP official                     \n",
              "3  कॉन्फ्रेंस म PM बोल शिक्ष नीत म सरकार क दखल कम होन चाह                                                                                                                                            \n",
              "4  म Toilet घोटाल प्रधान सचिव न किय लाख क गबन मुर्द क नाम पर बनव डाल शौचालय UP                                                                                                                       \n",
              "\n",
              "    Labels Set  \n",
              "0  non-hostile  \n",
              "1  hostile      \n",
              "2  non-hostile  \n",
              "3  non-hostile  \n",
              "4  non-hostile  "
            ]
          },
          "metadata": {
            "tags": []
          },
          "execution_count": 70
        }
      ]
    },
    {
      "cell_type": "markdown",
      "metadata": {
        "id": "rXfBqVGfiLrt"
      },
      "source": [
        "# **DOWNLOADING ALL THE PRE-PROCESSED DATA:**"
      ]
    },
    {
      "cell_type": "code",
      "metadata": {
        "colab": {
          "base_uri": "https://localhost:8080/",
          "height": 153
        },
        "id": "sWrz_yNShtbv",
        "outputId": "66e9378a-c318-4c26-af19-cf1e5109729b"
      },
      "source": [
        "\"\"\"\n",
        "#cleaned_train\n",
        "cleaned_train_df.to_excel(\"cleaned_train_data.xlsx\") \n",
        "from google.colab import files\n",
        "files.download('cleaned_train_data.xlsx')\n",
        "\n",
        "#cleaned validate\n",
        "cleaned_validate_df.to_excel(\"cleaned_validate_data.xlsx\") \n",
        "from google.colab import files\n",
        "files.download('cleaned_validate_data.xlsx')\n",
        "\n",
        "# emojis removed dataset \n",
        "\n",
        "train_emoji.to_excel(\"train_emoji.xlsx\") \n",
        "from google.colab import files\n",
        "files.download('train_emoji.xlsx')\n",
        "\n",
        "validate_emoji.to_excel(\"validate_emoji.xlsx\") \n",
        "from google.colab import files\n",
        "files.download('validate_emoji.xlsx')\n",
        "\n",
        "# punctuations removed dataset \n",
        "\n",
        "train_punctuations.to_excel(\"train_punctuations.xlsx\") \n",
        "from google.colab import files\n",
        "files.download('train_punctuations.xlsx')\n",
        "\n",
        "validate_punctuations.to_excel(\"validate_punctuations.xlsx\") \n",
        "from google.colab import files\n",
        "files.download('validate_punctuations.xlsx')\n",
        "\n",
        "#hyperlinks removed dataset \n",
        "\n",
        "train_hyperlinks.to_excel(\"train_hyperlinks.xlsx\") \n",
        "from google.colab import files\n",
        "files.download('train_hyperlinks.xlsx')\n",
        "\n",
        "validate_hyperlinks.to_excel(\"validate_hyperlinks.xlsx\") \n",
        "from google.colab import files\n",
        "files.download('validate_hyperlinks.xlsx')\n",
        "\n",
        "# emojis removed dataset \n",
        "\n",
        "train_newlines.to_excel(\"train_newlines.xlsx\") \n",
        "from google.colab import files\n",
        "files.download('train_newlines.xlsx')\n",
        "\n",
        "validate_newlines.to_excel(\"validate_newlines.xlsx\") \n",
        "from google.colab import files\n",
        "files.download('validate_newlines.xlsx')\n",
        "\n",
        "#binary_train\n",
        "binary_train_df.to_excel(\"binary_train_data.xlsx\") \n",
        "from google.colab import files\n",
        "files.download('binary_train_data.xlsx')\n",
        "\n",
        "#binary validate\n",
        "binary_validate_df.to_excel(\"binary_validate_data.xlsx\") \n",
        "from google.colab import files\n",
        "files.download('binary_validate_data.xlsx')\n",
        "\n",
        "# 5 one hot vectors train\n",
        "outputlabel5_train_df.to_excel(\"output5hot_train_data.xlsx\") \n",
        "from google.colab import files\n",
        "files.download('output5hot_train_data.xlsx')\n",
        "\n",
        "# 5 one hot vectors validate \n",
        "outputlabel5_validate_df.to_excel(\"output5hot_validate_data.xlsx\") \n",
        "from google.colab import files\n",
        "files.download('output5hot_validate_data.xlsx')\n",
        "\n",
        "# 4 one hot vectors train\n",
        "outputlabel4_train_df.to_excel(\"output4hot_train_data.xlsx\") \n",
        "from google.colab import files\n",
        "files.download('output4hot_train_data.xlsx')\n",
        "\n",
        "# 4 one hot vectors validate\n",
        "outputlabel4_validate_df.to_excel(\"output4hot_validate_data.xlsx\") \n",
        "from google.colab import files\n",
        "files.download('output4hot_validate_data.xlsx')\n",
        "\n",
        "# fake train \n",
        "fake_train.to_excel(\"fake_train.xlsx\") \n",
        "from google.colab import files\n",
        "files.download('fake_train.xlsx')\n",
        "\n",
        "# fake validate\n",
        "fake_validate.to_excel(\"fake_validate.xlsx\") \n",
        "from google.colab import files\n",
        "files.download('fake_validate.xlsx')\n",
        "\n",
        "# hate train\n",
        "hate_train.to_excel(\"hate_train.xlsx\") \n",
        "from google.colab import files\n",
        "files.download('hate_train.xlsx')\n",
        "\n",
        "# hate validate \n",
        "hate_validate.to_excel(\"hate_validate.xlsx\") \n",
        "from google.colab import files\n",
        "files.download('hate_validate.xlsx')\n",
        "\n",
        "# defamation train\n",
        "defamation_train.to_excel(\"defamation_train.xlsx\") \n",
        "from google.colab import files\n",
        "files.download('defamation_train.xlsx')\n",
        "\n",
        "# defamation validate \n",
        "defamation_validate.to_excel(\"defamation_validate.xlsx\") \n",
        "from google.colab import files\n",
        "files.download('defamation_validate.xlsx')\n",
        "\n",
        "# offensive train \n",
        "offensive_train.to_excel(\"offensive_train.xlsx\") \n",
        "from google.colab import files\n",
        "files.download('offensive_train.xlsx')\n",
        "\n",
        "# offensive validate \n",
        "offensive_validate.to_excel(\"offensive_validate.xlsx\") \n",
        "from google.colab import files\n",
        "files.download('offensive_validate.xlsx')\n",
        "\n",
        "# named entity recognition train data\n",
        "ner_binary_train.to_excel(\"NER_train.xlsx\") \n",
        "from google.colab import files\n",
        "files.download('NER_train.xlsx')\n",
        "\n",
        "# named entity recognition validate data\n",
        "ner_binary_validate.to_excel(\"NER_validate.xlsx\") \n",
        "from google.colab import files\n",
        "files.download('NER_validate.xlsx')\n",
        "\n",
        "# stemmed train data\n",
        "stemmed_train_binary_df.to_excel(\"stemmed_train.xlsx\") \n",
        "from google.colab import files\n",
        "files.download('stemmed_train.xlsx')\n",
        "\n",
        "# stemmed validate data\n",
        "stemmed_validate_binary_df.to_excel(\"stemmed_validate.xlsx\") \n",
        "from google.colab import files\n",
        "files.download('stemmed_validate.xlsx')\n",
        "\n",
        "# NER stemmed train data\n",
        "ner_stemmed_train_binary_df.to_excel(\"ner_stemmed_train.xlsx\") \n",
        "from google.colab import files\n",
        "files.download('stemmed_train.xlsx')\n",
        "\n",
        "# NER stemmed validate data\n",
        "ner_stemmed_validate_binary_df.to_excel(\"ner_stemmed_validate.xlsx\") \n",
        "from google.colab import files\n",
        "files.download('stemmed_validate.xlsx')\n",
        "\"\"\""
      ],
      "execution_count": null,
      "outputs": [
        {
          "output_type": "execute_result",
          "data": {
            "application/vnd.google.colaboratory.intrinsic+json": {
              "type": "string"
            },
            "text/plain": [
              "'\\n#cleaned_train\\ncleaned_train_df.to_excel(\"cleaned_train_data.xlsx\") \\nfrom google.colab import files\\nfiles.download(\\'cleaned_train_data.xlsx\\')\\n\\n#cleaned validate\\ncleaned_validate_df.to_excel(\"cleaned_validate_data.xlsx\") \\nfrom google.colab import files\\nfiles.download(\\'cleaned_validate_data.xlsx\\')\\n\\n# emojis removed dataset \\n\\ntrain_emoji.to_excel(\"train_emoji.xlsx\") \\nfrom google.colab import files\\nfiles.download(\\'train_emoji.xlsx\\')\\n\\nvalidate_emoji.to_excel(\"validate_emoji.xlsx\") \\nfrom google.colab import files\\nfiles.download(\\'validate_emoji.xlsx\\')\\n\\n# punctuations removed dataset \\n\\ntrain_punctuations.to_excel(\"train_punctuations.xlsx\") \\nfrom google.colab import files\\nfiles.download(\\'train_punctuations.xlsx\\')\\n\\nvalidate_punctuations.to_excel(\"validate_punctuations.xlsx\") \\nfrom google.colab import files\\nfiles.download(\\'validate_punctuations.xlsx\\')\\n\\n#hyperlinks removed dataset \\n\\ntrain_hyperlinks.to_excel(\"train_hyperlinks.xlsx\") \\nfrom google.colab import files\\nfiles.download(\\'train_hyperlinks.xlsx\\')\\n\\nvalidate_hyperlinks.to_excel(\"validate_hyperlinks.xlsx\") \\nfrom google.colab import files\\nfiles.download(\\'validate_hyperlinks.xlsx\\')\\n\\n# emojis removed dataset \\n\\ntrain_newlines.to_excel(\"train_newlines.xlsx\") \\nfrom google.colab import files\\nfiles.download(\\'train_newlines.xlsx\\')\\n\\nvalidate_newlines.to_excel(\"validate_newlines.xlsx\") \\nfrom google.colab import files\\nfiles.download(\\'validate_newlines.xlsx\\')\\n\\n#binary_train\\nbinary_train_df.to_excel(\"binary_train_data.xlsx\") \\nfrom google.colab import files\\nfiles.download(\\'binary_train_data.xlsx\\')\\n\\n#binary validate\\nbinary_validate_df.to_excel(\"binary_validate_data.xlsx\") \\nfrom google.colab import files\\nfiles.download(\\'binary_validate_data.xlsx\\')\\n\\n# 5 one hot vectors train\\noutputlabel5_train_df.to_excel(\"output5hot_train_data.xlsx\") \\nfrom google.colab import files\\nfiles.download(\\'output5hot_train_data.xlsx\\')\\n\\n# 5 one hot vectors validate \\noutputlabel5_validate_df.to_excel(\"output5hot_validate_data.xlsx\") \\nfrom google.colab import files\\nfiles.download(\\'output5hot_validate_data.xlsx\\')\\n\\n# 4 one hot vectors train\\noutputlabel4_train_df.to_excel(\"output4hot_train_data.xlsx\") \\nfrom google.colab import files\\nfiles.download(\\'output4hot_train_data.xlsx\\')\\n\\n# 4 one hot vectors validate\\noutputlabel4_validate_df.to_excel(\"output4hot_validate_data.xlsx\") \\nfrom google.colab import files\\nfiles.download(\\'output4hot_validate_data.xlsx\\')\\n\\n# fake train \\nfake_train.to_excel(\"fake_train.xlsx\") \\nfrom google.colab import files\\nfiles.download(\\'fake_train.xlsx\\')\\n\\n# fake validate\\nfake_validate.to_excel(\"fake_validate.xlsx\") \\nfrom google.colab import files\\nfiles.download(\\'fake_validate.xlsx\\')\\n\\n# hate train\\nhate_train.to_excel(\"hate_train.xlsx\") \\nfrom google.colab import files\\nfiles.download(\\'hate_train.xlsx\\')\\n\\n# hate validate \\nhate_validate.to_excel(\"hate_validate.xlsx\") \\nfrom google.colab import files\\nfiles.download(\\'hate_validate.xlsx\\')\\n\\n# defamation train\\ndefamation_train.to_excel(\"defamation_train.xlsx\") \\nfrom google.colab import files\\nfiles.download(\\'defamation_train.xlsx\\')\\n\\n# defamation validate \\ndefamation_validate.to_excel(\"defamation_validate.xlsx\") \\nfrom google.colab import files\\nfiles.download(\\'defamation_validate.xlsx\\')\\n\\n# offensive train \\noffensive_train.to_excel(\"offensive_train.xlsx\") \\nfrom google.colab import files\\nfiles.download(\\'offensive_train.xlsx\\')\\n\\n# offensive validate \\noffensive_validate.to_excel(\"offensive_validate.xlsx\") \\nfrom google.colab import files\\nfiles.download(\\'offensive_validate.xlsx\\')\\n\\n# named entity recognition train data\\nner_binary_train.to_excel(\"NER_train.xlsx\") \\nfrom google.colab import files\\nfiles.download(\\'NER_train.xlsx\\')\\n\\n# named entity recognition validate data\\nner_binary_validate.to_excel(\"NER_validate.xlsx\") \\nfrom google.colab import files\\nfiles.download(\\'NER_validate.xlsx\\')\\n\\n# stemmed train data\\nstemmed_train_binary_df.to_excel(\"stemmed_train.xlsx\") \\nfrom google.colab import files\\nfiles.download(\\'stemmed_train.xlsx\\')\\n\\n# stemmed validate data\\nstemmed_validate_binary_df.to_excel(\"stemmed_validate.xlsx\") \\nfrom google.colab import files\\nfiles.download(\\'stemmed_validate.xlsx\\')\\n\\n# NER stemmed train data\\nner_stemmed_train_binary_df.to_excel(\"ner_stemmed_train.xlsx\") \\nfrom google.colab import files\\nfiles.download(\\'stemmed_train.xlsx\\')\\n\\n# NER stemmed validate data\\nner_stemmed_validate_binary_df.to_excel(\"ner_stemmed_validate.xlsx\") \\nfrom google.colab import files\\nfiles.download(\\'stemmed_validate.xlsx\\')\\n'"
            ]
          },
          "metadata": {
            "tags": []
          },
          "execution_count": 71
        }
      ]
    }
  ]
}