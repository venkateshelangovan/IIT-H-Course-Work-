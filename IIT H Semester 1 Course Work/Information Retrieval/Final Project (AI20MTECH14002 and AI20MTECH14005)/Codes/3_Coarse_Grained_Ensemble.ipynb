{
  "nbformat": 4,
  "nbformat_minor": 0,
  "metadata": {
    "colab": {
      "name": "Coarse Grained Ensemble.ipynb",
      "provenance": []
    },
    "kernelspec": {
      "name": "python3",
      "display_name": "Python 3"
    },
    "accelerator": "GPU"
  },
  "cells": [
    {
      "cell_type": "markdown",
      "metadata": {
        "id": "95UzhBOzHUjx"
      },
      "source": [
        "# Code Objective:\n",
        "\n",
        "*   Ensemble from BERT and XLMRoberta Prediction Probabilities to Enhance Performance of Coarse Grained Evaluation\n",
        "\n",
        "# Code Result:\n",
        "*   (Previous) Accuracy - BERT Model for Coarse Grained Evaluation = 91.63 %\n",
        "*   (Previous) Accuracy - XLMRoBerta for Coarse Grained Evaluation = 89.76 %\n",
        "*   Accuracy - Ensemble (BERT+Roberta) for Coarse Grained Evaluation = 92.60 %\n",
        "\n",
        "\n",
        "\n"
      ]
    },
    {
      "cell_type": "markdown",
      "metadata": {
        "id": "hsXFEqjPINxA"
      },
      "source": [
        "# Importing Libraries"
      ]
    },
    {
      "cell_type": "code",
      "metadata": {
        "id": "vlW5QKbi2_IN"
      },
      "source": [
        "import os\n",
        "import itertools\n",
        "import numpy as np\n",
        "import pandas as pd\n",
        "import tensorflow as tf\n",
        "from google.colab import drive\n",
        "import matplotlib.pyplot as plt\n",
        "from sklearn.metrics import confusion_matrix \n",
        "from sklearn.metrics import classification_report\n",
        "from sklearn.model_selection import train_test_split\n",
        "from tensorflow.keras.models import Model, Sequential\n",
        "from tensorflow.keras.layers import Dropout, Dense, Add, Multiply, Average, Concatenate, Input, Subtract"
      ],
      "execution_count": null,
      "outputs": []
    },
    {
      "cell_type": "markdown",
      "metadata": {
        "id": "jqHmJSIwIRQy"
      },
      "source": [
        "# Data Loading"
      ]
    },
    {
      "cell_type": "code",
      "metadata": {
        "id": "NmvhuUbo5_cv"
      },
      "source": [
        "drive.mount('/content/gdrive')\n",
        "path = '/content/gdrive/My Drive/CONSTRAINT 2021 Projects (AAAI)/Hindi_Task/Prediction_Probs_Binary/'\n",
        "\n",
        "# Probability Data Loading\n",
        "x_train_1 = np.load(path + 'Train_Probs_Bert.npy', allow_pickle = True)\n",
        "x_test_1 = np.load(path + 'Test_Probs_Bert.npy', allow_pickle = True)\n",
        "x_train_2 = np.load(path + 'Train_Probs_XLMR.npy', allow_pickle = True)\n",
        "x_test_2 = np.load(path + 'Test_Probs_XLMR.npy', allow_pickle = True)\n",
        "y_train = np.load(path + 'Train_Labels.npy', allow_pickle = True)\n",
        "y_test = np.load(path + 'Test_Labels.npy', allow_pickle = True)\n",
        "\n",
        "print(\"X Train Prob BERT Size = {}\".format(x_train_1.shape)) \n",
        "print(\"X Test Prob BERT Size = {}\".format(x_test_1.shape))\n",
        "print(\"X Train Prob XLMR Size = {}\".format(x_train_2.shape))\n",
        "print(\"X Train Prob XLMR Size = {}\".format(x_test_2.shape))\n",
        "print(\"Y Train Label Size = {}\".format(y_train.shape))\n",
        "print(\"Y Test Label Size = {}\".format(y_test.shape))"
      ],
      "execution_count": null,
      "outputs": []
    },
    {
      "cell_type": "markdown",
      "metadata": {
        "id": "BhX_VueOIaBw"
      },
      "source": [
        "# Ensemble Architecture (BERT and XLMRoberta)"
      ]
    },
    {
      "cell_type": "code",
      "metadata": {
        "id": "jCJN_30h54zt"
      },
      "source": [
        "# Input Placeholders\n",
        "input_1 = Input(shape = (2,))\n",
        "input_2 = Input(shape = (2,))\n",
        "\n",
        "# Ensemble Model Archirecture\n",
        "def Classifier_Top(input_1,input_2):\n",
        "    activation = 'tanh'\n",
        "    z1 = Dense(units = 50, activation = activation)(input_1)\n",
        "    z1 = Dropout(0.2)(z1)\n",
        "    z2 = Dense(units = 50, activation = activation)(input_2)\n",
        "    z2 = Dropout(0.2)(z2)\n",
        "    z = Concatenate()([z1,z2])\n",
        "    z = Dense(units = 30, activation = activation)(z)\n",
        "    z = Dropout(0.2)(z)\n",
        "    z = Dense(units = 20, activation = activation)(z)\n",
        "    z = Dropout(0.2)(z)\n",
        "    z = Dense(units = 10, activation = activation)(z)\n",
        "    z = Dropout(0.2)(z)\n",
        "    z = Dense(units = 5, activation = activation)(z)\n",
        "    z = Dropout(0.2)(z)\n",
        "    output = Dense(units = 1, activation = 'sigmoid')(z)\n",
        "    model = Model(inputs = [input_1,input_2], outputs = output)\n",
        "    model.summary()\n",
        "    return model \n",
        "\n",
        "# Compile and Train Model\n",
        "def compile_and_train(model, num_epochs): \n",
        "    model.compile(optimizer= 'adam', loss= 'binary_crossentropy', metrics=['acc']) \n",
        "    history = model.fit([x_train_1,x_train_2], y_train, batch_size=32, epochs=num_epochs, validation_split=0.2)\n",
        "    return history"
      ],
      "execution_count": null,
      "outputs": []
    },
    {
      "cell_type": "markdown",
      "metadata": {
        "id": "HOvD3MJ_I0lw"
      },
      "source": [
        "# Training and Evaluation"
      ]
    },
    {
      "cell_type": "code",
      "metadata": {
        "id": "TRMty4OQ8FZM"
      },
      "source": [
        "Epochs = 10                                     # Training Iteration Number\n",
        "Classifier = Classifier_Top(input_1,input_2)\n",
        "history = compile_and_train(Classifier,Epochs)"
      ],
      "execution_count": null,
      "outputs": []
    },
    {
      "cell_type": "markdown",
      "metadata": {
        "id": "mSpLGt7zJSzv"
      },
      "source": [
        "# Evaluation"
      ]
    },
    {
      "cell_type": "code",
      "metadata": {
        "id": "KUZO_TTd-ybs"
      },
      "source": [
        "test_scores = Classifier.evaluate([x_test_1,x_test_2], y_test, verbose=2)\n",
        "print(\"Test loss:\", test_scores[0])\n",
        "print(\"Test accuracy:\", test_scores[1])"
      ],
      "execution_count": null,
      "outputs": []
    },
    {
      "cell_type": "markdown",
      "metadata": {
        "id": "5aty4RWmJatg"
      },
      "source": [
        "# Model Save"
      ]
    },
    {
      "cell_type": "code",
      "metadata": {
        "id": "2o3oOP_mz4yy"
      },
      "source": [
        "Classifier.save_weights(\"Task_1_Best.h5\")"
      ],
      "execution_count": null,
      "outputs": []
    },
    {
      "cell_type": "markdown",
      "metadata": {
        "id": "wIR3Dpm9JmYA"
      },
      "source": [
        "# Visualization of Test Result (Coarse Grained Evaluation)"
      ]
    },
    {
      "cell_type": "code",
      "metadata": {
        "id": "QKtzfRfD0buz"
      },
      "source": [
        "# Code for Changing \n",
        "def pred_to_lab(y_pred_probs, mode):\n",
        "  labels = []\n",
        "  for i in y_pred_probs:\n",
        "    if i<0.5:\n",
        "      if mode == 'Num':\n",
        "        labels.append(0)\n",
        "      elif mode == 'Text':\n",
        "        labels.append('non-hostile')\n",
        "    else:\n",
        "      if mode == 'Num':\n",
        "        labels.append(1)\n",
        "      elif mode == 'Text':\n",
        "        labels.append('hostile')\n",
        "  if mode == 'Num':\n",
        "    return np.array(labels)\n",
        "  elif mode == 'Text':\n",
        "    return labels\n",
        "\n",
        "y_pred_probs = Classifier.predict([x_test_1,x_test_2])\n",
        "\n",
        "y_pred = pred_to_lab(y_pred_probs, mode = 'Num')\n",
        "print(y_pred)"
      ],
      "execution_count": null,
      "outputs": []
    },
    {
      "cell_type": "code",
      "metadata": {
        "colab": {
          "base_uri": "https://localhost:8080/",
          "height": 620
        },
        "id": "sZzKemQJ0xYA",
        "outputId": "3ba6fcff-f394-4c2f-a4f6-584112c2712d"
      },
      "source": [
        "def plot_confusion_matrix(cm, target_names, title='Confusion matrix', cmap=None, normalize=False):\n",
        "    \"\"\"\n",
        "    given a sklearn confusion matrix (cm), make a nice plot\n",
        "\n",
        "    Arguments\n",
        "    ---------\n",
        "    cm:           confusion matrix from sklearn.metrics.confusion_matrix\n",
        "    target_names: given classification classes such as [0, 1, 2]\n",
        "                  the class names, for example: ['high', 'medium', 'low']\n",
        "    title:        the text to display at the top of the matrix\n",
        "    cmap:         the gradient of the values displayed from matplotlib.pyplot.cm\n",
        "                  see http://matplotlib.org/examples/color/colormaps_reference.html\n",
        "                  plt.get_cmap('jet') or plt.cm.Blues\n",
        "\n",
        "    normalize:    If False, plot the raw numbers\n",
        "                  If True, plot the proportions\n",
        "    \"\"\"\n",
        "    accuracy = np.trace(cm) / np.sum(cm).astype('float')\n",
        "    misclass = 1 - accuracy\n",
        "\n",
        "    if cmap is None:\n",
        "        cmap = plt.get_cmap('Blues')\n",
        "\n",
        "    plt.figure(figsize=(8, 6))\n",
        "    plt.imshow(cm, interpolation='nearest', cmap=cmap)\n",
        "    plt.title(title)\n",
        "    plt.colorbar()\n",
        "\n",
        "    if target_names is not None:\n",
        "        tick_marks = np.arange(len(target_names))\n",
        "        plt.xticks(tick_marks, target_names, rotation=45)\n",
        "        plt.yticks(tick_marks, target_names)\n",
        "\n",
        "    if normalize:\n",
        "        cm = cm.astype('float') / cm.sum(axis=1)[:, np.newaxis]\n",
        "\n",
        "\n",
        "    thresh = cm.max() / 1.5 if normalize else cm.max() / 2\n",
        "    for i, j in itertools.product(range(cm.shape[0]), range(cm.shape[1])):\n",
        "        if normalize:\n",
        "            plt.text(j, i, \"{:0.4f}\".format(cm[i, j]),\n",
        "                     horizontalalignment=\"center\",\n",
        "                     color=\"white\" if cm[i, j] > thresh else \"black\")\n",
        "        else:\n",
        "            plt.text(j, i, \"{:,}\".format(cm[i, j]),\n",
        "                     horizontalalignment=\"center\",\n",
        "                     color=\"white\" if cm[i, j] > thresh else \"black\")\n",
        "\n",
        "\n",
        "    plt.tight_layout()\n",
        "    plt.ylabel('True label')\n",
        "    plt.xlabel('Predicted label\\naccuracy={:0.4f}; misclass={:0.4f}'.format(accuracy, misclass))\n",
        "    plt.show()\n",
        "\n",
        "print(classification_report(y_test,y_pred))\n",
        "target_names = ['Non Hostile','Hostile']\n",
        "cm = confusion_matrix(y_test, y_pred)\n",
        "plot_confusion_matrix(cm, target_names)"
      ],
      "execution_count": null,
      "outputs": [
        {
          "output_type": "stream",
          "text": [
            "              precision    recall  f1-score   support\n",
            "\n",
            "           0       0.93      0.94      0.93       435\n",
            "           1       0.93      0.91      0.92       376\n",
            "\n",
            "    accuracy                           0.93       811\n",
            "   macro avg       0.93      0.93      0.93       811\n",
            "weighted avg       0.93      0.93      0.93       811\n",
            "\n"
          ],
          "name": "stdout"
        },
        {
          "output_type": "display_data",
          "data": {
            "image/png": "[encoded data removed]",
            "text/plain": [
              "<Figure size 576x432 with 2 Axes>"
            ]
          },
          "metadata": {
            "tags": [],
            "needs_background": "light"
          }
        }
      ]
    },
    {
      "cell_type": "code",
      "metadata": {
        "id": "zN5jxsNR1Wpg"
      },
      "source": [
        "# Saving Predicted Labels of Coarse Grained Evaluation\n",
        "np.save(\"Task_1_Pred_Labels.npy\",y_pred)"
      ],
      "execution_count": null,
      "outputs": []
    }
  ]
}