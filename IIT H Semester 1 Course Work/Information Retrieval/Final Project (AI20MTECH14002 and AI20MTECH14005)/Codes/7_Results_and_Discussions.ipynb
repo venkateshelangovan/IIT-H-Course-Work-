{
  "nbformat": 4,
  "nbformat_minor": 0,
  "metadata": {
    "colab": {
      "name": "Results and Discussions.ipynb",
      "provenance": [],
      "collapsed_sections": [],
      "toc_visible": true
    },
    "kernelspec": {
      "name": "python3",
      "display_name": "Python 3"
    }
  },
  "cells": [
    {
      "cell_type": "markdown",
      "metadata": {
        "id": "F1X4n7ni4w2x"
      },
      "source": [
        "### **IMPORTING THE LIBRARIES :**"
      ]
    },
    {
      "cell_type": "code",
      "metadata": {
        "colab": {
          "base_uri": "https://localhost:8080/"
        },
        "id": "tXmp6B4HTNHb",
        "outputId": "30cef39c-8233-49a0-c53d-0c1ab1d7f523"
      },
      "source": [
        "# to import datasets from google drive \r\n",
        "from google.colab import drive\r\n",
        "drive.mount(\"/content/gdrive\")"
      ],
      "execution_count": 1,
      "outputs": [
        {
          "output_type": "stream",
          "text": [
            "Mounted at /content/gdrive\n"
          ],
          "name": "stdout"
        }
      ]
    },
    {
      "cell_type": "code",
      "metadata": {
        "colab": {
          "base_uri": "https://localhost:8080/"
        },
        "id": "761i6kkwWBK2",
        "outputId": "d5d558ea-a896-4288-f402-66b5664c8f2e"
      },
      "source": [
        "pip install polyglot"
      ],
      "execution_count": 2,
      "outputs": [
        {
          "output_type": "stream",
          "text": [
            "Collecting polyglot\n",
            "\u001b[?25l  Downloading https://files.pythonhosted.org/packages/e7/98/e24e2489114c5112b083714277204d92d372f5bbe00d5507acf40370edb9/polyglot-16.7.4.tar.gz (126kB)\n",
            "\r\u001b[K     |██▋                             | 10kB 16.0MB/s eta 0:00:01\r\u001b[K     |█████▏                          | 20kB 19.9MB/s eta 0:00:01\r\u001b[K     |███████▉                        | 30kB 14.1MB/s eta 0:00:01\r\u001b[K     |██████████▍                     | 40kB 11.0MB/s eta 0:00:01\r\u001b[K     |█████████████                   | 51kB 9.3MB/s eta 0:00:01\r\u001b[K     |███████████████▋                | 61kB 9.5MB/s eta 0:00:01\r\u001b[K     |██████████████████▏             | 71kB 9.7MB/s eta 0:00:01\r\u001b[K     |████████████████████▊           | 81kB 9.3MB/s eta 0:00:01\r\u001b[K     |███████████████████████▍        | 92kB 9.1MB/s eta 0:00:01\r\u001b[K     |██████████████████████████      | 102kB 9.6MB/s eta 0:00:01\r\u001b[K     |████████████████████████████▌   | 112kB 9.6MB/s eta 0:00:01\r\u001b[K     |███████████████████████████████▏| 122kB 9.6MB/s eta 0:00:01\r\u001b[K     |████████████████████████████████| 133kB 9.6MB/s \n",
            "\u001b[?25hBuilding wheels for collected packages: polyglot\n",
            "  Building wheel for polyglot (setup.py) ... \u001b[?25l\u001b[?25hdone\n",
            "  Created wheel for polyglot: filename=polyglot-16.7.4-py2.py3-none-any.whl size=52558 sha256=66e7073dfd26301cef2b6310217ebfcfd49d8f3c85550fc78d35cedd00799ac2\n",
            "  Stored in directory: /root/.cache/pip/wheels/5e/91/ef/f1369fdc1203b0a9347d4b24f149b83a305f39ab047986d9da\n",
            "Successfully built polyglot\n",
            "Installing collected packages: polyglot\n",
            "Successfully installed polyglot-16.7.4\n"
          ],
          "name": "stdout"
        }
      ]
    },
    {
      "cell_type": "code",
      "metadata": {
        "colab": {
          "base_uri": "https://localhost:8080/"
        },
        "id": "U8BJp2iYWCJ5",
        "outputId": "85979d18-9f58-4f20-c71f-2af6f46a623b"
      },
      "source": [
        "pip install icu"
      ],
      "execution_count": 3,
      "outputs": [
        {
          "output_type": "stream",
          "text": [
            "Collecting icu\n",
            "\u001b[?25l  Downloading https://files.pythonhosted.org/packages/89/d8/0972fa39747faea092e8105103f261e01d6cefe262cbe036df8b0b8ada44/icu-0.0.1-py3-none-any.whl (49kB)\n",
            "\r\u001b[K     |██████▋                         | 10kB 18.7MB/s eta 0:00:01\r\u001b[K     |█████████████▏                  | 20kB 23.4MB/s eta 0:00:01\r\u001b[K     |███████████████████▉            | 30kB 17.5MB/s eta 0:00:01\r\u001b[K     |██████████████████████████▍     | 40kB 12.0MB/s eta 0:00:01\r\u001b[K     |████████████████████████████████| 51kB 4.2MB/s \n",
            "\u001b[?25hInstalling collected packages: icu\n",
            "Successfully installed icu-0.0.1\n"
          ],
          "name": "stdout"
        }
      ]
    },
    {
      "cell_type": "code",
      "metadata": {
        "colab": {
          "base_uri": "https://localhost:8080/"
        },
        "id": "pdamU330WEmX",
        "outputId": "7a370c00-e5d2-42ea-f826-24020bd7c76c"
      },
      "source": [
        "pip install -U git+https://github.com/aboSamoor/polyglot.git@master"
      ],
      "execution_count": 4,
      "outputs": [
        {
          "output_type": "stream",
          "text": [
            "Collecting git+https://github.com/aboSamoor/polyglot.git@master\n",
            "  Cloning https://github.com/aboSamoor/polyglot.git (to revision master) to /tmp/pip-req-build-rybii1na\n",
            "  Running command git clone -q https://github.com/aboSamoor/polyglot.git /tmp/pip-req-build-rybii1na\n",
            "Requirement already satisfied, skipping upgrade: wheel>=0.23.0 in /usr/local/lib/python3.6/dist-packages (from polyglot==16.7.4) (0.36.1)\n",
            "Collecting PyICU>=1.8\n",
            "\u001b[?25l  Downloading https://files.pythonhosted.org/packages/31/46/fa08c8efae2951e67681ec24319f789fc1a74e2096dd74373e34c79319de/PyICU-2.6.tar.gz (233kB)\n",
            "\u001b[K     |████████████████████████████████| 235kB 9.1MB/s \n",
            "\u001b[?25hCollecting morfessor>=2.0.2a1\n",
            "  Downloading https://files.pythonhosted.org/packages/39/e6/7afea30be2ee4d29ce9de0fa53acbb033163615f849515c0b1956ad074ee/Morfessor-2.0.6-py3-none-any.whl\n",
            "Requirement already satisfied, skipping upgrade: six>=1.7.3 in /usr/local/lib/python3.6/dist-packages (from polyglot==16.7.4) (1.15.0)\n",
            "Requirement already satisfied, skipping upgrade: numpy>=1.6.1 in /usr/local/lib/python3.6/dist-packages (from polyglot==16.7.4) (1.18.5)\n",
            "Collecting pycld2>=0.3\n",
            "\u001b[?25l  Downloading https://files.pythonhosted.org/packages/21/d2/8b0def84a53c88d0eb27c67b05269fbd16ad68df8c78849e7b5d65e6aec3/pycld2-0.41.tar.gz (41.4MB)\n",
            "\u001b[K     |████████████████████████████████| 41.4MB 108kB/s \n",
            "\u001b[?25hCollecting futures>=2.1.6\n",
            "  Downloading https://files.pythonhosted.org/packages/05/80/f41cca0ea1ff69bce7e7a7d76182b47bb4e1a494380a532af3e8ee70b9ec/futures-3.1.1-py3-none-any.whl\n",
            "Building wheels for collected packages: polyglot, PyICU, pycld2\n",
            "  Building wheel for polyglot (setup.py) ... \u001b[?25l\u001b[?25hdone\n",
            "  Created wheel for polyglot: filename=polyglot-16.7.4-py2.py3-none-any.whl size=70643 sha256=f3058ff55206a54f0e656cd98353febf387d6d3390c0dd967a9766b39a5a1a13\n",
            "  Stored in directory: /tmp/pip-ephem-wheel-cache-67kqho3v/wheels/42/d9/73/345c7ae8554299ff8b31635d64eb8455fd591385fa734cdbef\n",
            "  Building wheel for PyICU (setup.py) ... \u001b[?25l\u001b[?25hdone\n",
            "  Created wheel for PyICU: filename=PyICU-2.6-cp36-cp36m-linux_x86_64.whl size=1288049 sha256=7b07b646b8636e94073f7f361c2d7a5c60b652ab531f75276bd86d5c236c2681\n",
            "  Stored in directory: /root/.cache/pip/wheels/31/21/2f/1c91831e8a93537ab21f6b4b935781b681104635fdb0315791\n",
            "  Building wheel for pycld2 (setup.py) ... \u001b[?25l\u001b[?25hdone\n",
            "  Created wheel for pycld2: filename=pycld2-0.41-cp36-cp36m-linux_x86_64.whl size=9833513 sha256=6edc5d5b07df0c71e41a3665f5178d27dfdbaab8572527d837f139155a5746c4\n",
            "  Stored in directory: /root/.cache/pip/wheels/c6/8f/e9/08a1a8932a490175bd140206cd86a3dbcfc70498100de11079\n",
            "Successfully built polyglot PyICU pycld2\n",
            "Installing collected packages: PyICU, morfessor, pycld2, futures, polyglot\n",
            "  Found existing installation: polyglot 16.7.4\n",
            "    Uninstalling polyglot-16.7.4:\n",
            "      Successfully uninstalled polyglot-16.7.4\n",
            "Successfully installed PyICU-2.6 futures-3.1.1 morfessor-2.0.6 polyglot-16.7.4 pycld2-0.41\n"
          ],
          "name": "stdout"
        }
      ]
    },
    {
      "cell_type": "code",
      "metadata": {
        "id": "l56VJ4zmvBxW"
      },
      "source": [
        "# importing the libraries \r\n",
        "import os\r\n",
        "import itertools\r\n",
        "import numpy as np \r\n",
        "import pandas as pd \r\n",
        "import re \r\n",
        "import math as m \r\n",
        "import matplotlib.pyplot as plt\r\n",
        "from matplotlib.font_manager import FontProperties\r\n",
        "import seaborn as sns\r\n",
        "\r\n",
        "from sklearn.metrics import f1_score\r\n",
        "from sklearn.metrics import accuracy_score\r\n",
        "from sklearn.metrics import confusion_matrix \r\n",
        "from sklearn.metrics import classification_report as Report\r\n",
        "\r\n",
        "import polyglot\r\n",
        "from polyglot.text import Text,Word\r\n",
        "from polyglot.downloader import downloader\r\n",
        "\r\n",
        "import warnings \r\n",
        "warnings.filterwarnings(\"ignore\")"
      ],
      "execution_count": 5,
      "outputs": []
    },
    {
      "cell_type": "code",
      "metadata": {
        "id": "cQrnORuyTb_S"
      },
      "source": [
        "# to display entire rows and columns of dataframe \r\n",
        "pd.set_option('display.max_rows', None)\r\n",
        "pd.set_option('display.max_columns', None)\r\n",
        "pd.set_option('display.width', None)\r\n",
        "pd.set_option('display.max_colwidth', -1)"
      ],
      "execution_count": 6,
      "outputs": []
    },
    {
      "cell_type": "markdown",
      "metadata": {
        "id": "6E4ZN6pi46Ly"
      },
      "source": [
        "### **LOADING THE DATASET :**"
      ]
    },
    {
      "cell_type": "code",
      "metadata": {
        "id": "rDYHKhScvKQ9"
      },
      "source": [
        "#importing binary validate data\r\n",
        "binary_validate_df=pd.read_excel(\"binary_validate_data.xlsx\")\r\n",
        "# importing hostile label data \r\n",
        "fake_validate=pd.read_excel(\"fake_validate (1).xlsx\")\r\n",
        "hate_validate=pd.read_excel(\"hate_validate.xlsx\")\r\n",
        "offensive_validate=pd.read_excel(\"offensive_validate (1).xlsx\")\r\n",
        "defamation_validate=pd.read_excel(\"defamation_validate.xlsx\")\r\n",
        "\r\n",
        "# coarse grained evaluation \r\n",
        "y_pred=np.load('Y_pred_coarse.npy',allow_pickle=True)\r\n",
        "# one vs rest approach prediction results for each hostile labels \r\n",
        "y_defamation_pred=np.load('y_pred_defamation.npy',allow_pickle=True)\r\n",
        "y_fake_pred=np.load('Fake_validation_Pred_Label.npy',allow_pickle=True)\r\n",
        "y_hate_pred=np.load('Hate_validation_Pred_Label.npy',allow_pickle=True)\r\n",
        "y_offensive_pred=np.load('Offensive_validation_Pred_Label.npy',allow_pickle=True)"
      ],
      "execution_count": 8,
      "outputs": []
    },
    {
      "cell_type": "markdown",
      "metadata": {
        "id": "19QYGp7i5Azo"
      },
      "source": [
        "### **F1 SCORE AND ACCURACY SCORE OF COARSE GRAINED AND FINE GRAINED EVALUATION :**"
      ]
    },
    {
      "cell_type": "code",
      "metadata": {
        "id": "viNqh-KCv0Zw"
      },
      "source": [
        "def return_ytrue(df,neglabel):\r\n",
        "  \"\"\"\r\n",
        "  input : df - dataframe\r\n",
        "          neglabel - negative label in label set feature of given dataframe\r\n",
        "  returns : numpy array of y_true(true labels given in the dataset)\r\n",
        "  \"\"\"\r\n",
        "  y_true=[]\r\n",
        "  for x in df[\"Labels Set\"]:\r\n",
        "    if x==neglabel:\r\n",
        "      y_true.append(0)\r\n",
        "    else:\r\n",
        "      y_true.append(1)\r\n",
        "  y_true=np.array(y_true)\r\n",
        "  return y_true"
      ],
      "execution_count": 9,
      "outputs": []
    },
    {
      "cell_type": "code",
      "metadata": {
        "colab": {
          "base_uri": "https://localhost:8080/"
        },
        "id": "yjP3AKGhxHJS",
        "outputId": "014713f9-4eb1-4cc1-a938-81928ffd40f5"
      },
      "source": [
        "y_true=return_ytrue(binary_validate_df,\"non-hostile\")\r\n",
        "print(\"F1 SCORE OF COARSE GRAINED EVALUATION : \\n\",f1_score(y_true,y_pred,average=\"weighted\"))\r\n",
        "print(\"_____________________________________________________________________________________-\")\r\n",
        "print(\"\\nACCURACY OF COARSE GRAINED EVALUATION : \\n\",accuracy_score(y_true,y_pred))"
      ],
      "execution_count": 10,
      "outputs": [
        {
          "output_type": "stream",
          "text": [
            "F1 SCORE OF COARSE GRAINED EVALUATION : \n",
            " 0.925973110467058\n",
            "_____________________________________________________________________________________-\n",
            "\n",
            "ACCURACY OF COARSE GRAINED EVALUATION : \n",
            " 0.9260172626387176\n"
          ],
          "name": "stdout"
        }
      ]
    },
    {
      "cell_type": "code",
      "metadata": {
        "colab": {
          "base_uri": "https://localhost:8080/"
        },
        "id": "ZuvmHwVA3wqT",
        "outputId": "eab008f2-1aa5-4060-cd51-c2eee4a3a722"
      },
      "source": [
        "# for fine grained evaluation \r\n",
        "\r\n",
        "# fake dataset \r\n",
        "y_fake_true=return_ytrue(fake_validate,\"non_fake\")\r\n",
        "print(\"F1 SCORE OF FAKE LABELS : \\n\",f1_score(y_fake_true,y_fake_pred,average=\"weighted\"))\r\n",
        "print(\"_____________________________________________________________________________________-\")\r\n",
        "print(\"\\nACCURACY OF FAKE LABELS : \\n\",accuracy_score(y_fake_true,y_fake_pred))\r\n",
        "print(\"--------------------------------------------------------------------------------------\")\r\n",
        "y_hate_true=return_ytrue(hate_validate,\"non_hate\")\r\n",
        "print(\"\\nF1 SCORE OF HATE LABELS : \\n\",f1_score(y_hate_true,y_hate_pred,average=\"weighted\"))\r\n",
        "print(\"_____________________________________________________________________________________-\")\r\n",
        "print(\"\\nACCURACY OF HATE LABELS : \\n\",accuracy_score(y_hate_true,y_hate_pred))\r\n",
        "print(\"--------------------------------------------------------------------------------------\")\r\n",
        "y_offensive_true=return_ytrue(offensive_validate,\"non_offensive\")\r\n",
        "print(\"\\nF1 SCORE OF OFFENSIVE LABELS : \\n\",f1_score(y_offensive_true,y_offensive_pred,average=\"weighted\"))\r\n",
        "print(\"_____________________________________________________________________________________-\")\r\n",
        "print(\"\\nACCURACY OF OFFENSIVE LABELS : \\n\",accuracy_score(y_offensive_true,y_offensive_pred))\r\n",
        "print(\"--------------------------------------------------------------------------------------\")\r\n",
        "y_defamation_true=return_ytrue(defamation_validate,\"non_defamation\")\r\n",
        "print(\"\\nF1 SCORE OF DEFAMATION LABELS : \\n\",f1_score(y_defamation_true,y_defamation_pred,average=\"weighted\"))\r\n",
        "print(\"_____________________________________________________________________________________-\")\r\n",
        "print(\"\\nACCURACY OF DEFAMATION LABELS : \\n\",accuracy_score(y_defamation_true,y_defamation_pred))"
      ],
      "execution_count": 11,
      "outputs": [
        {
          "output_type": "stream",
          "text": [
            "F1 SCORE OF FAKE LABELS : \n",
            " 0.8114684644277689\n",
            "_____________________________________________________________________________________-\n",
            "\n",
            "ACCURACY OF FAKE LABELS : \n",
            " 0.8138297872340425\n",
            "--------------------------------------------------------------------------------------\n",
            "\n",
            "F1 SCORE OF HATE LABELS : \n",
            " 0.6959854983144972\n",
            "_____________________________________________________________________________________-\n",
            "\n",
            "ACCURACY OF HATE LABELS : \n",
            " 0.6968085106382979\n",
            "--------------------------------------------------------------------------------------\n",
            "\n",
            "F1 SCORE OF OFFENSIVE LABELS : \n",
            " 0.7301320501740262\n",
            "_____________________________________________________________________________________-\n",
            "\n",
            "ACCURACY OF OFFENSIVE LABELS : \n",
            " 0.7313829787234043\n",
            "--------------------------------------------------------------------------------------\n",
            "\n",
            "F1 SCORE OF DEFAMATION LABELS : \n",
            " 0.7529407173640095\n",
            "_____________________________________________________________________________________-\n",
            "\n",
            "ACCURACY OF DEFAMATION LABELS : \n",
            " 0.773936170212766\n"
          ],
          "name": "stdout"
        }
      ]
    },
    {
      "cell_type": "markdown",
      "metadata": {
        "id": "XyUNsUfR5NnY"
      },
      "source": [
        "### **CONFUSION MATRIX :**"
      ]
    },
    {
      "cell_type": "code",
      "metadata": {
        "id": "On7T58cjyXnN"
      },
      "source": [
        "def plot_confusion_matrix(cm,\r\n",
        "                          target_names,\r\n",
        "                          title='Confusion matrix',\r\n",
        "                          cmap=None,\r\n",
        "                          normalize=False):\r\n",
        "    \"\"\"\r\n",
        "    given a sklearn confusion matrix (cm), make a nice plot\r\n",
        "\r\n",
        "    Arguments\r\n",
        "    ---------\r\n",
        "    cm:           confusion matrix from sklearn.metrics.confusion_matrix\r\n",
        "    target_names: given classification classes such as [0, 1, 2]\r\n",
        "                  the class names, for example: ['high', 'medium', 'low']\r\n",
        "    title:        the text to display at the top of the matrix\r\n",
        "    cmap:         the gradient of the values displayed from matplotlib.pyplot.cm\r\n",
        "                  see http://matplotlib.org/examples/color/colormaps_reference.html\r\n",
        "                  plt.get_cmap('jet') or plt.cm.Blues\r\n",
        "\r\n",
        "    normalize:    If False, plot the raw numbers\r\n",
        "                  If True, plot the proportions\r\n",
        "\r\n",
        "    Usage\r\n",
        "    -----\r\n",
        "    plot_confusion_matrix(cm           = cm,                  # confusion matrix created by\r\n",
        "                                                              # sklearn.metrics.confusion_matrix\r\n",
        "                          normalize    = True,                # show proportions\r\n",
        "                          target_names = y_labels_vals,       # list of names of the classes\r\n",
        "                          title        = best_estimator_name) # title of graph\r\n",
        "\r\n",
        "    Citiation\r\n",
        "    ---------\r\n",
        "    http://scikit-learn.org/stable/auto_examples/model_selection/plot_confusion_matrix.html\r\n",
        "\r\n",
        "    \"\"\"\r\n",
        "    accuracy = np.trace(cm) / np.sum(cm).astype('float')\r\n",
        "    misclass = 1 - accuracy\r\n",
        "\r\n",
        "    if cmap is None:\r\n",
        "        cmap = plt.get_cmap('Blues')\r\n",
        "\r\n",
        "    plt.figure(figsize=(8, 6))\r\n",
        "    plt.imshow(cm, interpolation='nearest', cmap=cmap)\r\n",
        "    plt.title(title)\r\n",
        "    plt.colorbar()\r\n",
        "\r\n",
        "    if target_names is not None:\r\n",
        "        tick_marks = np.arange(len(target_names))\r\n",
        "        plt.xticks(tick_marks, target_names, rotation=0)\r\n",
        "        plt.yticks(tick_marks, target_names)\r\n",
        "\r\n",
        "    if normalize:\r\n",
        "        cm = cm.astype('float') / cm.sum(axis=1)[:, np.newaxis]\r\n",
        "\r\n",
        "\r\n",
        "    thresh = cm.max() / 1.5 if normalize else cm.max() / 2\r\n",
        "    for i, j in itertools.product(range(cm.shape[0]), range(cm.shape[1])):\r\n",
        "        if normalize:\r\n",
        "            plt.text(j, i, \"{:0.4f}\".format(cm[i, j]),\r\n",
        "                     horizontalalignment=\"center\",\r\n",
        "                     color=\"white\" if cm[i, j] > thresh else \"black\")\r\n",
        "        else:\r\n",
        "            plt.text(j, i, \"{:,}\".format(cm[i, j]),\r\n",
        "                     horizontalalignment=\"center\",\r\n",
        "                     color=\"white\" if cm[i, j] > thresh else \"black\")\r\n",
        "\r\n",
        "\r\n",
        "    plt.tight_layout()\r\n",
        "    plt.ylabel('True label')\r\n",
        "    plt.xlabel('Predicted label\\naccuracy={:0.4f}; misclass={:0.4f}'.format(accuracy, misclass))\r\n",
        "    plt.show()\r\n",
        "\r\n",
        "def plot(neglabel,poslabel,y_true,y_pred):\r\n",
        "  \"\"\"\r\n",
        "  input : neglabel - false label\r\n",
        "          poslabel - true label \r\n",
        "          y_true - true y_labels \r\n",
        "          y_pred - predicted y_labels\r\n",
        "  plots : confusion matrix for the y_true and y_pred that is being passed \r\n",
        "  \"\"\"\r\n",
        "  # Classification Report\r\n",
        "  print(Report(y_true,y_pred))\r\n",
        "  # Label Names\r\n",
        "  target_names = [neglabel,poslabel]\r\n",
        "  # Confusion Matrix\r\n",
        "  cm = confusion_matrix(y_true, y_pred)\r\n",
        "  # Actual Plot (Downloadble)\r\n",
        "  plot_confusion_matrix(cm, target_names)"
      ],
      "execution_count": 12,
      "outputs": []
    },
    {
      "cell_type": "code",
      "metadata": {
        "colab": {
          "base_uri": "https://localhost:8080/",
          "height": 1000
        },
        "id": "Y7-KNwLq1iSQ",
        "outputId": "c43cf34f-6b6c-4788-c6f1-4b7ea22ab6e6"
      },
      "source": [
        "plot(\"non-hostile\",\"hostile\",y_true,y_pred)\r\n",
        "print(\"_________________________________________________________________________________________\")\r\n",
        "print(\"_________________________________________________________________________________________\")\r\n",
        "print(\"_________________________________________________________________________________________\")\r\n",
        "plot(\"non_fake\",\"fake\",y_fake_true,y_fake_pred)\r\n",
        "print(\"_________________________________________________________________________________________\")\r\n",
        "print(\"_________________________________________________________________________________________\")\r\n",
        "print(\"_________________________________________________________________________________________\")\r\n",
        "plot(\"non_hate\",\"hate\",y_hate_true,y_hate_pred)\r\n",
        "print(\"_________________________________________________________________________________________\")\r\n",
        "print(\"_________________________________________________________________________________________\")\r\n",
        "print(\"_________________________________________________________________________________________\")\r\n",
        "plot(\"non_offensive\",\"offensive\",y_offensive_true,y_offensive_pred)\r\n",
        "print(\"_________________________________________________________________________________________\")\r\n",
        "print(\"_________________________________________________________________________________________\")\r\n",
        "print(\"_________________________________________________________________________________________\")\r\n",
        "plot(\"non_defamation\",\"defamation\",y_defamation_true,y_defamation_pred)"
      ],
      "execution_count": 13,
      "outputs": [
        {
          "output_type": "stream",
          "text": [
            "              precision    recall  f1-score   support\n",
            "\n",
            "           0       0.93      0.94      0.93       435\n",
            "           1       0.93      0.91      0.92       376\n",
            "\n",
            "    accuracy                           0.93       811\n",
            "   macro avg       0.93      0.93      0.93       811\n",
            "weighted avg       0.93      0.93      0.93       811\n",
            "\n"
          ],
          "name": "stdout"
        },
        {
          "output_type": "display_data",
          "data": {
            "image/png": "[encoded data removed]",
            "text/plain": [
              "<Figure size 576x432 with 2 Axes>"
            ]
          },
          "metadata": {
            "tags": [],
            "needs_background": "light"
          }
        },
        {
          "output_type": "stream",
          "text": [
            "_________________________________________________________________________________________\n",
            "_________________________________________________________________________________________\n",
            "_________________________________________________________________________________________\n",
            "              precision    recall  f1-score   support\n",
            "\n",
            "           0       0.81      0.89      0.85       216\n",
            "           1       0.83      0.71      0.77       160\n",
            "\n",
            "    accuracy                           0.81       376\n",
            "   macro avg       0.82      0.80      0.81       376\n",
            "weighted avg       0.81      0.81      0.81       376\n",
            "\n"
          ],
          "name": "stdout"
        },
        {
          "output_type": "display_data",
          "data": {
            "image/png": "[encoded data removed]",
            "text/plain": [
              "<Figure size 576x432 with 2 Axes>"
            ]
          },
          "metadata": {
            "tags": [],
            "needs_background": "light"
          }
        },
        {
          "output_type": "stream",
          "text": [
            "_________________________________________________________________________________________\n",
            "_________________________________________________________________________________________\n",
            "_________________________________________________________________________________________\n",
            "              precision    recall  f1-score   support\n",
            "\n",
            "           0       0.78      0.79      0.79       266\n",
            "           1       0.48      0.47      0.48       110\n",
            "\n",
            "    accuracy                           0.70       376\n",
            "   macro avg       0.63      0.63      0.63       376\n",
            "weighted avg       0.70      0.70      0.70       376\n",
            "\n"
          ],
          "name": "stdout"
        },
        {
          "output_type": "display_data",
          "data": {
            "image/png": "[encoded data removed]",
            "text/plain": [
              "<Figure size 576x432 with 2 Axes>"
            ]
          },
          "metadata": {
            "tags": [],
            "needs_background": "light"
          }
        },
        {
          "output_type": "stream",
          "text": [
            "_________________________________________________________________________________________\n",
            "_________________________________________________________________________________________\n",
            "_________________________________________________________________________________________\n",
            "              precision    recall  f1-score   support\n",
            "\n",
            "           0       0.81      0.82      0.82       273\n",
            "           1       0.51      0.50      0.50       103\n",
            "\n",
            "    accuracy                           0.73       376\n",
            "   macro avg       0.66      0.66      0.66       376\n",
            "weighted avg       0.73      0.73      0.73       376\n",
            "\n"
          ],
          "name": "stdout"
        },
        {
          "output_type": "display_data",
          "data": {
            "image/png": "[encoded data removed]",
            "text/plain": [
              "<Figure size 576x432 with 2 Axes>"
            ]
          },
          "metadata": {
            "tags": [],
            "needs_background": "light"
          }
        },
        {
          "output_type": "stream",
          "text": [
            "_________________________________________________________________________________________\n",
            "_________________________________________________________________________________________\n",
            "_________________________________________________________________________________________\n",
            "              precision    recall  f1-score   support\n",
            "\n",
            "           0       0.83      0.91      0.86       299\n",
            "           1       0.42      0.26      0.32        77\n",
            "\n",
            "    accuracy                           0.77       376\n",
            "   macro avg       0.62      0.58      0.59       376\n",
            "weighted avg       0.74      0.77      0.75       376\n",
            "\n"
          ],
          "name": "stdout"
        },
        {
          "output_type": "display_data",
          "data": {
            "image/png": "[encoded data removed]",
            "text/plain": [
              "<Figure size 576x432 with 2 Axes>"
            ]
          },
          "metadata": {
            "tags": [],
            "needs_background": "light"
          }
        }
      ]
    },
    {
      "cell_type": "markdown",
      "metadata": {
        "id": "wlEtsIoo5SkX"
      },
      "source": [
        "### **VISUALIZING THE PREDICTED TEST LABELS :**"
      ]
    },
    {
      "cell_type": "code",
      "metadata": {
        "colab": {
          "base_uri": "https://localhost:8080/",
          "height": 230
        },
        "id": "q_zMK45VSzii",
        "outputId": "7bb51703-17e6-4e32-9231-8b66e32aa9f2"
      },
      "source": [
        "# reading test data \r\n",
        "test_df=pd.read_excel('/content/gdrive/My Drive/Hindi_Test (1).xlsx')\r\n",
        "test_df.head()"
      ],
      "execution_count": 14,
      "outputs": [
        {
          "output_type": "execute_result",
          "data": {
            "text/html": [
              "<div>\n",
              "<style scoped>\n",
              "    .dataframe tbody tr th:only-of-type {\n",
              "        vertical-align: middle;\n",
              "    }\n",
              "\n",
              "    .dataframe tbody tr th {\n",
              "        vertical-align: top;\n",
              "    }\n",
              "\n",
              "    .dataframe thead th {\n",
              "        text-align: right;\n",
              "    }\n",
              "</style>\n",
              "<table border=\"1\" class=\"dataframe\">\n",
              "  <thead>\n",
              "    <tr style=\"text-align: right;\">\n",
              "      <th></th>\n",
              "      <th>ID</th>\n",
              "      <th>Post</th>\n",
              "    </tr>\n",
              "  </thead>\n",
              "  <tbody>\n",
              "    <tr>\n",
              "      <th>0</th>\n",
              "      <td>1</td>\n",
              "      <td>कीस की को रोजगार चाहिए फिर नहीं कहना रोजगार नहीं मिलता है 20 करोड को रोजगार दे दिया है वह भी मात्र 6 साँल में चार साल अभी बाकी है और हर साल दो करोड़ रोजगार देने का ही वादा था 10 साल में देना था 20 करोड को लोगो को रोजगार जो मात्र 6 साल में लक्ष्य को प्राप्त करने वाली पहली सरकार है</td>\n",
              "    </tr>\n",
              "    <tr>\n",
              "      <th>1</th>\n",
              "      <td>2</td>\n",
              "      <td>पटना  BMP कैंप में पुरुष और महिला कांस्टेबल ने गोली मारकर की खुदकुशी  जांच में जुटी पुलिस\\n\\n kumarprakash4u की रिपोर्ट\\n\\n</td>\n",
              "    </tr>\n",
              "    <tr>\n",
              "      <th>2</th>\n",
              "      <td>3</td>\n",
              "      <td>कोई भी कांग्रेसी  ऊंची छत पर  रेलवे लाइन पर  ऊंची बिल्डिंग पर  एकांत जगह पर  कुए के पास दिखाई दे  तुरंत पुलिस को सूचित करें \\n\\nविलुप्त होती हुई प्रजातियो को बचाना हमारा फर्ज है</td>\n",
              "    </tr>\n",
              "    <tr>\n",
              "      <th>3</th>\n",
              "      <td>4</td>\n",
              "      <td>अंडरवर्ल्ड डॉन छोटा राजन के भाई को बीजेपी द्वारा टिकट मिला है \\n\\n</td>\n",
              "    </tr>\n",
              "    <tr>\n",
              "      <th>4</th>\n",
              "      <td>5</td>\n",
              "      <td>RT   Pb swain   इन पंचर छापों को कोन समझाए कि उनके रोजगार में कमी का कारण मोदी नहीं \\n\\nट्यूब लैस टायर है</td>\n",
              "    </tr>\n",
              "  </tbody>\n",
              "</table>\n",
              "</div>"
            ],
            "text/plain": [
              "   ID  \\\n",
              "0  1    \n",
              "1  2    \n",
              "2  3    \n",
              "3  4    \n",
              "4  5    \n",
              "\n",
              "                                                                                                                                                                                                                                                                                       Post  \n",
              "0  कीस की को रोजगार चाहिए फिर नहीं कहना रोजगार नहीं मिलता है 20 करोड को रोजगार दे दिया है वह भी मात्र 6 साँल में चार साल अभी बाकी है और हर साल दो करोड़ रोजगार देने का ही वादा था 10 साल में देना था 20 करोड को लोगो को रोजगार जो मात्र 6 साल में लक्ष्य को प्राप्त करने वाली पहली सरकार है  \n",
              "1  पटना  BMP कैंप में पुरुष और महिला कांस्टेबल ने गोली मारकर की खुदकुशी  जांच में जुटी पुलिस\\n\\n kumarprakash4u की रिपोर्ट\\n\\n                                                                                                                                                               \n",
              "2  कोई भी कांग्रेसी  ऊंची छत पर  रेलवे लाइन पर  ऊंची बिल्डिंग पर  एकांत जगह पर  कुए के पास दिखाई दे  तुरंत पुलिस को सूचित करें \\n\\nविलुप्त होती हुई प्रजातियो को बचाना हमारा फर्ज है                                                                                                         \n",
              "3  अंडरवर्ल्ड डॉन छोटा राजन के भाई को बीजेपी द्वारा टिकट मिला है \\n\\n                                                                                                                                                                                                                        \n",
              "4  RT   Pb swain   इन पंचर छापों को कोन समझाए कि उनके रोजगार में कमी का कारण मोदी नहीं \\n\\nट्यूब लैस टायर है                                                                                                                                                                                 "
            ]
          },
          "metadata": {
            "tags": []
          },
          "execution_count": 14
        }
      ]
    },
    {
      "cell_type": "code",
      "metadata": {
        "colab": {
          "base_uri": "https://localhost:8080/",
          "height": 196
        },
        "id": "JxeR4dSnSzs_",
        "outputId": "1e1b8c58-29f2-4aa5-c0ee-2c24b792b030"
      },
      "source": [
        "# reading test submissions  data \r\n",
        "test_submissions=pd.read_excel('/content/gdrive/My Drive/Test_Submission (1).xlsx')\r\n",
        "test_submissions.head()"
      ],
      "execution_count": 15,
      "outputs": [
        {
          "output_type": "execute_result",
          "data": {
            "text/html": [
              "<div>\n",
              "<style scoped>\n",
              "    .dataframe tbody tr th:only-of-type {\n",
              "        vertical-align: middle;\n",
              "    }\n",
              "\n",
              "    .dataframe tbody tr th {\n",
              "        vertical-align: top;\n",
              "    }\n",
              "\n",
              "    .dataframe thead th {\n",
              "        text-align: right;\n",
              "    }\n",
              "</style>\n",
              "<table border=\"1\" class=\"dataframe\">\n",
              "  <thead>\n",
              "    <tr style=\"text-align: right;\">\n",
              "      <th></th>\n",
              "      <th>Unique ID</th>\n",
              "      <th>Labels Set</th>\n",
              "      <th>Unnamed: 2</th>\n",
              "    </tr>\n",
              "  </thead>\n",
              "  <tbody>\n",
              "    <tr>\n",
              "      <th>0</th>\n",
              "      <td>1</td>\n",
              "      <td>non-hostile</td>\n",
              "      <td>NaN</td>\n",
              "    </tr>\n",
              "    <tr>\n",
              "      <th>1</th>\n",
              "      <td>2</td>\n",
              "      <td>hate,offensive</td>\n",
              "      <td>NaN</td>\n",
              "    </tr>\n",
              "    <tr>\n",
              "      <th>2</th>\n",
              "      <td>3</td>\n",
              "      <td>non-hostile</td>\n",
              "      <td>NaN</td>\n",
              "    </tr>\n",
              "    <tr>\n",
              "      <th>3</th>\n",
              "      <td>4</td>\n",
              "      <td>fake</td>\n",
              "      <td>NaN</td>\n",
              "    </tr>\n",
              "    <tr>\n",
              "      <th>4</th>\n",
              "      <td>5</td>\n",
              "      <td>fake</td>\n",
              "      <td>NaN</td>\n",
              "    </tr>\n",
              "  </tbody>\n",
              "</table>\n",
              "</div>"
            ],
            "text/plain": [
              "   Unique ID      Labels Set Unnamed: 2\n",
              "0  1          non-hostile     NaN      \n",
              "1  2          hate,offensive  NaN      \n",
              "2  3          non-hostile     NaN      \n",
              "3  4          fake            NaN      \n",
              "4  5          fake            NaN      "
            ]
          },
          "metadata": {
            "tags": []
          },
          "execution_count": 15
        }
      ]
    },
    {
      "cell_type": "code",
      "metadata": {
        "colab": {
          "base_uri": "https://localhost:8080/",
          "height": 196
        },
        "id": "TTYNm8mzSzwG",
        "outputId": "7e35c475-b347-4359-adbc-697425075b07"
      },
      "source": [
        "test_submissions=test_submissions.drop(columns='Unnamed: 2',axis=1)\r\n",
        "test_submissions.head()"
      ],
      "execution_count": 16,
      "outputs": [
        {
          "output_type": "execute_result",
          "data": {
            "text/html": [
              "<div>\n",
              "<style scoped>\n",
              "    .dataframe tbody tr th:only-of-type {\n",
              "        vertical-align: middle;\n",
              "    }\n",
              "\n",
              "    .dataframe tbody tr th {\n",
              "        vertical-align: top;\n",
              "    }\n",
              "\n",
              "    .dataframe thead th {\n",
              "        text-align: right;\n",
              "    }\n",
              "</style>\n",
              "<table border=\"1\" class=\"dataframe\">\n",
              "  <thead>\n",
              "    <tr style=\"text-align: right;\">\n",
              "      <th></th>\n",
              "      <th>Unique ID</th>\n",
              "      <th>Labels Set</th>\n",
              "    </tr>\n",
              "  </thead>\n",
              "  <tbody>\n",
              "    <tr>\n",
              "      <th>0</th>\n",
              "      <td>1</td>\n",
              "      <td>non-hostile</td>\n",
              "    </tr>\n",
              "    <tr>\n",
              "      <th>1</th>\n",
              "      <td>2</td>\n",
              "      <td>hate,offensive</td>\n",
              "    </tr>\n",
              "    <tr>\n",
              "      <th>2</th>\n",
              "      <td>3</td>\n",
              "      <td>non-hostile</td>\n",
              "    </tr>\n",
              "    <tr>\n",
              "      <th>3</th>\n",
              "      <td>4</td>\n",
              "      <td>fake</td>\n",
              "    </tr>\n",
              "    <tr>\n",
              "      <th>4</th>\n",
              "      <td>5</td>\n",
              "      <td>fake</td>\n",
              "    </tr>\n",
              "  </tbody>\n",
              "</table>\n",
              "</div>"
            ],
            "text/plain": [
              "   Unique ID      Labels Set\n",
              "0  1          non-hostile   \n",
              "1  2          hate,offensive\n",
              "2  3          non-hostile   \n",
              "3  4          fake          \n",
              "4  5          fake          "
            ]
          },
          "metadata": {
            "tags": []
          },
          "execution_count": 16
        }
      ]
    },
    {
      "cell_type": "code",
      "metadata": {
        "id": "zAkJQTo7SzzK"
      },
      "source": [
        "# hate,offensive is same as offensive ,hate . We change labels for visualization purpose\r\n",
        "test_submissions['Labels Set'][216]=\"hate,offensive\"\r\n",
        "test_submissions['Labels Set'][178]=\"defamation,offensive\"\r\n",
        "test_submissions['Labels Set'][633]=\"defamation,offensive\"\r\n",
        "test_submissions['Labels Set'][679]=\"defamation,offensive\"\r\n",
        "test_submissions['Labels Set'][415]=\"defamation,hate\"\r\n",
        "test_submissions['Labels Set'][410]=\"defamation,hate,offensive\""
      ],
      "execution_count": 17,
      "outputs": []
    },
    {
      "cell_type": "code",
      "metadata": {
        "colab": {
          "base_uri": "https://localhost:8080/"
        },
        "id": "qsjdz9AmSz2M",
        "outputId": "8db08b8d-16de-4241-c4d8-d9e2046f9945"
      },
      "source": [
        "test_submissions['Labels Set'].unique()"
      ],
      "execution_count": 18,
      "outputs": [
        {
          "output_type": "execute_result",
          "data": {
            "text/plain": [
              "array(['non-hostile', 'hate,offensive', 'fake', 'hate', 'defamation',\n",
              "       'offensive', 'defamation,fake', 'fake,hate', 'defamation,hate',\n",
              "       'defamation,offensive', 'defamation,hate,offensive',\n",
              "       'fake,offensive'], dtype=object)"
            ]
          },
          "metadata": {
            "tags": []
          },
          "execution_count": 18
        }
      ]
    },
    {
      "cell_type": "code",
      "metadata": {
        "colab": {
          "base_uri": "https://localhost:8080/"
        },
        "id": "jyDeeCxLSz5Z",
        "outputId": "796008f7-cbed-4d23-f427-5e17cc352da5"
      },
      "source": [
        "test_submissions['Labels Set'].value_counts()"
      ],
      "execution_count": 19,
      "outputs": [
        {
          "output_type": "execute_result",
          "data": {
            "text/plain": [
              "non-hostile                  994\n",
              "fake                         239\n",
              "hate                         110\n",
              "offensive                    91 \n",
              "hate,offensive               74 \n",
              "defamation                   52 \n",
              "defamation,offensive         21 \n",
              "fake,hate                    21 \n",
              "defamation,hate,offensive    20 \n",
              "defamation,hate              18 \n",
              "defamation,fake              12 \n",
              "fake,offensive               1  \n",
              "Name: Labels Set, dtype: int64"
            ]
          },
          "metadata": {
            "tags": []
          },
          "execution_count": 19
        }
      ]
    },
    {
      "cell_type": "code",
      "metadata": {
        "colab": {
          "base_uri": "https://localhost:8080/",
          "height": 246
        },
        "id": "M2oCCYyRSz87",
        "outputId": "781356b5-44af-4d22-e282-079b4e66dc80"
      },
      "source": [
        "test_df[\"Predicted_Labels\"]=test_submissions[\"Labels Set\"]\r\n",
        "test_df.head()"
      ],
      "execution_count": 20,
      "outputs": [
        {
          "output_type": "execute_result",
          "data": {
            "text/html": [
              "<div>\n",
              "<style scoped>\n",
              "    .dataframe tbody tr th:only-of-type {\n",
              "        vertical-align: middle;\n",
              "    }\n",
              "\n",
              "    .dataframe tbody tr th {\n",
              "        vertical-align: top;\n",
              "    }\n",
              "\n",
              "    .dataframe thead th {\n",
              "        text-align: right;\n",
              "    }\n",
              "</style>\n",
              "<table border=\"1\" class=\"dataframe\">\n",
              "  <thead>\n",
              "    <tr style=\"text-align: right;\">\n",
              "      <th></th>\n",
              "      <th>ID</th>\n",
              "      <th>Post</th>\n",
              "      <th>Predicted_Labels</th>\n",
              "    </tr>\n",
              "  </thead>\n",
              "  <tbody>\n",
              "    <tr>\n",
              "      <th>0</th>\n",
              "      <td>1</td>\n",
              "      <td>कीस की को रोजगार चाहिए फिर नहीं कहना रोजगार नहीं मिलता है 20 करोड को रोजगार दे दिया है वह भी मात्र 6 साँल में चार साल अभी बाकी है और हर साल दो करोड़ रोजगार देने का ही वादा था 10 साल में देना था 20 करोड को लोगो को रोजगार जो मात्र 6 साल में लक्ष्य को प्राप्त करने वाली पहली सरकार है</td>\n",
              "      <td>non-hostile</td>\n",
              "    </tr>\n",
              "    <tr>\n",
              "      <th>1</th>\n",
              "      <td>2</td>\n",
              "      <td>पटना  BMP कैंप में पुरुष और महिला कांस्टेबल ने गोली मारकर की खुदकुशी  जांच में जुटी पुलिस\\n\\n kumarprakash4u की रिपोर्ट\\n\\n</td>\n",
              "      <td>hate,offensive</td>\n",
              "    </tr>\n",
              "    <tr>\n",
              "      <th>2</th>\n",
              "      <td>3</td>\n",
              "      <td>कोई भी कांग्रेसी  ऊंची छत पर  रेलवे लाइन पर  ऊंची बिल्डिंग पर  एकांत जगह पर  कुए के पास दिखाई दे  तुरंत पुलिस को सूचित करें \\n\\nविलुप्त होती हुई प्रजातियो को बचाना हमारा फर्ज है</td>\n",
              "      <td>non-hostile</td>\n",
              "    </tr>\n",
              "    <tr>\n",
              "      <th>3</th>\n",
              "      <td>4</td>\n",
              "      <td>अंडरवर्ल्ड डॉन छोटा राजन के भाई को बीजेपी द्वारा टिकट मिला है \\n\\n</td>\n",
              "      <td>fake</td>\n",
              "    </tr>\n",
              "    <tr>\n",
              "      <th>4</th>\n",
              "      <td>5</td>\n",
              "      <td>RT   Pb swain   इन पंचर छापों को कोन समझाए कि उनके रोजगार में कमी का कारण मोदी नहीं \\n\\nट्यूब लैस टायर है</td>\n",
              "      <td>fake</td>\n",
              "    </tr>\n",
              "  </tbody>\n",
              "</table>\n",
              "</div>"
            ],
            "text/plain": [
              "   ID  \\\n",
              "0  1    \n",
              "1  2    \n",
              "2  3    \n",
              "3  4    \n",
              "4  5    \n",
              "\n",
              "                                                                                                                                                                                                                                                                                       Post  \\\n",
              "0  कीस की को रोजगार चाहिए फिर नहीं कहना रोजगार नहीं मिलता है 20 करोड को रोजगार दे दिया है वह भी मात्र 6 साँल में चार साल अभी बाकी है और हर साल दो करोड़ रोजगार देने का ही वादा था 10 साल में देना था 20 करोड को लोगो को रोजगार जो मात्र 6 साल में लक्ष्य को प्राप्त करने वाली पहली सरकार है   \n",
              "1  पटना  BMP कैंप में पुरुष और महिला कांस्टेबल ने गोली मारकर की खुदकुशी  जांच में जुटी पुलिस\\n\\n kumarprakash4u की रिपोर्ट\\n\\n                                                                                                                                                                \n",
              "2  कोई भी कांग्रेसी  ऊंची छत पर  रेलवे लाइन पर  ऊंची बिल्डिंग पर  एकांत जगह पर  कुए के पास दिखाई दे  तुरंत पुलिस को सूचित करें \\n\\nविलुप्त होती हुई प्रजातियो को बचाना हमारा फर्ज है                                                                                                          \n",
              "3  अंडरवर्ल्ड डॉन छोटा राजन के भाई को बीजेपी द्वारा टिकट मिला है \\n\\n                                                                                                                                                                                                                         \n",
              "4  RT   Pb swain   इन पंचर छापों को कोन समझाए कि उनके रोजगार में कमी का कारण मोदी नहीं \\n\\nट्यूब लैस टायर है                                                                                                                                                                                  \n",
              "\n",
              "  Predicted_Labels  \n",
              "0  non-hostile      \n",
              "1  hate,offensive   \n",
              "2  non-hostile      \n",
              "3  fake             \n",
              "4  fake             "
            ]
          },
          "metadata": {
            "tags": []
          },
          "execution_count": 20
        }
      ]
    },
    {
      "cell_type": "code",
      "metadata": {
        "colab": {
          "base_uri": "https://localhost:8080/",
          "height": 512
        },
        "id": "kSURSqRKVIfn",
        "outputId": "551a8f51-dbec-425e-e856-48d6b4b21d68"
      },
      "source": [
        "# predicted labels \r\n",
        "plt.figure(figsize=(12,6))\r\n",
        "ax=sns.countplot(x=\"Predicted_Labels\",data=test_df)\r\n",
        "for tick in ax.get_xticklabels():\r\n",
        "  tick.set_rotation(45) \r\n",
        "  # annotating the values in plots \r\n",
        "for p in ax.patches:\r\n",
        "  ax.annotate(format(p.get_height(), ''), (p.get_x() + p.get_width()/2 , p.get_height()), ha = 'center', va = 'center', xytext = (0,10),rotation=0, textcoords = 'offset points',fontsize=12)\r\n",
        "ax.set_title(\"Predicted Labels of test Dataset\")"
      ],
      "execution_count": 21,
      "outputs": [
        {
          "output_type": "execute_result",
          "data": {
            "text/plain": [
              "Text(0.5, 1.0, 'Predicted Labels of test Dataset')"
            ]
          },
          "metadata": {
            "tags": []
          },
          "execution_count": 21
        },
        {
          "output_type": "display_data",
          "data": {
            "image/png": "[encoded data removed]",
            "text/plain": [
              "<Figure size 864x432 with 1 Axes>"
            ]
          },
          "metadata": {
            "tags": [],
            "needs_background": "light"
          }
        }
      ]
    },
    {
      "cell_type": "markdown",
      "metadata": {
        "id": "PBHoMp4B5dAF"
      },
      "source": [
        "#### **CLEANING THE TEST DATA :**"
      ]
    },
    {
      "cell_type": "code",
      "metadata": {
        "id": "Evp4zkmaW6bo"
      },
      "source": [
        "# this function removes punctuations and special characters in the dataset\r\n",
        "def PunctuationsAndSpecialSymbolsRemover(data):\r\n",
        "  \"\"\"\r\n",
        "  input   : post data from train or validation or test data (list)\r\n",
        "  returns : cleaned post with punctuations and special symbols removed \r\n",
        "  \"\"\"\r\n",
        "  non_needed_symbols = '''!()-…[]{};₹:“।|”'\"\\,<>./?@#$%^&*+_~'''\r\n",
        "  cleaned_list=[]\r\n",
        "  for line in data:\r\n",
        "    cleaned_text=\"\"\r\n",
        "    for x in line:\r\n",
        "      if x in non_needed_symbols:\r\n",
        "        cleaned_text=cleaned_text+\" \"\r\n",
        "      elif x not in non_needed_symbols:\r\n",
        "        cleaned_text=cleaned_text+x\r\n",
        "    cleaned_list.append(cleaned_text)\r\n",
        "  return cleaned_list\r\n",
        "\r\n",
        "# remove new lines notation \"\\n\"\r\n",
        "def remove_newlines(data):\r\n",
        "  \"\"\"\r\n",
        "  input   : post data from train or validation or test data (list)\r\n",
        "  returns : cleaned data with newlines ('\\n') symbols removed \r\n",
        "  \"\"\"\r\n",
        "  modified_data=[]\r\n",
        "  for line in data:\r\n",
        "    new_line=re.compile(\"[\"u\"\\u000A\" #newlines\r\n",
        "                           \"]+\", flags=re.UNICODE)\r\n",
        "    cleaned_text=new_line.sub(r'', line)\r\n",
        "    modified_data.append(cleaned_text)\r\n",
        "  return modified_data\r\n",
        "\r\n",
        "# this function removes entire hyperlink \r\n",
        "def HyperLinkRemover(data):\r\n",
        "  \"\"\"\r\n",
        "  input   : post data from train or validation or test data (list)\r\n",
        "  returns : cleaned data with hyperlinks in the posts removed\r\n",
        "  \"\"\"\r\n",
        "  non_hyperlink_text=[]\r\n",
        "  for line in data:\r\n",
        "    cleaned_text=re.sub(r\"http\\S+\", \"\", line)\r\n",
        "    non_hyperlink_text.append(cleaned_text)\r\n",
        "  return non_hyperlink_text\r\n",
        "\r\n",
        "# remove the emojis from the post \r\n",
        "def emojiRemover(data):\r\n",
        "  \"\"\"\r\n",
        "  input   : post data from train or validation or test data (list)\r\n",
        "  returns : cleaned data with all the emojis used in the post gets removed\r\n",
        "  \"\"\"\r\n",
        "  emoji_less_data=[]\r\n",
        "  for line in data:\r\n",
        "    emoji_pattern=re.compile(\"[\"\r\n",
        "                           u\"\\U0001F601-\\U0001F64F\"  # emoticons\r\n",
        "                           u\"\\U0001F300-\\U0001F5FF\"  # symbols & pictographs\r\n",
        "                           u\"\\U0001F680-\\U0001F6C0\"  # transport & map symbols\r\n",
        "                           u\"\\U0001F1E0-\\U0001F1FF\"  # flags (iOS)\r\n",
        "                           u\"\\U00002702-\\U000027B0\"  # Dingbats\r\n",
        "                           u\"\\U000024C2-\\U0001F251\"  # Enclosed characters\r\n",
        "                           u\"\\U0001F600-\\U0001F636\"  # Additional emoticons\r\n",
        "                           u\"\\U0001F681-\\U0001F6C5\"  # Additional transport & map symbols\r\n",
        "                           u\"\\U0001F30D-\\U0001F567\"  # Additional\r\n",
        "                            u\"\\U0001f926-\\U0001f937\"\r\n",
        "                            u\"\\u000A\" #newlines\r\n",
        "                               u\"\\U00010000-\\U0010ffff\"\r\n",
        "                               u\"\\u2640-\\u2642\"\r\n",
        "                               u\"\\u2600-\\u2B55\"\r\n",
        "                               u\"\\u200d\"\r\n",
        "                               u\"\\u23cf\"\r\n",
        "                               u\"\\u23e9\"\r\n",
        "                               u\"\\u231a\"\r\n",
        "                               u\"\\ufe0f\"  # dingbats\r\n",
        "                               u\"\\u3030\"\r\n",
        "                               u\"\\u2022\" # bullets \r\n",
        "                           \"]+\", flags=re.UNICODE)\r\n",
        "    cleaned_text=emoji_pattern.sub(r'', line)\r\n",
        "    #cleaned_text=uncategorized_emojis(cleaned_text)\r\n",
        "    emoji_less_data.append(cleaned_text)\r\n",
        "  return emoji_less_data\r\n",
        "\r\n",
        "# function to do data-preprocessing \r\n",
        "def pre_processesing(data):\r\n",
        "  \"\"\"\r\n",
        "  input   : post data from train or validation or test data (list)\r\n",
        "  returns : cleaned data with all pre-processesing steps performed \r\n",
        "  \"\"\"\r\n",
        "  data=HyperLinkRemover(data)\r\n",
        "  data=PunctuationsAndSpecialSymbolsRemover(data)\r\n",
        "  data=emojiRemover(data)\r\n",
        "  data=remove_newlines(data)\r\n",
        "  return data\r\n",
        "\r\n",
        "# function to return the cleaned data \r\n",
        "def cleaned_xlsx(dataset):\r\n",
        "  \"\"\"\r\n",
        "  input   : dataset \r\n",
        "  returns : dataset with post content cleaned \r\n",
        "  \"\"\"\r\n",
        "  cleaned_df_hindi=pd.DataFrame()\r\n",
        "  cleaned_df_hindi['ID']=dataset['ID']\r\n",
        "  data=dataset['Post']\r\n",
        "  cleaned_df_hindi['Post']=pre_processesing(data)\r\n",
        "  cleaned_df_hindi['Predicted_Labels']=dataset['Predicted_Labels']\r\n",
        "  return cleaned_df_hindi\r\n"
      ],
      "execution_count": 22,
      "outputs": []
    },
    {
      "cell_type": "code",
      "metadata": {
        "colab": {
          "base_uri": "https://localhost:8080/",
          "height": 246
        },
        "id": "OJfRjiqqVIiZ",
        "outputId": "887cfef0-e4d7-4664-826c-645f7d98b0c5"
      },
      "source": [
        "# clean the test data \r\n",
        "cleaned_test_df=cleaned_xlsx(test_df)\r\n",
        "cleaned_test_df.head()"
      ],
      "execution_count": 23,
      "outputs": [
        {
          "output_type": "execute_result",
          "data": {
            "text/html": [
              "<div>\n",
              "<style scoped>\n",
              "    .dataframe tbody tr th:only-of-type {\n",
              "        vertical-align: middle;\n",
              "    }\n",
              "\n",
              "    .dataframe tbody tr th {\n",
              "        vertical-align: top;\n",
              "    }\n",
              "\n",
              "    .dataframe thead th {\n",
              "        text-align: right;\n",
              "    }\n",
              "</style>\n",
              "<table border=\"1\" class=\"dataframe\">\n",
              "  <thead>\n",
              "    <tr style=\"text-align: right;\">\n",
              "      <th></th>\n",
              "      <th>ID</th>\n",
              "      <th>Post</th>\n",
              "      <th>Predicted_Labels</th>\n",
              "    </tr>\n",
              "  </thead>\n",
              "  <tbody>\n",
              "    <tr>\n",
              "      <th>0</th>\n",
              "      <td>1</td>\n",
              "      <td>कीस की को रोजगार चाहिए फिर नहीं कहना रोजगार नहीं मिलता है 20 करोड को रोजगार दे दिया है वह भी मात्र 6 साँल में चार साल अभी बाकी है और हर साल दो करोड़ रोजगार देने का ही वादा था 10 साल में देना था 20 करोड को लोगो को रोजगार जो मात्र 6 साल में लक्ष्य को प्राप्त करने वाली पहली सरकार है</td>\n",
              "      <td>non-hostile</td>\n",
              "    </tr>\n",
              "    <tr>\n",
              "      <th>1</th>\n",
              "      <td>2</td>\n",
              "      <td>पटना  BMP कैंप में पुरुष और महिला कांस्टेबल ने गोली मारकर की खुदकुशी  जांच में जुटी पुलिस kumarprakash4u की रिपोर्ट</td>\n",
              "      <td>hate,offensive</td>\n",
              "    </tr>\n",
              "    <tr>\n",
              "      <th>2</th>\n",
              "      <td>3</td>\n",
              "      <td>कोई भी कांग्रेसी  ऊंची छत पर  रेलवे लाइन पर  ऊंची बिल्डिंग पर  एकांत जगह पर  कुए के पास दिखाई दे  तुरंत पुलिस को सूचित करें विलुप्त होती हुई प्रजातियो को बचाना हमारा फर्ज है</td>\n",
              "      <td>non-hostile</td>\n",
              "    </tr>\n",
              "    <tr>\n",
              "      <th>3</th>\n",
              "      <td>4</td>\n",
              "      <td>अंडरवर्ल्ड डॉन छोटा राजन के भाई को बीजेपी द्वारा टिकट मिला है</td>\n",
              "      <td>fake</td>\n",
              "    </tr>\n",
              "    <tr>\n",
              "      <th>4</th>\n",
              "      <td>5</td>\n",
              "      <td>RT   Pb swain   इन पंचर छापों को कोन समझाए कि उनके रोजगार में कमी का कारण मोदी नहीं ट्यूब लैस टायर है</td>\n",
              "      <td>fake</td>\n",
              "    </tr>\n",
              "  </tbody>\n",
              "</table>\n",
              "</div>"
            ],
            "text/plain": [
              "   ID  \\\n",
              "0  1    \n",
              "1  2    \n",
              "2  3    \n",
              "3  4    \n",
              "4  5    \n",
              "\n",
              "                                                                                                                                                                                                                                                                                       Post  \\\n",
              "0  कीस की को रोजगार चाहिए फिर नहीं कहना रोजगार नहीं मिलता है 20 करोड को रोजगार दे दिया है वह भी मात्र 6 साँल में चार साल अभी बाकी है और हर साल दो करोड़ रोजगार देने का ही वादा था 10 साल में देना था 20 करोड को लोगो को रोजगार जो मात्र 6 साल में लक्ष्य को प्राप्त करने वाली पहली सरकार है   \n",
              "1  पटना  BMP कैंप में पुरुष और महिला कांस्टेबल ने गोली मारकर की खुदकुशी  जांच में जुटी पुलिस kumarprakash4u की रिपोर्ट                                                                                                                                                                        \n",
              "2  कोई भी कांग्रेसी  ऊंची छत पर  रेलवे लाइन पर  ऊंची बिल्डिंग पर  एकांत जगह पर  कुए के पास दिखाई दे  तुरंत पुलिस को सूचित करें विलुप्त होती हुई प्रजातियो को बचाना हमारा फर्ज है                                                                                                              \n",
              "3  अंडरवर्ल्ड डॉन छोटा राजन के भाई को बीजेपी द्वारा टिकट मिला है                                                                                                                                                                                                                              \n",
              "4  RT   Pb swain   इन पंचर छापों को कोन समझाए कि उनके रोजगार में कमी का कारण मोदी नहीं ट्यूब लैस टायर है                                                                                                                                                                                      \n",
              "\n",
              "  Predicted_Labels  \n",
              "0  non-hostile      \n",
              "1  hate,offensive   \n",
              "2  non-hostile      \n",
              "3  fake             \n",
              "4  fake             "
            ]
          },
          "metadata": {
            "tags": []
          },
          "execution_count": 23
        }
      ]
    },
    {
      "cell_type": "code",
      "metadata": {
        "colab": {
          "base_uri": "https://localhost:8080/",
          "height": 213
        },
        "id": "qsOfZJlcVIlJ",
        "outputId": "10015cae-0f25-4a95-f5c5-6035f616e8c3"
      },
      "source": [
        "hostile_test=cleaned_test_df[cleaned_test_df['Predicted_Labels']!=\"non-hostile\"]\r\n",
        "hostile_test.head()"
      ],
      "execution_count": 24,
      "outputs": [
        {
          "output_type": "execute_result",
          "data": {
            "text/html": [
              "<div>\n",
              "<style scoped>\n",
              "    .dataframe tbody tr th:only-of-type {\n",
              "        vertical-align: middle;\n",
              "    }\n",
              "\n",
              "    .dataframe tbody tr th {\n",
              "        vertical-align: top;\n",
              "    }\n",
              "\n",
              "    .dataframe thead th {\n",
              "        text-align: right;\n",
              "    }\n",
              "</style>\n",
              "<table border=\"1\" class=\"dataframe\">\n",
              "  <thead>\n",
              "    <tr style=\"text-align: right;\">\n",
              "      <th></th>\n",
              "      <th>ID</th>\n",
              "      <th>Post</th>\n",
              "      <th>Predicted_Labels</th>\n",
              "    </tr>\n",
              "  </thead>\n",
              "  <tbody>\n",
              "    <tr>\n",
              "      <th>1</th>\n",
              "      <td>2</td>\n",
              "      <td>पटना  BMP कैंप में पुरुष और महिला कांस्टेबल ने गोली मारकर की खुदकुशी  जांच में जुटी पुलिस kumarprakash4u की रिपोर्ट</td>\n",
              "      <td>hate,offensive</td>\n",
              "    </tr>\n",
              "    <tr>\n",
              "      <th>3</th>\n",
              "      <td>4</td>\n",
              "      <td>अंडरवर्ल्ड डॉन छोटा राजन के भाई को बीजेपी द्वारा टिकट मिला है</td>\n",
              "      <td>fake</td>\n",
              "    </tr>\n",
              "    <tr>\n",
              "      <th>4</th>\n",
              "      <td>5</td>\n",
              "      <td>RT   Pb swain   इन पंचर छापों को कोन समझाए कि उनके रोजगार में कमी का कारण मोदी नहीं ट्यूब लैस टायर है</td>\n",
              "      <td>fake</td>\n",
              "    </tr>\n",
              "    <tr>\n",
              "      <th>8</th>\n",
              "      <td>9</td>\n",
              "      <td>हैदराबाद बीजेपी विधायक राजा सिंह की बहन माया देवी ने इस्लाम स्वीकार कर लिया   उन्होंने कहा कि भारत एक लोकतांत्रिक देश है  जहां धर्म चुनना हमारा व्यक्तिगत अधिकार है  कोई भी मजबूर नहीं कर सकता है</td>\n",
              "      <td>hate,offensive</td>\n",
              "    </tr>\n",
              "    <tr>\n",
              "      <th>9</th>\n",
              "      <td>10</td>\n",
              "      <td>कमलनाथ के राज में 100   में 100यूनिट बिजली मिल रही थीअब आए चोर शिवराज जो बिजली के बिलों को 500से 1000  तक कर दिया</td>\n",
              "      <td>hate</td>\n",
              "    </tr>\n",
              "  </tbody>\n",
              "</table>\n",
              "</div>"
            ],
            "text/plain": [
              "   ID  \\\n",
              "1  2    \n",
              "3  4    \n",
              "4  5    \n",
              "8  9    \n",
              "9  10   \n",
              "\n",
              "                                                                                                                                                                                                  Post  \\\n",
              "1  पटना  BMP कैंप में पुरुष और महिला कांस्टेबल ने गोली मारकर की खुदकुशी  जांच में जुटी पुलिस kumarprakash4u की रिपोर्ट                                                                                   \n",
              "3  अंडरवर्ल्ड डॉन छोटा राजन के भाई को बीजेपी द्वारा टिकट मिला है                                                                                                                                         \n",
              "4  RT   Pb swain   इन पंचर छापों को कोन समझाए कि उनके रोजगार में कमी का कारण मोदी नहीं ट्यूब लैस टायर है                                                                                                 \n",
              "8  हैदराबाद बीजेपी विधायक राजा सिंह की बहन माया देवी ने इस्लाम स्वीकार कर लिया   उन्होंने कहा कि भारत एक लोकतांत्रिक देश है  जहां धर्म चुनना हमारा व्यक्तिगत अधिकार है  कोई भी मजबूर नहीं कर सकता है     \n",
              "9  कमलनाथ के राज में 100   में 100यूनिट बिजली मिल रही थीअब आए चोर शिवराज जो बिजली के बिलों को 500से 1000  तक कर दिया                                                                                     \n",
              "\n",
              "  Predicted_Labels  \n",
              "1  hate,offensive   \n",
              "3  fake             \n",
              "4  fake             \n",
              "8  hate,offensive   \n",
              "9  hate             "
            ]
          },
          "metadata": {
            "tags": []
          },
          "execution_count": 24
        }
      ]
    },
    {
      "cell_type": "markdown",
      "metadata": {
        "id": "rWQPlHco5knz"
      },
      "source": [
        "#### **SEPERATING TEST DATA USING OUTPUT LABELS :**"
      ]
    },
    {
      "cell_type": "code",
      "metadata": {
        "id": "9V4dfMguVInq"
      },
      "source": [
        "# creating offensive,fake,hate and defamation test datasets \r\n",
        "# creating dataset with each label passed through the function \r\n",
        "def vector_labels(data,col,neg):\r\n",
        "  \"\"\"\r\n",
        "  input  : data: output label data (list)\r\n",
        "           col : true label \r\n",
        "           neg : false label \r\n",
        "  return : list of output labels (if col in data return col else return neg for each entry in list od ata)\r\n",
        "  \"\"\"\r\n",
        "  final_labels_vectors=[]\r\n",
        "  for x in data:\r\n",
        "    l=list(x.split(','))\r\n",
        "    f=0\r\n",
        "    for y in l:\r\n",
        "      if y==col:\r\n",
        "        final_labels_vectors.append(col)\r\n",
        "        f=1\r\n",
        "      if f==1:\r\n",
        "        continue\r\n",
        "    if f==0:\r\n",
        "      final_labels_vectors.append(neg)\r\n",
        "  return final_labels_vectors\r\n",
        "\r\n",
        "# creating dataset by passing the given hostile labels\r\n",
        "def hostile_label(dataset,col,neg):\r\n",
        "  \"\"\"\r\n",
        "  input   : dataset : hostile data (entries which doesn't contain non-hostile)\r\n",
        "                col : true label \r\n",
        "                neg : false label\r\n",
        "  returns : modified dataset with output label should be positive label say only fake,only hate etc.\r\n",
        "  \"\"\"\r\n",
        "  labelsvec_df_hindi=pd.DataFrame()\r\n",
        "  labelsvec_df_hindi['ID']=dataset['ID']\r\n",
        "  labelsvec_df_hindi['Post']=dataset['Post']\r\n",
        "  data=dataset['Predicted_Labels']\r\n",
        "  labelsvec_df_hindi['Predicted_Labels']=vector_labels(data,col,neg)\r\n",
        "  return labelsvec_df_hindi[labelsvec_df_hindi[\"Predicted_Labels\"]!=neg]\r\n",
        "\r\n",
        "# fake vs non_fake\r\n",
        "fake_test=hostile_label(hostile_test,\"fake\",\"non_fake\")\r\n",
        "\r\n",
        "# hate vs non_hate \r\n",
        "hate_test=hostile_label(hostile_test,\"hate\",\"non_hate\")\r\n",
        "\r\n",
        "# defamation vs non_defamation \r\n",
        "defamation_test=hostile_label(hostile_test,\"defamation\",\"non_defamation\")\r\n",
        "\r\n",
        "# offensive vs non_offensive \r\n",
        "offensive_test=hostile_label(hostile_test,\"offensive\",\"non_offensive\")"
      ],
      "execution_count": 25,
      "outputs": []
    },
    {
      "cell_type": "code",
      "metadata": {
        "colab": {
          "base_uri": "https://localhost:8080/",
          "height": 246
        },
        "id": "DOqvcwEEhtmU",
        "outputId": "094ff454-3fb2-4a38-de6c-4c5358d914b6"
      },
      "source": [
        "print(fake_test.shape)\r\n",
        "fake_test.head()"
      ],
      "execution_count": 26,
      "outputs": [
        {
          "output_type": "stream",
          "text": [
            "(273, 3)\n"
          ],
          "name": "stdout"
        },
        {
          "output_type": "execute_result",
          "data": {
            "text/html": [
              "<div>\n",
              "<style scoped>\n",
              "    .dataframe tbody tr th:only-of-type {\n",
              "        vertical-align: middle;\n",
              "    }\n",
              "\n",
              "    .dataframe tbody tr th {\n",
              "        vertical-align: top;\n",
              "    }\n",
              "\n",
              "    .dataframe thead th {\n",
              "        text-align: right;\n",
              "    }\n",
              "</style>\n",
              "<table border=\"1\" class=\"dataframe\">\n",
              "  <thead>\n",
              "    <tr style=\"text-align: right;\">\n",
              "      <th></th>\n",
              "      <th>ID</th>\n",
              "      <th>Post</th>\n",
              "      <th>Predicted_Labels</th>\n",
              "    </tr>\n",
              "  </thead>\n",
              "  <tbody>\n",
              "    <tr>\n",
              "      <th>3</th>\n",
              "      <td>4</td>\n",
              "      <td>अंडरवर्ल्ड डॉन छोटा राजन के भाई को बीजेपी द्वारा टिकट मिला है</td>\n",
              "      <td>fake</td>\n",
              "    </tr>\n",
              "    <tr>\n",
              "      <th>4</th>\n",
              "      <td>5</td>\n",
              "      <td>RT   Pb swain   इन पंचर छापों को कोन समझाए कि उनके रोजगार में कमी का कारण मोदी नहीं ट्यूब लैस टायर है</td>\n",
              "      <td>fake</td>\n",
              "    </tr>\n",
              "    <tr>\n",
              "      <th>10</th>\n",
              "      <td>11</td>\n",
              "      <td>दाऊद इब्राहिम और उसकी पत्नि की कोरोना संक्रमण से मौत</td>\n",
              "      <td>fake</td>\n",
              "    </tr>\n",
              "    <tr>\n",
              "      <th>12</th>\n",
              "      <td>13</td>\n",
              "      <td>Lucknow ट्रक की टक्कर से 2 लोग घायल  महिला की मौत 2 युवक गंभीर घायल  घायलों को ट्रामा सेंटर में कराया भर्ती  ट्रक चालक को स्थानीय लोगों ने पकड़ा  ट्रक चालक को पुलिस के हवाले किया  मड़ियांव के छठामील सीतापुर रोड की घटना   lkopolice  LkoCp  HappyTeachersDay  policemedianews</td>\n",
              "      <td>fake</td>\n",
              "    </tr>\n",
              "    <tr>\n",
              "      <th>22</th>\n",
              "      <td>23</td>\n",
              "      <td>स्वास्थ्य मंत्रालय ने कोविड 19 के मद्देनजर चार राज्यों में उच्च स्तरीय केन्द्रीय दल नियुक्त करने का निर्णय लिया</td>\n",
              "      <td>fake</td>\n",
              "    </tr>\n",
              "  </tbody>\n",
              "</table>\n",
              "</div>"
            ],
            "text/plain": [
              "    ID  \\\n",
              "3   4    \n",
              "4   5    \n",
              "10  11   \n",
              "12  13   \n",
              "22  23   \n",
              "\n",
              "                                                                                                                                                                                                                                                                                 Post  \\\n",
              "3   अंडरवर्ल्ड डॉन छोटा राजन के भाई को बीजेपी द्वारा टिकट मिला है                                                                                                                                                                                                                       \n",
              "4   RT   Pb swain   इन पंचर छापों को कोन समझाए कि उनके रोजगार में कमी का कारण मोदी नहीं ट्यूब लैस टायर है                                                                                                                                                                               \n",
              "10  दाऊद इब्राहिम और उसकी पत्नि की कोरोना संक्रमण से मौत                                                                                                                                                                                                                                \n",
              "12   Lucknow ट्रक की टक्कर से 2 लोग घायल  महिला की मौत 2 युवक गंभीर घायल  घायलों को ट्रामा सेंटर में कराया भर्ती  ट्रक चालक को स्थानीय लोगों ने पकड़ा  ट्रक चालक को पुलिस के हवाले किया  मड़ियांव के छठामील सीतापुर रोड की घटना   lkopolice  LkoCp  HappyTeachersDay  policemedianews   \n",
              "22  स्वास्थ्य मंत्रालय ने कोविड 19 के मद्देनजर चार राज्यों में उच्च स्तरीय केन्द्रीय दल नियुक्त करने का निर्णय लिया                                                                                                                                                                     \n",
              "\n",
              "   Predicted_Labels  \n",
              "3   fake             \n",
              "4   fake             \n",
              "10  fake             \n",
              "12  fake             \n",
              "22  fake             "
            ]
          },
          "metadata": {
            "tags": []
          },
          "execution_count": 26
        }
      ]
    },
    {
      "cell_type": "code",
      "metadata": {
        "colab": {
          "base_uri": "https://localhost:8080/",
          "height": 230
        },
        "id": "wza1OcNKVIrM",
        "outputId": "41aaa76b-c599-48c0-e77b-e9a99ec47da0"
      },
      "source": [
        "print(hate_test.shape)\r\n",
        "hate_test.head()"
      ],
      "execution_count": 27,
      "outputs": [
        {
          "output_type": "stream",
          "text": [
            "(243, 3)\n"
          ],
          "name": "stdout"
        },
        {
          "output_type": "execute_result",
          "data": {
            "text/html": [
              "<div>\n",
              "<style scoped>\n",
              "    .dataframe tbody tr th:only-of-type {\n",
              "        vertical-align: middle;\n",
              "    }\n",
              "\n",
              "    .dataframe tbody tr th {\n",
              "        vertical-align: top;\n",
              "    }\n",
              "\n",
              "    .dataframe thead th {\n",
              "        text-align: right;\n",
              "    }\n",
              "</style>\n",
              "<table border=\"1\" class=\"dataframe\">\n",
              "  <thead>\n",
              "    <tr style=\"text-align: right;\">\n",
              "      <th></th>\n",
              "      <th>ID</th>\n",
              "      <th>Post</th>\n",
              "      <th>Predicted_Labels</th>\n",
              "    </tr>\n",
              "  </thead>\n",
              "  <tbody>\n",
              "    <tr>\n",
              "      <th>1</th>\n",
              "      <td>2</td>\n",
              "      <td>पटना  BMP कैंप में पुरुष और महिला कांस्टेबल ने गोली मारकर की खुदकुशी  जांच में जुटी पुलिस kumarprakash4u की रिपोर्ट</td>\n",
              "      <td>hate</td>\n",
              "    </tr>\n",
              "    <tr>\n",
              "      <th>8</th>\n",
              "      <td>9</td>\n",
              "      <td>हैदराबाद बीजेपी विधायक राजा सिंह की बहन माया देवी ने इस्लाम स्वीकार कर लिया   उन्होंने कहा कि भारत एक लोकतांत्रिक देश है  जहां धर्म चुनना हमारा व्यक्तिगत अधिकार है  कोई भी मजबूर नहीं कर सकता है</td>\n",
              "      <td>hate</td>\n",
              "    </tr>\n",
              "    <tr>\n",
              "      <th>9</th>\n",
              "      <td>10</td>\n",
              "      <td>कमलनाथ के राज में 100   में 100यूनिट बिजली मिल रही थीअब आए चोर शिवराज जो बिजली के बिलों को 500से 1000  तक कर दिया</td>\n",
              "      <td>hate</td>\n",
              "    </tr>\n",
              "    <tr>\n",
              "      <th>15</th>\n",
              "      <td>16</td>\n",
              "      <td>BMC की अपील  अगले सात दिनों तक गरम पानी का सेवन करें</td>\n",
              "      <td>hate</td>\n",
              "    </tr>\n",
              "    <tr>\n",
              "      <th>19</th>\n",
              "      <td>20</td>\n",
              "      <td>AMISHDEVGAN कुत्ते के        पी   तू बीजेपी जॉइन कर ले क्यों पत्रकारिता को कलंकित कर रहा है</td>\n",
              "      <td>hate</td>\n",
              "    </tr>\n",
              "  </tbody>\n",
              "</table>\n",
              "</div>"
            ],
            "text/plain": [
              "    ID  \\\n",
              "1   2    \n",
              "8   9    \n",
              "9   10   \n",
              "15  16   \n",
              "19  20   \n",
              "\n",
              "                                                                                                                                                                                                   Post  \\\n",
              "1   पटना  BMP कैंप में पुरुष और महिला कांस्टेबल ने गोली मारकर की खुदकुशी  जांच में जुटी पुलिस kumarprakash4u की रिपोर्ट                                                                                   \n",
              "8   हैदराबाद बीजेपी विधायक राजा सिंह की बहन माया देवी ने इस्लाम स्वीकार कर लिया   उन्होंने कहा कि भारत एक लोकतांत्रिक देश है  जहां धर्म चुनना हमारा व्यक्तिगत अधिकार है  कोई भी मजबूर नहीं कर सकता है     \n",
              "9   कमलनाथ के राज में 100   में 100यूनिट बिजली मिल रही थीअब आए चोर शिवराज जो बिजली के बिलों को 500से 1000  तक कर दिया                                                                                     \n",
              "15  BMC की अपील  अगले सात दिनों तक गरम पानी का सेवन करें                                                                                                                                                  \n",
              "19   AMISHDEVGAN कुत्ते के        पी   तू बीजेपी जॉइन कर ले क्यों पत्रकारिता को कलंकित कर रहा है                                                                                                          \n",
              "\n",
              "   Predicted_Labels  \n",
              "1   hate             \n",
              "8   hate             \n",
              "9   hate             \n",
              "15  hate             \n",
              "19  hate             "
            ]
          },
          "metadata": {
            "tags": []
          },
          "execution_count": 27
        }
      ]
    },
    {
      "cell_type": "code",
      "metadata": {
        "colab": {
          "base_uri": "https://localhost:8080/",
          "height": 246
        },
        "id": "iXC3pA3hh3_4",
        "outputId": "20cc5abc-0d28-45d0-be2b-4823f11b4f48"
      },
      "source": [
        "print(offensive_test.shape)\r\n",
        "offensive_test.head()"
      ],
      "execution_count": 28,
      "outputs": [
        {
          "output_type": "stream",
          "text": [
            "(207, 3)\n"
          ],
          "name": "stdout"
        },
        {
          "output_type": "execute_result",
          "data": {
            "text/html": [
              "<div>\n",
              "<style scoped>\n",
              "    .dataframe tbody tr th:only-of-type {\n",
              "        vertical-align: middle;\n",
              "    }\n",
              "\n",
              "    .dataframe tbody tr th {\n",
              "        vertical-align: top;\n",
              "    }\n",
              "\n",
              "    .dataframe thead th {\n",
              "        text-align: right;\n",
              "    }\n",
              "</style>\n",
              "<table border=\"1\" class=\"dataframe\">\n",
              "  <thead>\n",
              "    <tr style=\"text-align: right;\">\n",
              "      <th></th>\n",
              "      <th>ID</th>\n",
              "      <th>Post</th>\n",
              "      <th>Predicted_Labels</th>\n",
              "    </tr>\n",
              "  </thead>\n",
              "  <tbody>\n",
              "    <tr>\n",
              "      <th>1</th>\n",
              "      <td>2</td>\n",
              "      <td>पटना  BMP कैंप में पुरुष और महिला कांस्टेबल ने गोली मारकर की खुदकुशी  जांच में जुटी पुलिस kumarprakash4u की रिपोर्ट</td>\n",
              "      <td>offensive</td>\n",
              "    </tr>\n",
              "    <tr>\n",
              "      <th>8</th>\n",
              "      <td>9</td>\n",
              "      <td>हैदराबाद बीजेपी विधायक राजा सिंह की बहन माया देवी ने इस्लाम स्वीकार कर लिया   उन्होंने कहा कि भारत एक लोकतांत्रिक देश है  जहां धर्म चुनना हमारा व्यक्तिगत अधिकार है  कोई भी मजबूर नहीं कर सकता है</td>\n",
              "      <td>offensive</td>\n",
              "    </tr>\n",
              "    <tr>\n",
              "      <th>15</th>\n",
              "      <td>16</td>\n",
              "      <td>BMC की अपील  अगले सात दिनों तक गरम पानी का सेवन करें</td>\n",
              "      <td>offensive</td>\n",
              "    </tr>\n",
              "    <tr>\n",
              "      <th>20</th>\n",
              "      <td>21</td>\n",
              "      <td>पटना  लालू  तेजस्वी को एक और झटका  तेघड़ा राजद MLA विरेंद्र कुमार JDU में शामिल Patna  BiharAssemblyElections2020  RJD  JDU  VirendraKumar</td>\n",
              "      <td>offensive</td>\n",
              "    </tr>\n",
              "    <tr>\n",
              "      <th>24</th>\n",
              "      <td>25</td>\n",
              "      <td>बिहार  50 साल से ज्यादा उम्र के पुलिसकर्मियों के काम की होगी समीक्षा  पुलिस एसोसिएशन ने जताई नाराजगी Bihar  BiharPolice  nitishKumar</td>\n",
              "      <td>offensive</td>\n",
              "    </tr>\n",
              "  </tbody>\n",
              "</table>\n",
              "</div>"
            ],
            "text/plain": [
              "    ID  \\\n",
              "1   2    \n",
              "8   9    \n",
              "15  16   \n",
              "20  21   \n",
              "24  25   \n",
              "\n",
              "                                                                                                                                                                                                   Post  \\\n",
              "1   पटना  BMP कैंप में पुरुष और महिला कांस्टेबल ने गोली मारकर की खुदकुशी  जांच में जुटी पुलिस kumarprakash4u की रिपोर्ट                                                                                   \n",
              "8   हैदराबाद बीजेपी विधायक राजा सिंह की बहन माया देवी ने इस्लाम स्वीकार कर लिया   उन्होंने कहा कि भारत एक लोकतांत्रिक देश है  जहां धर्म चुनना हमारा व्यक्तिगत अधिकार है  कोई भी मजबूर नहीं कर सकता है     \n",
              "15  BMC की अपील  अगले सात दिनों तक गरम पानी का सेवन करें                                                                                                                                                  \n",
              "20  पटना  लालू  तेजस्वी को एक और झटका  तेघड़ा राजद MLA विरेंद्र कुमार JDU में शामिल Patna  BiharAssemblyElections2020  RJD  JDU  VirendraKumar                                                            \n",
              "24  बिहार  50 साल से ज्यादा उम्र के पुलिसकर्मियों के काम की होगी समीक्षा  पुलिस एसोसिएशन ने जताई नाराजगी Bihar  BiharPolice  nitishKumar                                                                  \n",
              "\n",
              "   Predicted_Labels  \n",
              "1   offensive        \n",
              "8   offensive        \n",
              "15  offensive        \n",
              "20  offensive        \n",
              "24  offensive        "
            ]
          },
          "metadata": {
            "tags": []
          },
          "execution_count": 28
        }
      ]
    },
    {
      "cell_type": "code",
      "metadata": {
        "colab": {
          "base_uri": "https://localhost:8080/",
          "height": 297
        },
        "id": "m0PdAD08h4Dd",
        "outputId": "a8d30fe5-c2c0-4bbc-e86f-8f27acb02187"
      },
      "source": [
        "print(defamation_test.shape)\r\n",
        "defamation_test.head()"
      ],
      "execution_count": 29,
      "outputs": [
        {
          "output_type": "stream",
          "text": [
            "(123, 3)\n"
          ],
          "name": "stdout"
        },
        {
          "output_type": "execute_result",
          "data": {
            "text/html": [
              "<div>\n",
              "<style scoped>\n",
              "    .dataframe tbody tr th:only-of-type {\n",
              "        vertical-align: middle;\n",
              "    }\n",
              "\n",
              "    .dataframe tbody tr th {\n",
              "        vertical-align: top;\n",
              "    }\n",
              "\n",
              "    .dataframe thead th {\n",
              "        text-align: right;\n",
              "    }\n",
              "</style>\n",
              "<table border=\"1\" class=\"dataframe\">\n",
              "  <thead>\n",
              "    <tr style=\"text-align: right;\">\n",
              "      <th></th>\n",
              "      <th>ID</th>\n",
              "      <th>Post</th>\n",
              "      <th>Predicted_Labels</th>\n",
              "    </tr>\n",
              "  </thead>\n",
              "  <tbody>\n",
              "    <tr>\n",
              "      <th>14</th>\n",
              "      <td>15</td>\n",
              "      <td>ishiviparihar  Baklol801 सुन कमीनी तेरे से अच्छी हिंदी  ओर इंग्लिश आती है  ओर अपनी औकात में रह के बोल  तेरे को कुछ बोली नही हूं मैं  अगर बीच मे आयी तो बीच मे से ही फाड़ दूंगी  ओर लिखने की बात है तो कीबोर्ड से ऑटोटायपिंग भी होता है  इसलिये अपनी अम्मा को बोल जो बोलना है    निकल</td>\n",
              "      <td>defamation</td>\n",
              "    </tr>\n",
              "    <tr>\n",
              "      <th>29</th>\n",
              "      <td>30</td>\n",
              "      <td>दोस्तों मैंने इस्तीफा देकर सही किया ना अगर हां तो रिट्वीट करें  वरना लाइक करें  pic twitter com 6bdeyDTfHz</td>\n",
              "      <td>defamation</td>\n",
              "    </tr>\n",
              "    <tr>\n",
              "      <th>48</th>\n",
              "      <td>49</td>\n",
              "      <td>जिस राज्य में 40 लाख प्रवासी जन आए हों  वहां कोरोना संक्रमण की स्थिति अन्य सम्पन्न राज्यों की तुलना में नियंत्रित है हमने अपने एक एक नागरिक की सुरक्षा सुनिश्चित की है  यह सब इसलिए संभव हो सका क्योंकि यहां एक टीम काम कर रही थी कोरोना वॉरियर्स को नमन</td>\n",
              "      <td>defamation</td>\n",
              "    </tr>\n",
              "    <tr>\n",
              "      <th>66</th>\n",
              "      <td>67</td>\n",
              "      <td>KanganaTeam  Sanjay  baroda पीओके में बनी आतंकी के बनकर पर सर्जिकल स्ट्राइक बीएमसी ने कर दी</td>\n",
              "      <td>defamation</td>\n",
              "    </tr>\n",
              "    <tr>\n",
              "      <th>67</th>\n",
              "      <td>68</td>\n",
              "      <td>MP अपने अधिकार के लिए नही बोल सकते तो जनता के लिए क्या करेंगे  सांसदों को मोदी जी से पूछना चाहिए कि 8000 करोड़ की नई जहाज अपने ठाट के लिए क्यों खरीद रहे हैं वर्तमान व्यवस्था पर्याप्त है  MPLAD दो साल के लिए काट दिया जो इतनी ही राशि का है  इससे जनता की भलाई होता है  INCIndia</td>\n",
              "      <td>defamation</td>\n",
              "    </tr>\n",
              "  </tbody>\n",
              "</table>\n",
              "</div>"
            ],
            "text/plain": [
              "    ID  \\\n",
              "14  15   \n",
              "29  30   \n",
              "48  49   \n",
              "66  67   \n",
              "67  68   \n",
              "\n",
              "                                                                                                                                                                                                                                                                                          Post  \\\n",
              "14   ishiviparihar  Baklol801 सुन कमीनी तेरे से अच्छी हिंदी  ओर इंग्लिश आती है  ओर अपनी औकात में रह के बोल  तेरे को कुछ बोली नही हूं मैं  अगर बीच मे आयी तो बीच मे से ही फाड़ दूंगी  ओर लिखने की बात है तो कीबोर्ड से ऑटोटायपिंग भी होता है  इसलिये अपनी अम्मा को बोल जो बोलना है    निकल        \n",
              "29  दोस्तों मैंने इस्तीफा देकर सही किया ना अगर हां तो रिट्वीट करें  वरना लाइक करें  pic twitter com 6bdeyDTfHz                                                                                                                                                                                   \n",
              "48  जिस राज्य में 40 लाख प्रवासी जन आए हों  वहां कोरोना संक्रमण की स्थिति अन्य सम्पन्न राज्यों की तुलना में नियंत्रित है हमने अपने एक एक नागरिक की सुरक्षा सुनिश्चित की है  यह सब इसलिए संभव हो सका क्योंकि यहां एक टीम काम कर रही थी कोरोना वॉरियर्स को नमन                                     \n",
              "66   KanganaTeam  Sanjay  baroda पीओके में बनी आतंकी के बनकर पर सर्जिकल स्ट्राइक बीएमसी ने कर दी                                                                                                                                                                                                 \n",
              "67  MP अपने अधिकार के लिए नही बोल सकते तो जनता के लिए क्या करेंगे  सांसदों को मोदी जी से पूछना चाहिए कि 8000 करोड़ की नई जहाज अपने ठाट के लिए क्यों खरीद रहे हैं वर्तमान व्यवस्था पर्याप्त है  MPLAD दो साल के लिए काट दिया जो इतनी ही राशि का है  इससे जनता की भलाई होता है  INCIndia           \n",
              "\n",
              "   Predicted_Labels  \n",
              "14  defamation       \n",
              "29  defamation       \n",
              "48  defamation       \n",
              "66  defamation       \n",
              "67  defamation       "
            ]
          },
          "metadata": {
            "tags": []
          },
          "execution_count": 29
        }
      ]
    },
    {
      "cell_type": "markdown",
      "metadata": {
        "id": "hniQP7qP5uFG"
      },
      "source": [
        "#### **TOP NAMED ENTITIES IN PREDICTED TEST FOR FAKE,HATE,OFFENSIVE AND DEFAMATION LABELS :**"
      ]
    },
    {
      "cell_type": "code",
      "metadata": {
        "colab": {
          "base_uri": "https://localhost:8080/"
        },
        "id": "irb3D17xnJZS",
        "outputId": "e3eeaa7e-92f1-4520-bd8b-dcac9377392d"
      },
      "source": [
        "# embedding package for english \r\n",
        "downloader.download(\"embeddings2.en\")\r\n",
        "# embedding package for hindi\r\n",
        "downloader.download(\"embeddings2.hi\")\r\n",
        "# named entity recognition package for english \r\n",
        "downloader.download(\"ner2.en\")\r\n",
        "# named entity recognition package for english \r\n",
        "downloader.download(\"ner2.hi\")"
      ],
      "execution_count": 30,
      "outputs": [
        {
          "output_type": "stream",
          "text": [
            "[polyglot_data] Downloading package embeddings2.en to\n",
            "[polyglot_data]     /root/polyglot_data...\n",
            "[polyglot_data] Downloading package embeddings2.hi to\n",
            "[polyglot_data]     /root/polyglot_data...\n",
            "[polyglot_data] Downloading package ner2.en to /root/polyglot_data...\n",
            "[polyglot_data] Downloading package ner2.hi to /root/polyglot_data...\n"
          ],
          "name": "stdout"
        },
        {
          "output_type": "execute_result",
          "data": {
            "text/plain": [
              "True"
            ]
          },
          "metadata": {
            "tags": []
          },
          "execution_count": 30
        }
      ]
    },
    {
      "cell_type": "code",
      "metadata": {
        "id": "c_WZfZMZnJeK"
      },
      "source": [
        "# this function removes named entity for the given language code \r\n",
        "def named_entity_recognition(data,code,ner_list):\r\n",
        "  \"\"\"\r\n",
        "  input   : data : post (not lists of posts only one post)\r\n",
        "            code : language code either english(\"en\") or hindi(\"hi\") \r\n",
        "            ner_list: list containing the named entities \r\n",
        "  returns : named recognized entities in the data given as input appended to the given ner_list\r\n",
        "  \"\"\"\r\n",
        "  l=[]\r\n",
        "  entity=Text(data,hint_language_code=code).entities\r\n",
        "  ner=[]\r\n",
        "  for o in entity:\r\n",
        "    ner.append(\" \".join(o))  \r\n",
        "  for item in ner:\r\n",
        "    ner_list.extend(item.split()) \r\n",
        "  new=list(data.split(\" \"))\r\n",
        "  for y in new:\r\n",
        "    if y in ner_list:\r\n",
        "      new.remove(y)\r\n",
        "  l.append(new)\r\n",
        "  return ner_list\r\n",
        "\r\n",
        "# creates the list of named entities in the dataset given as input \r\n",
        "def return_named_entities(dataset):\r\n",
        "  \"\"\"\r\n",
        "  input   : dataset : cleaned binary label data \r\n",
        "  returns : list of named entities recognized in the dataset posts\r\n",
        "  \"\"\"\r\n",
        "  cleaned_df_hindi=pd.DataFrame()\r\n",
        "  cleaned_df_hindi['ID']=dataset['ID']\r\n",
        "  data=dataset['Post']\r\n",
        "  ner_list=[]\r\n",
        "  for d in data:\r\n",
        "    ner_list=named_entity_recognition(d,\"hi\",ner_list)\r\n",
        "  return ner_list\r\n",
        "\r\n",
        "# creates a bar plot where named entity along xaxis and frequency along y axis\r\n",
        "def ner_plot(df):\r\n",
        "  \"\"\"\r\n",
        "  input : df - dataframe \r\n",
        "  plots : bar plot (named entities vs frequency)\r\n",
        "  \"\"\"\r\n",
        "  plt.figure(figsize=(12,5))\r\n",
        "  ax1=sns.barplot(x=\"English Words\",y=\"Frequency\",data=df,palette=\"OrRd_r\")\r\n",
        "  for tick in ax1.get_xticklabels():\r\n",
        "    tick.set_rotation(0) \r\n",
        "  plt.xlabel(\"Words\")\r\n",
        "  plt.ylabel(\"Frequency\")\r\n",
        "  ax1.set_yticks([])\r\n",
        "  return \r\n",
        "\r\n",
        "# creates the dataframe containing the named entity in a column and corresponding frequency in other column and plot \r\n",
        "def NamedEntityFrequency(df,english_words):\r\n",
        "  \"\"\"\r\n",
        "  input : df - dataset \r\n",
        "          english_words - corresponding english word for each hindi word named entity\r\n",
        "  returns : dataframe containing the named entities with corresponding frequency in given dataset df\r\n",
        "  plots : named entities with frequency\r\n",
        "  \"\"\"\r\n",
        "  ner_list=return_named_entities(df)\r\n",
        "  # gives set of unique words \r\n",
        "  unique_words = set(ner_list) \r\n",
        "  my_dict={}\r\n",
        "  for words in unique_words : \r\n",
        "    my_dict[words]=ner_list.count(words)\r\n",
        "  key_list=[]\r\n",
        "  value_list=[]\r\n",
        "  for k,v in my_dict.items():\r\n",
        "    key_list.append(k)\r\n",
        "    value_list.append(v)\r\n",
        "  ner_df=pd.DataFrame()\r\n",
        "  ner_df[\"Words\"]=key_list\r\n",
        "  ner_df[\"Frequency\"]=value_list\r\n",
        "  top_ner_words=ner_df.sort_values(by=\"Frequency\",ascending=False).head(10)\r\n",
        "  top_ner_words[\"English Words\"]=english_words\r\n",
        "  ner_plot(top_ner_words)\r\n",
        "  return top_ner_words"
      ],
      "execution_count": 31,
      "outputs": []
    },
    {
      "cell_type": "code",
      "metadata": {
        "colab": {
          "base_uri": "https://localhost:8080/",
          "height": 679
        },
        "id": "fJ5fEU9InJgo",
        "outputId": "63891eea-5f01-4695-b4f6-a18865f442d0"
      },
      "source": [
        "fake_english_words=[\"India\",\"Modi\",\"Delhi\",\"Pakisthan\",\"Mumbai\",\"Riya\",\"Kashmir\",\"Region\",\"BJP\",\"Lion\"]\r\n",
        "print(\"FAKE DATASET \")\r\n",
        "NamedEntityFrequency(fake_test,fake_english_words)"
      ],
      "execution_count": 32,
      "outputs": [
        {
          "output_type": "stream",
          "text": [
            "FAKE DATASET \n"
          ],
          "name": "stdout"
        },
        {
          "output_type": "execute_result",
          "data": {
            "text/html": [
              "<div>\n",
              "<style scoped>\n",
              "    .dataframe tbody tr th:only-of-type {\n",
              "        vertical-align: middle;\n",
              "    }\n",
              "\n",
              "    .dataframe tbody tr th {\n",
              "        vertical-align: top;\n",
              "    }\n",
              "\n",
              "    .dataframe thead th {\n",
              "        text-align: right;\n",
              "    }\n",
              "</style>\n",
              "<table border=\"1\" class=\"dataframe\">\n",
              "  <thead>\n",
              "    <tr style=\"text-align: right;\">\n",
              "      <th></th>\n",
              "      <th>Words</th>\n",
              "      <th>Frequency</th>\n",
              "      <th>English Words</th>\n",
              "    </tr>\n",
              "  </thead>\n",
              "  <tbody>\n",
              "    <tr>\n",
              "      <th>311</th>\n",
              "      <td>भारत</td>\n",
              "      <td>35</td>\n",
              "      <td>India</td>\n",
              "    </tr>\n",
              "    <tr>\n",
              "      <th>15</th>\n",
              "      <td>मोदी</td>\n",
              "      <td>25</td>\n",
              "      <td>Modi</td>\n",
              "    </tr>\n",
              "    <tr>\n",
              "      <th>55</th>\n",
              "      <td>दिल्ली</td>\n",
              "      <td>15</td>\n",
              "      <td>Delhi</td>\n",
              "    </tr>\n",
              "    <tr>\n",
              "      <th>128</th>\n",
              "      <td>पाकिस्तान</td>\n",
              "      <td>14</td>\n",
              "      <td>Pakisthan</td>\n",
              "    </tr>\n",
              "    <tr>\n",
              "      <th>59</th>\n",
              "      <td>मुंबई</td>\n",
              "      <td>11</td>\n",
              "      <td>Mumbai</td>\n",
              "    </tr>\n",
              "    <tr>\n",
              "      <th>255</th>\n",
              "      <td>कश्मीर</td>\n",
              "      <td>10</td>\n",
              "      <td>Riya</td>\n",
              "    </tr>\n",
              "    <tr>\n",
              "      <th>176</th>\n",
              "      <td>रिया</td>\n",
              "      <td>10</td>\n",
              "      <td>Kashmir</td>\n",
              "    </tr>\n",
              "    <tr>\n",
              "      <th>13</th>\n",
              "      <td>प्रदेश</td>\n",
              "      <td>7</td>\n",
              "      <td>Region</td>\n",
              "    </tr>\n",
              "    <tr>\n",
              "      <th>67</th>\n",
              "      <td>बीजेपी</td>\n",
              "      <td>7</td>\n",
              "      <td>BJP</td>\n",
              "    </tr>\n",
              "    <tr>\n",
              "      <th>80</th>\n",
              "      <td>बिहार</td>\n",
              "      <td>6</td>\n",
              "      <td>Lion</td>\n",
              "    </tr>\n",
              "  </tbody>\n",
              "</table>\n",
              "</div>"
            ],
            "text/plain": [
              "         Words  Frequency English Words\n",
              "311  भारत       35         India       \n",
              "15   मोदी       25         Modi        \n",
              "55   दिल्ली     15         Delhi       \n",
              "128  पाकिस्तान  14         Pakisthan   \n",
              "59   मुंबई      11         Mumbai      \n",
              "255  कश्मीर     10         Riya        \n",
              "176  रिया       10         Kashmir     \n",
              "13   प्रदेश     7          Region      \n",
              "67   बीजेपी     7          BJP         \n",
              "80   बिहार      6          Lion        "
            ]
          },
          "metadata": {
            "tags": []
          },
          "execution_count": 32
        },
        {
          "output_type": "display_data",
          "data": {
            "image/png": "[encoded data removed]",
            "text/plain": [
              "<Figure size 864x360 with 1 Axes>"
            ]
          },
          "metadata": {
            "tags": [],
            "needs_background": "light"
          }
        }
      ]
    },
    {
      "cell_type": "code",
      "metadata": {
        "colab": {
          "base_uri": "https://localhost:8080/",
          "height": 679
        },
        "id": "EcVHpD8kzdEs",
        "outputId": "60c72684-3fc8-4895-fdc7-21fe2cb02f8d"
      },
      "source": [
        "hate_english_words=[\"India\",\"Modi\",\"Pranab\",\"Lion\",\"Mukherjee\",\"JNU\",\"Rahul\",\"Region\",\"Ram\",\"Delhi\"]\r\n",
        "print(\"HATE DATASET \")\r\n",
        "NamedEntityFrequency(hate_test,hate_english_words)"
      ],
      "execution_count": 33,
      "outputs": [
        {
          "output_type": "stream",
          "text": [
            "HATE DATASET \n"
          ],
          "name": "stdout"
        },
        {
          "output_type": "execute_result",
          "data": {
            "text/html": [
              "<div>\n",
              "<style scoped>\n",
              "    .dataframe tbody tr th:only-of-type {\n",
              "        vertical-align: middle;\n",
              "    }\n",
              "\n",
              "    .dataframe tbody tr th {\n",
              "        vertical-align: top;\n",
              "    }\n",
              "\n",
              "    .dataframe thead th {\n",
              "        text-align: right;\n",
              "    }\n",
              "</style>\n",
              "<table border=\"1\" class=\"dataframe\">\n",
              "  <thead>\n",
              "    <tr style=\"text-align: right;\">\n",
              "      <th></th>\n",
              "      <th>Words</th>\n",
              "      <th>Frequency</th>\n",
              "      <th>English Words</th>\n",
              "    </tr>\n",
              "  </thead>\n",
              "  <tbody>\n",
              "    <tr>\n",
              "      <th>168</th>\n",
              "      <td>भारत</td>\n",
              "      <td>26</td>\n",
              "      <td>India</td>\n",
              "    </tr>\n",
              "    <tr>\n",
              "      <th>48</th>\n",
              "      <td>मोदी</td>\n",
              "      <td>22</td>\n",
              "      <td>Modi</td>\n",
              "    </tr>\n",
              "    <tr>\n",
              "      <th>151</th>\n",
              "      <td>प्रणब</td>\n",
              "      <td>10</td>\n",
              "      <td>Pranab</td>\n",
              "    </tr>\n",
              "    <tr>\n",
              "      <th>83</th>\n",
              "      <td>सिंह</td>\n",
              "      <td>9</td>\n",
              "      <td>Lion</td>\n",
              "    </tr>\n",
              "    <tr>\n",
              "      <th>267</th>\n",
              "      <td>मुखर्जी</td>\n",
              "      <td>8</td>\n",
              "      <td>Mukherjee</td>\n",
              "    </tr>\n",
              "    <tr>\n",
              "      <th>307</th>\n",
              "      <td>जेएनयू</td>\n",
              "      <td>8</td>\n",
              "      <td>JNU</td>\n",
              "    </tr>\n",
              "    <tr>\n",
              "      <th>54</th>\n",
              "      <td>चीन</td>\n",
              "      <td>7</td>\n",
              "      <td>Rahul</td>\n",
              "    </tr>\n",
              "    <tr>\n",
              "      <th>176</th>\n",
              "      <td>दिल्ली</td>\n",
              "      <td>7</td>\n",
              "      <td>Region</td>\n",
              "    </tr>\n",
              "    <tr>\n",
              "      <th>43</th>\n",
              "      <td>प्रदेश</td>\n",
              "      <td>7</td>\n",
              "      <td>Ram</td>\n",
              "    </tr>\n",
              "    <tr>\n",
              "      <th>172</th>\n",
              "      <td>राम</td>\n",
              "      <td>7</td>\n",
              "      <td>Delhi</td>\n",
              "    </tr>\n",
              "  </tbody>\n",
              "</table>\n",
              "</div>"
            ],
            "text/plain": [
              "       Words  Frequency English Words\n",
              "168  भारत     26         India       \n",
              "48   मोदी     22         Modi        \n",
              "151  प्रणब    10         Pranab      \n",
              "83   सिंह     9          Lion        \n",
              "267  मुखर्जी  8          Mukherjee   \n",
              "307  जेएनयू   8          JNU         \n",
              "54   चीन      7          Rahul       \n",
              "176  दिल्ली   7          Region      \n",
              "43   प्रदेश   7          Ram         \n",
              "172  राम      7          Delhi       "
            ]
          },
          "metadata": {
            "tags": []
          },
          "execution_count": 33
        },
        {
          "output_type": "display_data",
          "data": {
            "image/png": "[encoded data removed]",
            "text/plain": [
              "<Figure size 864x360 with 1 Axes>"
            ]
          },
          "metadata": {
            "tags": [],
            "needs_background": "light"
          }
        }
      ]
    },
    {
      "cell_type": "code",
      "metadata": {
        "colab": {
          "base_uri": "https://localhost:8080/",
          "height": 679
        },
        "id": "X17bGFvonJqz",
        "outputId": "f91f88a2-edbc-4890-a902-2e1204bf84d0"
      },
      "source": [
        "offensive_english_words=[\"India\",\"Modi\",\"China\",\"Congress\",\"Delhi\",\"Lion\",\"Gandhi\",\"Riya\",\"Mumbai\",\"Sanjay\"]\r\n",
        "print(\"OFFENSIVE DATASET \")\r\n",
        "NamedEntityFrequency(offensive_test,offensive_english_words)"
      ],
      "execution_count": 34,
      "outputs": [
        {
          "output_type": "stream",
          "text": [
            "OFFENSIVE DATASET \n"
          ],
          "name": "stdout"
        },
        {
          "output_type": "execute_result",
          "data": {
            "text/html": [
              "<div>\n",
              "<style scoped>\n",
              "    .dataframe tbody tr th:only-of-type {\n",
              "        vertical-align: middle;\n",
              "    }\n",
              "\n",
              "    .dataframe tbody tr th {\n",
              "        vertical-align: top;\n",
              "    }\n",
              "\n",
              "    .dataframe thead th {\n",
              "        text-align: right;\n",
              "    }\n",
              "</style>\n",
              "<table border=\"1\" class=\"dataframe\">\n",
              "  <thead>\n",
              "    <tr style=\"text-align: right;\">\n",
              "      <th></th>\n",
              "      <th>Words</th>\n",
              "      <th>Frequency</th>\n",
              "      <th>English Words</th>\n",
              "    </tr>\n",
              "  </thead>\n",
              "  <tbody>\n",
              "    <tr>\n",
              "      <th>145</th>\n",
              "      <td>भारत</td>\n",
              "      <td>34</td>\n",
              "      <td>India</td>\n",
              "    </tr>\n",
              "    <tr>\n",
              "      <th>36</th>\n",
              "      <td>मोदी</td>\n",
              "      <td>11</td>\n",
              "      <td>Modi</td>\n",
              "    </tr>\n",
              "    <tr>\n",
              "      <th>43</th>\n",
              "      <td>चीन</td>\n",
              "      <td>10</td>\n",
              "      <td>China</td>\n",
              "    </tr>\n",
              "    <tr>\n",
              "      <th>148</th>\n",
              "      <td>कांग्रेस</td>\n",
              "      <td>9</td>\n",
              "      <td>Congress</td>\n",
              "    </tr>\n",
              "    <tr>\n",
              "      <th>149</th>\n",
              "      <td>दिल्ली</td>\n",
              "      <td>9</td>\n",
              "      <td>Delhi</td>\n",
              "    </tr>\n",
              "    <tr>\n",
              "      <th>3</th>\n",
              "      <td>गांधी</td>\n",
              "      <td>8</td>\n",
              "      <td>Lion</td>\n",
              "    </tr>\n",
              "    <tr>\n",
              "      <th>68</th>\n",
              "      <td>सिंह</td>\n",
              "      <td>8</td>\n",
              "      <td>Gandhi</td>\n",
              "    </tr>\n",
              "    <tr>\n",
              "      <th>236</th>\n",
              "      <td>रिया</td>\n",
              "      <td>7</td>\n",
              "      <td>Riya</td>\n",
              "    </tr>\n",
              "    <tr>\n",
              "      <th>201</th>\n",
              "      <td>संजय</td>\n",
              "      <td>7</td>\n",
              "      <td>Mumbai</td>\n",
              "    </tr>\n",
              "    <tr>\n",
              "      <th>170</th>\n",
              "      <td>मुंबई</td>\n",
              "      <td>7</td>\n",
              "      <td>Sanjay</td>\n",
              "    </tr>\n",
              "  </tbody>\n",
              "</table>\n",
              "</div>"
            ],
            "text/plain": [
              "        Words  Frequency English Words\n",
              "145  भारत      34         India       \n",
              "36   मोदी      11         Modi        \n",
              "43   चीन       10         China       \n",
              "148  कांग्रेस  9          Congress    \n",
              "149  दिल्ली    9          Delhi       \n",
              "3    गांधी     8          Lion        \n",
              "68   सिंह      8          Gandhi      \n",
              "236  रिया      7          Riya        \n",
              "201  संजय      7          Mumbai      \n",
              "170  मुंबई     7          Sanjay      "
            ]
          },
          "metadata": {
            "tags": []
          },
          "execution_count": 34
        },
        {
          "output_type": "display_data",
          "data": {
            "image/png": "[encoded data removed]",
            "text/plain": [
              "<Figure size 864x360 with 1 Axes>"
            ]
          },
          "metadata": {
            "tags": [],
            "needs_background": "light"
          }
        }
      ]
    },
    {
      "cell_type": "code",
      "metadata": {
        "colab": {
          "base_uri": "https://localhost:8080/",
          "height": 679
        },
        "id": "19nQtg103YNm",
        "outputId": "4dcf3d48-afd9-4d82-a060-3ace7f1803e4"
      },
      "source": [
        "defamation_english_words=[\"Delhi\",\"India\",\"Modi\",\"Congress\",\"Bihar\",\"Riya\",\"JNU\",\"China\",\"Police\",\"Region\"]\r\n",
        "print(\"DEFAMATION DATASET \")\r\n",
        "NamedEntityFrequency(defamation_test,defamation_english_words)"
      ],
      "execution_count": 35,
      "outputs": [
        {
          "output_type": "stream",
          "text": [
            "DEFAMATION DATASET \n"
          ],
          "name": "stdout"
        },
        {
          "output_type": "execute_result",
          "data": {
            "text/html": [
              "<div>\n",
              "<style scoped>\n",
              "    .dataframe tbody tr th:only-of-type {\n",
              "        vertical-align: middle;\n",
              "    }\n",
              "\n",
              "    .dataframe tbody tr th {\n",
              "        vertical-align: top;\n",
              "    }\n",
              "\n",
              "    .dataframe thead th {\n",
              "        text-align: right;\n",
              "    }\n",
              "</style>\n",
              "<table border=\"1\" class=\"dataframe\">\n",
              "  <thead>\n",
              "    <tr style=\"text-align: right;\">\n",
              "      <th></th>\n",
              "      <th>Words</th>\n",
              "      <th>Frequency</th>\n",
              "      <th>English Words</th>\n",
              "    </tr>\n",
              "  </thead>\n",
              "  <tbody>\n",
              "    <tr>\n",
              "      <th>90</th>\n",
              "      <td>दिल्ली</td>\n",
              "      <td>14</td>\n",
              "      <td>Delhi</td>\n",
              "    </tr>\n",
              "    <tr>\n",
              "      <th>82</th>\n",
              "      <td>भारत</td>\n",
              "      <td>13</td>\n",
              "      <td>India</td>\n",
              "    </tr>\n",
              "    <tr>\n",
              "      <th>16</th>\n",
              "      <td>मोदी</td>\n",
              "      <td>10</td>\n",
              "      <td>Modi</td>\n",
              "    </tr>\n",
              "    <tr>\n",
              "      <th>88</th>\n",
              "      <td>कांग्रेस</td>\n",
              "      <td>7</td>\n",
              "      <td>Congress</td>\n",
              "    </tr>\n",
              "    <tr>\n",
              "      <th>130</th>\n",
              "      <td>बिहार</td>\n",
              "      <td>6</td>\n",
              "      <td>Bihar</td>\n",
              "    </tr>\n",
              "    <tr>\n",
              "      <th>147</th>\n",
              "      <td>रिया</td>\n",
              "      <td>6</td>\n",
              "      <td>Riya</td>\n",
              "    </tr>\n",
              "    <tr>\n",
              "      <th>17</th>\n",
              "      <td>चीन</td>\n",
              "      <td>6</td>\n",
              "      <td>JNU</td>\n",
              "    </tr>\n",
              "    <tr>\n",
              "      <th>152</th>\n",
              "      <td>जेएनयू</td>\n",
              "      <td>6</td>\n",
              "      <td>China</td>\n",
              "    </tr>\n",
              "    <tr>\n",
              "      <th>126</th>\n",
              "      <td>भाजपा</td>\n",
              "      <td>5</td>\n",
              "      <td>Police</td>\n",
              "    </tr>\n",
              "    <tr>\n",
              "      <th>39</th>\n",
              "      <td>सिंह</td>\n",
              "      <td>5</td>\n",
              "      <td>Region</td>\n",
              "    </tr>\n",
              "  </tbody>\n",
              "</table>\n",
              "</div>"
            ],
            "text/plain": [
              "        Words  Frequency English Words\n",
              "90   दिल्ली    14         Delhi       \n",
              "82   भारत      13         India       \n",
              "16   मोदी      10         Modi        \n",
              "88   कांग्रेस  7          Congress    \n",
              "130  बिहार     6          Bihar       \n",
              "147  रिया      6          Riya        \n",
              "17   चीन       6          JNU         \n",
              "152  जेएनयू    6          China       \n",
              "126  भाजपा     5          Police      \n",
              "39   सिंह      5          Region      "
            ]
          },
          "metadata": {
            "tags": []
          },
          "execution_count": 35
        },
        {
          "output_type": "display_data",
          "data": {
            "image/png": "[encoded data removed]",
            "text/plain": [
              "<Figure size 864x360 with 1 Axes>"
            ]
          },
          "metadata": {
            "tags": [],
            "needs_background": "light"
          }
        }
      ]
    }
  ]
}