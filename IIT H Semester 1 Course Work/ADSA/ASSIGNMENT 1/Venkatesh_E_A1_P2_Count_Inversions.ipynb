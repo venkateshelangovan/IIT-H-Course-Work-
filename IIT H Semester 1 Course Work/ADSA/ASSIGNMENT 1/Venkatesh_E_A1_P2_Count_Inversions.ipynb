{
 "cells": [
  {
   "cell_type": "code",
   "execution_count": 1,
   "metadata": {},
   "outputs": [],
   "source": [
    "# function to merge to two sorted sub-arrays \n",
    "def MergeProcedure(A,t,l,m,h):\n",
    "    inv_c=0\n",
    "    s1=l # starting index of sub-array 1\n",
    "    s2=m # starting index of sub-array 2\n",
    "    o=l # starting index of temporary storage array\n",
    "    \n",
    "    while s1<m and s2<=h: # starting index s1 less than mid and starting index s2 less than last element h that passed \n",
    "        if A[s1]<=A[s2]:\n",
    "            t[o]=A[s1] # store the elements pointed by s1 to temporary array as it is less than element pointed by s2\n",
    "            s1+=1 \n",
    "            o+=1 \n",
    "        else:\n",
    "            t[o]=A[s2]# store the elements pointed by s2 to temporary array as it is less than element pointed by s1\n",
    "            s2+=1 \n",
    "            o+=1 \n",
    "            inv_c+=(m-s1)\n",
    "            \n",
    "    while s1<m: # store the remaining elements to temporary array which is left in first half\n",
    "        t[o]=A[s1]\n",
    "        s1+=1 \n",
    "        o+=1 \n",
    "        \n",
    "    while s2<=h: # store the remaining elements to temporary array which is left in second half\n",
    "        t[o]=A[s2]\n",
    "        s2+=1 \n",
    "        o+=1 \n",
    "    \n",
    "    # store the elements in temporary array to original array \n",
    "    for i in range(l,h+1):\n",
    "        A[i]=t[i]\n",
    "    return inv_c"
   ]
  },
  {
   "cell_type": "code",
   "execution_count": 2,
   "metadata": {},
   "outputs": [],
   "source": [
    "# functions to count the number of inversions in a array\n",
    "def CountNoOfInversions(A,t,l,h):\n",
    "    c=0 # inversion count \n",
    "    m=(l+h)//2 # mid \n",
    "    if(l<h): # valid case \n",
    "        c+=CountNoOfInversions(A,t,l,m)+CountNoOfInversions(A,t,m+1,h)+MergeProcedure(A,t,l,m+1,h)\n",
    "    return c"
   ]
  },
  {
   "cell_type": "code",
   "execution_count": 3,
   "metadata": {},
   "outputs": [
    {
     "name": "stdout",
     "output_type": "stream",
     "text": [
      "10\n",
      "123 31312 32323 121323 121233312 23223 323234 232 1 234\n",
      "25\n"
     ]
    }
   ],
   "source": [
    "# main function \n",
    "n=int(input()) #enter the size of input array \n",
    "count_inversions=0\n",
    "if n>0:\n",
    "    a = list(map(int,input().strip().split()))[:n] #array of input of size n \n",
    "    t=[0]*n # temporary storage to have the sorted output array \n",
    "    count_inversions=CountNoOfInversions(a,t,0,n-1) # calling the function CountNoOfInversions and store the value returned by that function in count_inversions\n",
    "    print(count_inversions) #output expected \n",
    "else:\n",
    "    # if size of input is given 0 \n",
    "    print(count_inversions)"
   ]
  },
  {
   "cell_type": "code",
   "execution_count": null,
   "metadata": {},
   "outputs": [],
   "source": [
    "1\n",
    "4\n",
    "4\n",
    "4\n",
    "5\n",
    "3\n",
    "3\n",
    "1\n"
   ]
  }
 ],
 "metadata": {
  "kernelspec": {
   "display_name": "Python 3",
   "language": "python",
   "name": "python3"
  },
  "language_info": {
   "codemirror_mode": {
    "name": "ipython",
    "version": 3
   },
   "file_extension": ".py",
   "mimetype": "text/x-python",
   "name": "python",
   "nbconvert_exporter": "python",
   "pygments_lexer": "ipython3",
   "version": "3.7.3"
  }
 },
 "nbformat": 4,
 "nbformat_minor": 2
}
